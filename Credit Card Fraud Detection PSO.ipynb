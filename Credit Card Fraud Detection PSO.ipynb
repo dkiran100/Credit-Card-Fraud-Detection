{
 "cells": [
  {
   "cell_type": "code",
   "execution_count": 1,
   "metadata": {},
   "outputs": [
    {
     "name": "stdout",
     "output_type": "stream",
     "text": [
      "Requirement already satisfied: pyswarms in /Users/admin/anaconda3/lib/python3.7/site-packages (1.3.0)\n",
      "Requirement already satisfied: scipy in /Users/admin/anaconda3/lib/python3.7/site-packages (from pyswarms) (1.2.1)\n",
      "Requirement already satisfied: numpy in /Users/admin/anaconda3/lib/python3.7/site-packages (from pyswarms) (1.16.2)\n",
      "Requirement already satisfied: future in /Users/admin/anaconda3/lib/python3.7/site-packages (from pyswarms) (0.17.1)\n",
      "Requirement already satisfied: matplotlib>=1.3.1 in /Users/admin/anaconda3/lib/python3.7/site-packages (from pyswarms) (3.0.3)\n",
      "Requirement already satisfied: pyyaml in /Users/admin/anaconda3/lib/python3.7/site-packages (from pyswarms) (5.1)\n",
      "Requirement already satisfied: attrs in /Users/admin/anaconda3/lib/python3.7/site-packages (from pyswarms) (19.1.0)\n",
      "Requirement already satisfied: tqdm in /Users/admin/anaconda3/lib/python3.7/site-packages (from pyswarms) (4.31.1)\n",
      "Requirement already satisfied: cycler>=0.10 in /Users/admin/anaconda3/lib/python3.7/site-packages (from matplotlib>=1.3.1->pyswarms) (0.10.0)\n",
      "Requirement already satisfied: kiwisolver>=1.0.1 in /Users/admin/anaconda3/lib/python3.7/site-packages (from matplotlib>=1.3.1->pyswarms) (1.0.1)\n",
      "Requirement already satisfied: pyparsing!=2.0.4,!=2.1.2,!=2.1.6,>=2.0.1 in /Users/admin/anaconda3/lib/python3.7/site-packages (from matplotlib>=1.3.1->pyswarms) (2.3.1)\n",
      "Requirement already satisfied: python-dateutil>=2.1 in /Users/admin/anaconda3/lib/python3.7/site-packages (from matplotlib>=1.3.1->pyswarms) (2.8.0)\n",
      "Requirement already satisfied: six in /Users/admin/anaconda3/lib/python3.7/site-packages (from cycler>=0.10->matplotlib>=1.3.1->pyswarms) (1.12.0)\n",
      "Requirement already satisfied: setuptools in /Users/admin/anaconda3/lib/python3.7/site-packages (from kiwisolver>=1.0.1->matplotlib>=1.3.1->pyswarms) (50.3.2)\n",
      "Note: you may need to restart the kernel to use updated packages.\n"
     ]
    }
   ],
   "source": [
    "pip install pyswarms"
   ]
  },
  {
   "cell_type": "code",
   "execution_count": 2,
   "metadata": {},
   "outputs": [
    {
     "name": "stdout",
     "output_type": "stream",
     "text": [
      "Collecting pandas_ml\n",
      "\u001b[?25l  Downloading https://files.pythonhosted.org/packages/ae/72/6d90debfcb9ea74ec00927fa7ed0204dcc560b1f9ffcd8b239daa7fd106d/pandas_ml-0.6.1-py3-none-any.whl (100kB)\n",
      "\u001b[K    100% |████████████████████████████████| 102kB 317kB/s a 0:00:011\n",
      "\u001b[?25hRequirement already satisfied: pandas>=0.19.0 in /Users/admin/anaconda3/lib/python3.7/site-packages (from pandas_ml) (0.24.2)\n",
      "Collecting enum34 (from pandas_ml)\n",
      "  Downloading https://files.pythonhosted.org/packages/63/f6/ccb1c83687756aeabbf3ca0f213508fcfb03883ff200d201b3a4c60cedcc/enum34-1.1.10-py3-none-any.whl\n",
      "Requirement already satisfied: pytz>=2011k in /Users/admin/anaconda3/lib/python3.7/site-packages (from pandas>=0.19.0->pandas_ml) (2018.9)\n",
      "Requirement already satisfied: numpy>=1.12.0 in /Users/admin/anaconda3/lib/python3.7/site-packages (from pandas>=0.19.0->pandas_ml) (1.16.2)\n",
      "Requirement already satisfied: python-dateutil>=2.5.0 in /Users/admin/anaconda3/lib/python3.7/site-packages (from pandas>=0.19.0->pandas_ml) (2.8.0)\n",
      "Requirement already satisfied: six>=1.5 in /Users/admin/anaconda3/lib/python3.7/site-packages (from python-dateutil>=2.5.0->pandas>=0.19.0->pandas_ml) (1.12.0)\n",
      "Installing collected packages: enum34, pandas-ml\n",
      "Successfully installed enum34-1.1.10 pandas-ml-0.6.1\n",
      "Note: you may need to restart the kernel to use updated packages.\n"
     ]
    }
   ],
   "source": [
    "pip install pandas_ml"
   ]
  },
  {
   "cell_type": "code",
   "execution_count": 1,
   "metadata": {},
   "outputs": [],
   "source": [
    "import numpy as np\n",
    "import matplotlib.pyplot as plt\n",
    "import pandas as pd\n",
    "import pandas_ml as pdml\n",
    "from pandas_ml import ConfusionMatrix\n",
    "import datetime\n",
    "import imblearn\n",
    "# Import PySwarms\n",
    "import pyswarms as ps"
   ]
  },
  {
   "cell_type": "code",
   "execution_count": 2,
   "metadata": {},
   "outputs": [],
   "source": [
    "df = pd.read_csv('creditcard.csv', low_memory=False)\n",
    "df = df.drop(['Time','Amount'],axis=1)\n",
    "X = df.iloc[:,:-1]\n",
    "y = df['Class']"
   ]
  },
  {
   "cell_type": "code",
   "execution_count": 3,
   "metadata": {},
   "outputs": [
    {
     "data": {
      "text/html": [
       "<div>\n",
       "<style scoped>\n",
       "    .dataframe tbody tr th:only-of-type {\n",
       "        vertical-align: middle;\n",
       "    }\n",
       "\n",
       "    .dataframe tbody tr th {\n",
       "        vertical-align: top;\n",
       "    }\n",
       "\n",
       "    .dataframe thead th {\n",
       "        text-align: right;\n",
       "    }\n",
       "</style>\n",
       "<table border=\"1\" class=\"dataframe\">\n",
       "  <thead>\n",
       "    <tr style=\"text-align: right;\">\n",
       "      <th></th>\n",
       "      <th>V1</th>\n",
       "      <th>V2</th>\n",
       "      <th>V3</th>\n",
       "      <th>V4</th>\n",
       "      <th>V5</th>\n",
       "      <th>V6</th>\n",
       "      <th>V7</th>\n",
       "      <th>V8</th>\n",
       "      <th>V9</th>\n",
       "      <th>V10</th>\n",
       "      <th>...</th>\n",
       "      <th>V20</th>\n",
       "      <th>V21</th>\n",
       "      <th>V22</th>\n",
       "      <th>V23</th>\n",
       "      <th>V24</th>\n",
       "      <th>V25</th>\n",
       "      <th>V26</th>\n",
       "      <th>V27</th>\n",
       "      <th>V28</th>\n",
       "      <th>Class</th>\n",
       "    </tr>\n",
       "  </thead>\n",
       "  <tbody>\n",
       "    <tr>\n",
       "      <th>0</th>\n",
       "      <td>-1.359807</td>\n",
       "      <td>-0.072781</td>\n",
       "      <td>2.536347</td>\n",
       "      <td>1.378155</td>\n",
       "      <td>-0.338321</td>\n",
       "      <td>0.462388</td>\n",
       "      <td>0.239599</td>\n",
       "      <td>0.098698</td>\n",
       "      <td>0.363787</td>\n",
       "      <td>0.090794</td>\n",
       "      <td>...</td>\n",
       "      <td>0.251412</td>\n",
       "      <td>-0.018307</td>\n",
       "      <td>0.277838</td>\n",
       "      <td>-0.110474</td>\n",
       "      <td>0.066928</td>\n",
       "      <td>0.128539</td>\n",
       "      <td>-0.189115</td>\n",
       "      <td>0.133558</td>\n",
       "      <td>-0.021053</td>\n",
       "      <td>0</td>\n",
       "    </tr>\n",
       "    <tr>\n",
       "      <th>1</th>\n",
       "      <td>1.191857</td>\n",
       "      <td>0.266151</td>\n",
       "      <td>0.166480</td>\n",
       "      <td>0.448154</td>\n",
       "      <td>0.060018</td>\n",
       "      <td>-0.082361</td>\n",
       "      <td>-0.078803</td>\n",
       "      <td>0.085102</td>\n",
       "      <td>-0.255425</td>\n",
       "      <td>-0.166974</td>\n",
       "      <td>...</td>\n",
       "      <td>-0.069083</td>\n",
       "      <td>-0.225775</td>\n",
       "      <td>-0.638672</td>\n",
       "      <td>0.101288</td>\n",
       "      <td>-0.339846</td>\n",
       "      <td>0.167170</td>\n",
       "      <td>0.125895</td>\n",
       "      <td>-0.008983</td>\n",
       "      <td>0.014724</td>\n",
       "      <td>0</td>\n",
       "    </tr>\n",
       "    <tr>\n",
       "      <th>2</th>\n",
       "      <td>-1.358354</td>\n",
       "      <td>-1.340163</td>\n",
       "      <td>1.773209</td>\n",
       "      <td>0.379780</td>\n",
       "      <td>-0.503198</td>\n",
       "      <td>1.800499</td>\n",
       "      <td>0.791461</td>\n",
       "      <td>0.247676</td>\n",
       "      <td>-1.514654</td>\n",
       "      <td>0.207643</td>\n",
       "      <td>...</td>\n",
       "      <td>0.524980</td>\n",
       "      <td>0.247998</td>\n",
       "      <td>0.771679</td>\n",
       "      <td>0.909412</td>\n",
       "      <td>-0.689281</td>\n",
       "      <td>-0.327642</td>\n",
       "      <td>-0.139097</td>\n",
       "      <td>-0.055353</td>\n",
       "      <td>-0.059752</td>\n",
       "      <td>0</td>\n",
       "    </tr>\n",
       "    <tr>\n",
       "      <th>3</th>\n",
       "      <td>-0.966272</td>\n",
       "      <td>-0.185226</td>\n",
       "      <td>1.792993</td>\n",
       "      <td>-0.863291</td>\n",
       "      <td>-0.010309</td>\n",
       "      <td>1.247203</td>\n",
       "      <td>0.237609</td>\n",
       "      <td>0.377436</td>\n",
       "      <td>-1.387024</td>\n",
       "      <td>-0.054952</td>\n",
       "      <td>...</td>\n",
       "      <td>-0.208038</td>\n",
       "      <td>-0.108300</td>\n",
       "      <td>0.005274</td>\n",
       "      <td>-0.190321</td>\n",
       "      <td>-1.175575</td>\n",
       "      <td>0.647376</td>\n",
       "      <td>-0.221929</td>\n",
       "      <td>0.062723</td>\n",
       "      <td>0.061458</td>\n",
       "      <td>0</td>\n",
       "    </tr>\n",
       "    <tr>\n",
       "      <th>4</th>\n",
       "      <td>-1.158233</td>\n",
       "      <td>0.877737</td>\n",
       "      <td>1.548718</td>\n",
       "      <td>0.403034</td>\n",
       "      <td>-0.407193</td>\n",
       "      <td>0.095921</td>\n",
       "      <td>0.592941</td>\n",
       "      <td>-0.270533</td>\n",
       "      <td>0.817739</td>\n",
       "      <td>0.753074</td>\n",
       "      <td>...</td>\n",
       "      <td>0.408542</td>\n",
       "      <td>-0.009431</td>\n",
       "      <td>0.798278</td>\n",
       "      <td>-0.137458</td>\n",
       "      <td>0.141267</td>\n",
       "      <td>-0.206010</td>\n",
       "      <td>0.502292</td>\n",
       "      <td>0.219422</td>\n",
       "      <td>0.215153</td>\n",
       "      <td>0</td>\n",
       "    </tr>\n",
       "    <tr>\n",
       "      <th>5</th>\n",
       "      <td>-0.425966</td>\n",
       "      <td>0.960523</td>\n",
       "      <td>1.141109</td>\n",
       "      <td>-0.168252</td>\n",
       "      <td>0.420987</td>\n",
       "      <td>-0.029728</td>\n",
       "      <td>0.476201</td>\n",
       "      <td>0.260314</td>\n",
       "      <td>-0.568671</td>\n",
       "      <td>-0.371407</td>\n",
       "      <td>...</td>\n",
       "      <td>0.084968</td>\n",
       "      <td>-0.208254</td>\n",
       "      <td>-0.559825</td>\n",
       "      <td>-0.026398</td>\n",
       "      <td>-0.371427</td>\n",
       "      <td>-0.232794</td>\n",
       "      <td>0.105915</td>\n",
       "      <td>0.253844</td>\n",
       "      <td>0.081080</td>\n",
       "      <td>0</td>\n",
       "    </tr>\n",
       "    <tr>\n",
       "      <th>6</th>\n",
       "      <td>1.229658</td>\n",
       "      <td>0.141004</td>\n",
       "      <td>0.045371</td>\n",
       "      <td>1.202613</td>\n",
       "      <td>0.191881</td>\n",
       "      <td>0.272708</td>\n",
       "      <td>-0.005159</td>\n",
       "      <td>0.081213</td>\n",
       "      <td>0.464960</td>\n",
       "      <td>-0.099254</td>\n",
       "      <td>...</td>\n",
       "      <td>-0.219633</td>\n",
       "      <td>-0.167716</td>\n",
       "      <td>-0.270710</td>\n",
       "      <td>-0.154104</td>\n",
       "      <td>-0.780055</td>\n",
       "      <td>0.750137</td>\n",
       "      <td>-0.257237</td>\n",
       "      <td>0.034507</td>\n",
       "      <td>0.005168</td>\n",
       "      <td>0</td>\n",
       "    </tr>\n",
       "    <tr>\n",
       "      <th>7</th>\n",
       "      <td>-0.644269</td>\n",
       "      <td>1.417964</td>\n",
       "      <td>1.074380</td>\n",
       "      <td>-0.492199</td>\n",
       "      <td>0.948934</td>\n",
       "      <td>0.428118</td>\n",
       "      <td>1.120631</td>\n",
       "      <td>-3.807864</td>\n",
       "      <td>0.615375</td>\n",
       "      <td>1.249376</td>\n",
       "      <td>...</td>\n",
       "      <td>-0.156742</td>\n",
       "      <td>1.943465</td>\n",
       "      <td>-1.015455</td>\n",
       "      <td>0.057504</td>\n",
       "      <td>-0.649709</td>\n",
       "      <td>-0.415267</td>\n",
       "      <td>-0.051634</td>\n",
       "      <td>-1.206921</td>\n",
       "      <td>-1.085339</td>\n",
       "      <td>0</td>\n",
       "    </tr>\n",
       "    <tr>\n",
       "      <th>8</th>\n",
       "      <td>-0.894286</td>\n",
       "      <td>0.286157</td>\n",
       "      <td>-0.113192</td>\n",
       "      <td>-0.271526</td>\n",
       "      <td>2.669599</td>\n",
       "      <td>3.721818</td>\n",
       "      <td>0.370145</td>\n",
       "      <td>0.851084</td>\n",
       "      <td>-0.392048</td>\n",
       "      <td>-0.410430</td>\n",
       "      <td>...</td>\n",
       "      <td>0.052736</td>\n",
       "      <td>-0.073425</td>\n",
       "      <td>-0.268092</td>\n",
       "      <td>-0.204233</td>\n",
       "      <td>1.011592</td>\n",
       "      <td>0.373205</td>\n",
       "      <td>-0.384157</td>\n",
       "      <td>0.011747</td>\n",
       "      <td>0.142404</td>\n",
       "      <td>0</td>\n",
       "    </tr>\n",
       "    <tr>\n",
       "      <th>9</th>\n",
       "      <td>-0.338262</td>\n",
       "      <td>1.119593</td>\n",
       "      <td>1.044367</td>\n",
       "      <td>-0.222187</td>\n",
       "      <td>0.499361</td>\n",
       "      <td>-0.246761</td>\n",
       "      <td>0.651583</td>\n",
       "      <td>0.069539</td>\n",
       "      <td>-0.736727</td>\n",
       "      <td>-0.366846</td>\n",
       "      <td>...</td>\n",
       "      <td>0.203711</td>\n",
       "      <td>-0.246914</td>\n",
       "      <td>-0.633753</td>\n",
       "      <td>-0.120794</td>\n",
       "      <td>-0.385050</td>\n",
       "      <td>-0.069733</td>\n",
       "      <td>0.094199</td>\n",
       "      <td>0.246219</td>\n",
       "      <td>0.083076</td>\n",
       "      <td>0</td>\n",
       "    </tr>\n",
       "    <tr>\n",
       "      <th>10</th>\n",
       "      <td>1.449044</td>\n",
       "      <td>-1.176339</td>\n",
       "      <td>0.913860</td>\n",
       "      <td>-1.375667</td>\n",
       "      <td>-1.971383</td>\n",
       "      <td>-0.629152</td>\n",
       "      <td>-1.423236</td>\n",
       "      <td>0.048456</td>\n",
       "      <td>-1.720408</td>\n",
       "      <td>1.626659</td>\n",
       "      <td>...</td>\n",
       "      <td>-0.387226</td>\n",
       "      <td>-0.009302</td>\n",
       "      <td>0.313894</td>\n",
       "      <td>0.027740</td>\n",
       "      <td>0.500512</td>\n",
       "      <td>0.251367</td>\n",
       "      <td>-0.129478</td>\n",
       "      <td>0.042850</td>\n",
       "      <td>0.016253</td>\n",
       "      <td>0</td>\n",
       "    </tr>\n",
       "    <tr>\n",
       "      <th>11</th>\n",
       "      <td>0.384978</td>\n",
       "      <td>0.616109</td>\n",
       "      <td>-0.874300</td>\n",
       "      <td>-0.094019</td>\n",
       "      <td>2.924584</td>\n",
       "      <td>3.317027</td>\n",
       "      <td>0.470455</td>\n",
       "      <td>0.538247</td>\n",
       "      <td>-0.558895</td>\n",
       "      <td>0.309755</td>\n",
       "      <td>...</td>\n",
       "      <td>0.125992</td>\n",
       "      <td>0.049924</td>\n",
       "      <td>0.238422</td>\n",
       "      <td>0.009130</td>\n",
       "      <td>0.996710</td>\n",
       "      <td>-0.767315</td>\n",
       "      <td>-0.492208</td>\n",
       "      <td>0.042472</td>\n",
       "      <td>-0.054337</td>\n",
       "      <td>0</td>\n",
       "    </tr>\n",
       "    <tr>\n",
       "      <th>12</th>\n",
       "      <td>1.249999</td>\n",
       "      <td>-1.221637</td>\n",
       "      <td>0.383930</td>\n",
       "      <td>-1.234899</td>\n",
       "      <td>-1.485419</td>\n",
       "      <td>-0.753230</td>\n",
       "      <td>-0.689405</td>\n",
       "      <td>-0.227487</td>\n",
       "      <td>-2.094011</td>\n",
       "      <td>1.323729</td>\n",
       "      <td>...</td>\n",
       "      <td>-0.102756</td>\n",
       "      <td>-0.231809</td>\n",
       "      <td>-0.483285</td>\n",
       "      <td>0.084668</td>\n",
       "      <td>0.392831</td>\n",
       "      <td>0.161135</td>\n",
       "      <td>-0.354990</td>\n",
       "      <td>0.026416</td>\n",
       "      <td>0.042422</td>\n",
       "      <td>0</td>\n",
       "    </tr>\n",
       "    <tr>\n",
       "      <th>13</th>\n",
       "      <td>1.069374</td>\n",
       "      <td>0.287722</td>\n",
       "      <td>0.828613</td>\n",
       "      <td>2.712520</td>\n",
       "      <td>-0.178398</td>\n",
       "      <td>0.337544</td>\n",
       "      <td>-0.096717</td>\n",
       "      <td>0.115982</td>\n",
       "      <td>-0.221083</td>\n",
       "      <td>0.460230</td>\n",
       "      <td>...</td>\n",
       "      <td>-0.153197</td>\n",
       "      <td>-0.036876</td>\n",
       "      <td>0.074412</td>\n",
       "      <td>-0.071407</td>\n",
       "      <td>0.104744</td>\n",
       "      <td>0.548265</td>\n",
       "      <td>0.104094</td>\n",
       "      <td>0.021491</td>\n",
       "      <td>0.021293</td>\n",
       "      <td>0</td>\n",
       "    </tr>\n",
       "    <tr>\n",
       "      <th>14</th>\n",
       "      <td>-2.791855</td>\n",
       "      <td>-0.327771</td>\n",
       "      <td>1.641750</td>\n",
       "      <td>1.767473</td>\n",
       "      <td>-0.136588</td>\n",
       "      <td>0.807596</td>\n",
       "      <td>-0.422911</td>\n",
       "      <td>-1.907107</td>\n",
       "      <td>0.755713</td>\n",
       "      <td>1.151087</td>\n",
       "      <td>...</td>\n",
       "      <td>-1.582122</td>\n",
       "      <td>1.151663</td>\n",
       "      <td>0.222182</td>\n",
       "      <td>1.020586</td>\n",
       "      <td>0.028317</td>\n",
       "      <td>-0.232746</td>\n",
       "      <td>-0.235557</td>\n",
       "      <td>-0.164778</td>\n",
       "      <td>-0.030154</td>\n",
       "      <td>0</td>\n",
       "    </tr>\n",
       "    <tr>\n",
       "      <th>15</th>\n",
       "      <td>-0.752417</td>\n",
       "      <td>0.345485</td>\n",
       "      <td>2.057323</td>\n",
       "      <td>-1.468643</td>\n",
       "      <td>-1.158394</td>\n",
       "      <td>-0.077850</td>\n",
       "      <td>-0.608581</td>\n",
       "      <td>0.003603</td>\n",
       "      <td>-0.436167</td>\n",
       "      <td>0.747731</td>\n",
       "      <td>...</td>\n",
       "      <td>0.263451</td>\n",
       "      <td>0.499625</td>\n",
       "      <td>1.353650</td>\n",
       "      <td>-0.256573</td>\n",
       "      <td>-0.065084</td>\n",
       "      <td>-0.039124</td>\n",
       "      <td>-0.087086</td>\n",
       "      <td>-0.180998</td>\n",
       "      <td>0.129394</td>\n",
       "      <td>0</td>\n",
       "    </tr>\n",
       "    <tr>\n",
       "      <th>16</th>\n",
       "      <td>1.103215</td>\n",
       "      <td>-0.040296</td>\n",
       "      <td>1.267332</td>\n",
       "      <td>1.289091</td>\n",
       "      <td>-0.735997</td>\n",
       "      <td>0.288069</td>\n",
       "      <td>-0.586057</td>\n",
       "      <td>0.189380</td>\n",
       "      <td>0.782333</td>\n",
       "      <td>-0.267975</td>\n",
       "      <td>...</td>\n",
       "      <td>-0.113910</td>\n",
       "      <td>-0.024612</td>\n",
       "      <td>0.196002</td>\n",
       "      <td>0.013802</td>\n",
       "      <td>0.103758</td>\n",
       "      <td>0.364298</td>\n",
       "      <td>-0.382261</td>\n",
       "      <td>0.092809</td>\n",
       "      <td>0.037051</td>\n",
       "      <td>0</td>\n",
       "    </tr>\n",
       "    <tr>\n",
       "      <th>17</th>\n",
       "      <td>-0.436905</td>\n",
       "      <td>0.918966</td>\n",
       "      <td>0.924591</td>\n",
       "      <td>-0.727219</td>\n",
       "      <td>0.915679</td>\n",
       "      <td>-0.127867</td>\n",
       "      <td>0.707642</td>\n",
       "      <td>0.087962</td>\n",
       "      <td>-0.665271</td>\n",
       "      <td>-0.737980</td>\n",
       "      <td>...</td>\n",
       "      <td>-0.047021</td>\n",
       "      <td>-0.194796</td>\n",
       "      <td>-0.672638</td>\n",
       "      <td>-0.156858</td>\n",
       "      <td>-0.888386</td>\n",
       "      <td>-0.342413</td>\n",
       "      <td>-0.049027</td>\n",
       "      <td>0.079692</td>\n",
       "      <td>0.131024</td>\n",
       "      <td>0</td>\n",
       "    </tr>\n",
       "    <tr>\n",
       "      <th>18</th>\n",
       "      <td>-5.401258</td>\n",
       "      <td>-5.450148</td>\n",
       "      <td>1.186305</td>\n",
       "      <td>1.736239</td>\n",
       "      <td>3.049106</td>\n",
       "      <td>-1.763406</td>\n",
       "      <td>-1.559738</td>\n",
       "      <td>0.160842</td>\n",
       "      <td>1.233090</td>\n",
       "      <td>0.345173</td>\n",
       "      <td>...</td>\n",
       "      <td>-2.196848</td>\n",
       "      <td>-0.503600</td>\n",
       "      <td>0.984460</td>\n",
       "      <td>2.458589</td>\n",
       "      <td>0.042119</td>\n",
       "      <td>-0.481631</td>\n",
       "      <td>-0.621272</td>\n",
       "      <td>0.392053</td>\n",
       "      <td>0.949594</td>\n",
       "      <td>0</td>\n",
       "    </tr>\n",
       "    <tr>\n",
       "      <th>19</th>\n",
       "      <td>1.492936</td>\n",
       "      <td>-1.029346</td>\n",
       "      <td>0.454795</td>\n",
       "      <td>-1.438026</td>\n",
       "      <td>-1.555434</td>\n",
       "      <td>-0.720961</td>\n",
       "      <td>-1.080664</td>\n",
       "      <td>-0.053127</td>\n",
       "      <td>-1.978682</td>\n",
       "      <td>1.638076</td>\n",
       "      <td>...</td>\n",
       "      <td>-0.387910</td>\n",
       "      <td>-0.177650</td>\n",
       "      <td>-0.175074</td>\n",
       "      <td>0.040002</td>\n",
       "      <td>0.295814</td>\n",
       "      <td>0.332931</td>\n",
       "      <td>-0.220385</td>\n",
       "      <td>0.022298</td>\n",
       "      <td>0.007602</td>\n",
       "      <td>0</td>\n",
       "    </tr>\n",
       "    <tr>\n",
       "      <th>20</th>\n",
       "      <td>0.694885</td>\n",
       "      <td>-1.361819</td>\n",
       "      <td>1.029221</td>\n",
       "      <td>0.834159</td>\n",
       "      <td>-1.191209</td>\n",
       "      <td>1.309109</td>\n",
       "      <td>-0.878586</td>\n",
       "      <td>0.445290</td>\n",
       "      <td>-0.446196</td>\n",
       "      <td>0.568521</td>\n",
       "      <td>...</td>\n",
       "      <td>-0.138334</td>\n",
       "      <td>-0.295583</td>\n",
       "      <td>-0.571955</td>\n",
       "      <td>-0.050881</td>\n",
       "      <td>-0.304215</td>\n",
       "      <td>0.072001</td>\n",
       "      <td>-0.422234</td>\n",
       "      <td>0.086553</td>\n",
       "      <td>0.063499</td>\n",
       "      <td>0</td>\n",
       "    </tr>\n",
       "    <tr>\n",
       "      <th>21</th>\n",
       "      <td>0.962496</td>\n",
       "      <td>0.328461</td>\n",
       "      <td>-0.171479</td>\n",
       "      <td>2.109204</td>\n",
       "      <td>1.129566</td>\n",
       "      <td>1.696038</td>\n",
       "      <td>0.107712</td>\n",
       "      <td>0.521502</td>\n",
       "      <td>-1.191311</td>\n",
       "      <td>0.724396</td>\n",
       "      <td>...</td>\n",
       "      <td>-0.269321</td>\n",
       "      <td>0.143997</td>\n",
       "      <td>0.402492</td>\n",
       "      <td>-0.048508</td>\n",
       "      <td>-1.371866</td>\n",
       "      <td>0.390814</td>\n",
       "      <td>0.199964</td>\n",
       "      <td>0.016371</td>\n",
       "      <td>-0.014605</td>\n",
       "      <td>0</td>\n",
       "    </tr>\n",
       "    <tr>\n",
       "      <th>22</th>\n",
       "      <td>1.166616</td>\n",
       "      <td>0.502120</td>\n",
       "      <td>-0.067300</td>\n",
       "      <td>2.261569</td>\n",
       "      <td>0.428804</td>\n",
       "      <td>0.089474</td>\n",
       "      <td>0.241147</td>\n",
       "      <td>0.138082</td>\n",
       "      <td>-0.989162</td>\n",
       "      <td>0.922175</td>\n",
       "      <td>...</td>\n",
       "      <td>-0.307169</td>\n",
       "      <td>0.018702</td>\n",
       "      <td>-0.061972</td>\n",
       "      <td>-0.103855</td>\n",
       "      <td>-0.370415</td>\n",
       "      <td>0.603200</td>\n",
       "      <td>0.108556</td>\n",
       "      <td>-0.040521</td>\n",
       "      <td>-0.011418</td>\n",
       "      <td>0</td>\n",
       "    </tr>\n",
       "    <tr>\n",
       "      <th>23</th>\n",
       "      <td>0.247491</td>\n",
       "      <td>0.277666</td>\n",
       "      <td>1.185471</td>\n",
       "      <td>-0.092603</td>\n",
       "      <td>-1.314394</td>\n",
       "      <td>-0.150116</td>\n",
       "      <td>-0.946365</td>\n",
       "      <td>-1.617935</td>\n",
       "      <td>1.544071</td>\n",
       "      <td>-0.829881</td>\n",
       "      <td>...</td>\n",
       "      <td>-0.230983</td>\n",
       "      <td>1.650180</td>\n",
       "      <td>0.200454</td>\n",
       "      <td>-0.185353</td>\n",
       "      <td>0.423073</td>\n",
       "      <td>0.820591</td>\n",
       "      <td>-0.227632</td>\n",
       "      <td>0.336634</td>\n",
       "      <td>0.250475</td>\n",
       "      <td>0</td>\n",
       "    </tr>\n",
       "    <tr>\n",
       "      <th>24</th>\n",
       "      <td>-1.946525</td>\n",
       "      <td>-0.044901</td>\n",
       "      <td>-0.405570</td>\n",
       "      <td>-1.013057</td>\n",
       "      <td>2.941968</td>\n",
       "      <td>2.955053</td>\n",
       "      <td>-0.063063</td>\n",
       "      <td>0.855546</td>\n",
       "      <td>0.049967</td>\n",
       "      <td>0.573743</td>\n",
       "      <td>...</td>\n",
       "      <td>-0.216715</td>\n",
       "      <td>-0.579526</td>\n",
       "      <td>-0.799229</td>\n",
       "      <td>0.870300</td>\n",
       "      <td>0.983421</td>\n",
       "      <td>0.321201</td>\n",
       "      <td>0.149650</td>\n",
       "      <td>0.707519</td>\n",
       "      <td>0.014600</td>\n",
       "      <td>0</td>\n",
       "    </tr>\n",
       "    <tr>\n",
       "      <th>25</th>\n",
       "      <td>-2.074295</td>\n",
       "      <td>-0.121482</td>\n",
       "      <td>1.322021</td>\n",
       "      <td>0.410008</td>\n",
       "      <td>0.295198</td>\n",
       "      <td>-0.959537</td>\n",
       "      <td>0.543985</td>\n",
       "      <td>-0.104627</td>\n",
       "      <td>0.475664</td>\n",
       "      <td>0.149451</td>\n",
       "      <td>...</td>\n",
       "      <td>-0.386694</td>\n",
       "      <td>-0.403639</td>\n",
       "      <td>-0.227404</td>\n",
       "      <td>0.742435</td>\n",
       "      <td>0.398535</td>\n",
       "      <td>0.249212</td>\n",
       "      <td>0.274404</td>\n",
       "      <td>0.359969</td>\n",
       "      <td>0.243232</td>\n",
       "      <td>0</td>\n",
       "    </tr>\n",
       "    <tr>\n",
       "      <th>26</th>\n",
       "      <td>1.173285</td>\n",
       "      <td>0.353498</td>\n",
       "      <td>0.283905</td>\n",
       "      <td>1.133563</td>\n",
       "      <td>-0.172577</td>\n",
       "      <td>-0.916054</td>\n",
       "      <td>0.369025</td>\n",
       "      <td>-0.327260</td>\n",
       "      <td>-0.246651</td>\n",
       "      <td>-0.046139</td>\n",
       "      <td>...</td>\n",
       "      <td>0.027878</td>\n",
       "      <td>0.067003</td>\n",
       "      <td>0.227812</td>\n",
       "      <td>-0.150487</td>\n",
       "      <td>0.435045</td>\n",
       "      <td>0.724825</td>\n",
       "      <td>-0.337082</td>\n",
       "      <td>0.016368</td>\n",
       "      <td>0.030041</td>\n",
       "      <td>0</td>\n",
       "    </tr>\n",
       "    <tr>\n",
       "      <th>27</th>\n",
       "      <td>1.322707</td>\n",
       "      <td>-0.174041</td>\n",
       "      <td>0.434555</td>\n",
       "      <td>0.576038</td>\n",
       "      <td>-0.836758</td>\n",
       "      <td>-0.831083</td>\n",
       "      <td>-0.264905</td>\n",
       "      <td>-0.220982</td>\n",
       "      <td>-1.071425</td>\n",
       "      <td>0.868559</td>\n",
       "      <td>...</td>\n",
       "      <td>-0.522951</td>\n",
       "      <td>-0.284376</td>\n",
       "      <td>-0.323357</td>\n",
       "      <td>-0.037710</td>\n",
       "      <td>0.347151</td>\n",
       "      <td>0.559639</td>\n",
       "      <td>-0.280158</td>\n",
       "      <td>0.042335</td>\n",
       "      <td>0.028822</td>\n",
       "      <td>0</td>\n",
       "    </tr>\n",
       "    <tr>\n",
       "      <th>28</th>\n",
       "      <td>-0.414289</td>\n",
       "      <td>0.905437</td>\n",
       "      <td>1.727453</td>\n",
       "      <td>1.473471</td>\n",
       "      <td>0.007443</td>\n",
       "      <td>-0.200331</td>\n",
       "      <td>0.740228</td>\n",
       "      <td>-0.029247</td>\n",
       "      <td>-0.593392</td>\n",
       "      <td>-0.346188</td>\n",
       "      <td>...</td>\n",
       "      <td>0.097308</td>\n",
       "      <td>0.077237</td>\n",
       "      <td>0.457331</td>\n",
       "      <td>-0.038500</td>\n",
       "      <td>0.642522</td>\n",
       "      <td>-0.183891</td>\n",
       "      <td>-0.277464</td>\n",
       "      <td>0.182687</td>\n",
       "      <td>0.152665</td>\n",
       "      <td>0</td>\n",
       "    </tr>\n",
       "    <tr>\n",
       "      <th>29</th>\n",
       "      <td>1.059387</td>\n",
       "      <td>-0.175319</td>\n",
       "      <td>1.266130</td>\n",
       "      <td>1.186110</td>\n",
       "      <td>-0.786002</td>\n",
       "      <td>0.578435</td>\n",
       "      <td>-0.767084</td>\n",
       "      <td>0.401046</td>\n",
       "      <td>0.699500</td>\n",
       "      <td>-0.064738</td>\n",
       "      <td>...</td>\n",
       "      <td>-0.178023</td>\n",
       "      <td>0.013676</td>\n",
       "      <td>0.213734</td>\n",
       "      <td>0.014462</td>\n",
       "      <td>0.002951</td>\n",
       "      <td>0.294638</td>\n",
       "      <td>-0.395070</td>\n",
       "      <td>0.081461</td>\n",
       "      <td>0.024220</td>\n",
       "      <td>0</td>\n",
       "    </tr>\n",
       "    <tr>\n",
       "      <th>...</th>\n",
       "      <td>...</td>\n",
       "      <td>...</td>\n",
       "      <td>...</td>\n",
       "      <td>...</td>\n",
       "      <td>...</td>\n",
       "      <td>...</td>\n",
       "      <td>...</td>\n",
       "      <td>...</td>\n",
       "      <td>...</td>\n",
       "      <td>...</td>\n",
       "      <td>...</td>\n",
       "      <td>...</td>\n",
       "      <td>...</td>\n",
       "      <td>...</td>\n",
       "      <td>...</td>\n",
       "      <td>...</td>\n",
       "      <td>...</td>\n",
       "      <td>...</td>\n",
       "      <td>...</td>\n",
       "      <td>...</td>\n",
       "      <td>...</td>\n",
       "    </tr>\n",
       "    <tr>\n",
       "      <th>284777</th>\n",
       "      <td>2.079137</td>\n",
       "      <td>-0.028723</td>\n",
       "      <td>-1.343392</td>\n",
       "      <td>0.358000</td>\n",
       "      <td>-0.045791</td>\n",
       "      <td>-1.345452</td>\n",
       "      <td>0.227476</td>\n",
       "      <td>-0.378355</td>\n",
       "      <td>0.665911</td>\n",
       "      <td>0.028351</td>\n",
       "      <td>...</td>\n",
       "      <td>-0.272447</td>\n",
       "      <td>0.235758</td>\n",
       "      <td>0.829758</td>\n",
       "      <td>-0.002063</td>\n",
       "      <td>0.001344</td>\n",
       "      <td>0.262183</td>\n",
       "      <td>-0.105327</td>\n",
       "      <td>-0.022363</td>\n",
       "      <td>-0.060283</td>\n",
       "      <td>0</td>\n",
       "    </tr>\n",
       "    <tr>\n",
       "      <th>284778</th>\n",
       "      <td>-0.764523</td>\n",
       "      <td>0.588379</td>\n",
       "      <td>-0.907599</td>\n",
       "      <td>-0.418847</td>\n",
       "      <td>0.901528</td>\n",
       "      <td>-0.760802</td>\n",
       "      <td>0.758545</td>\n",
       "      <td>0.414698</td>\n",
       "      <td>-0.730854</td>\n",
       "      <td>-1.245088</td>\n",
       "      <td>...</td>\n",
       "      <td>0.024870</td>\n",
       "      <td>0.003530</td>\n",
       "      <td>-0.431876</td>\n",
       "      <td>0.141759</td>\n",
       "      <td>0.587119</td>\n",
       "      <td>-0.200998</td>\n",
       "      <td>0.267337</td>\n",
       "      <td>-0.152951</td>\n",
       "      <td>-0.065285</td>\n",
       "      <td>0</td>\n",
       "    </tr>\n",
       "    <tr>\n",
       "      <th>284779</th>\n",
       "      <td>1.975178</td>\n",
       "      <td>-0.616244</td>\n",
       "      <td>-2.628295</td>\n",
       "      <td>-0.406246</td>\n",
       "      <td>2.327804</td>\n",
       "      <td>3.664740</td>\n",
       "      <td>-0.533297</td>\n",
       "      <td>0.842937</td>\n",
       "      <td>1.128798</td>\n",
       "      <td>-0.220744</td>\n",
       "      <td>...</td>\n",
       "      <td>-0.168378</td>\n",
       "      <td>0.086043</td>\n",
       "      <td>0.543613</td>\n",
       "      <td>-0.032129</td>\n",
       "      <td>0.768379</td>\n",
       "      <td>0.477688</td>\n",
       "      <td>-0.031833</td>\n",
       "      <td>0.014151</td>\n",
       "      <td>-0.066542</td>\n",
       "      <td>0</td>\n",
       "    </tr>\n",
       "    <tr>\n",
       "      <th>284780</th>\n",
       "      <td>-1.727503</td>\n",
       "      <td>1.108356</td>\n",
       "      <td>2.219561</td>\n",
       "      <td>1.148583</td>\n",
       "      <td>-0.884199</td>\n",
       "      <td>0.793083</td>\n",
       "      <td>-0.527298</td>\n",
       "      <td>0.866429</td>\n",
       "      <td>0.853819</td>\n",
       "      <td>-0.195152</td>\n",
       "      <td>...</td>\n",
       "      <td>0.331940</td>\n",
       "      <td>-0.094708</td>\n",
       "      <td>0.236818</td>\n",
       "      <td>-0.204280</td>\n",
       "      <td>1.158185</td>\n",
       "      <td>0.627801</td>\n",
       "      <td>-0.399981</td>\n",
       "      <td>0.510818</td>\n",
       "      <td>0.233265</td>\n",
       "      <td>0</td>\n",
       "    </tr>\n",
       "    <tr>\n",
       "      <th>284781</th>\n",
       "      <td>-1.139015</td>\n",
       "      <td>-0.155510</td>\n",
       "      <td>1.894478</td>\n",
       "      <td>-1.138957</td>\n",
       "      <td>1.451777</td>\n",
       "      <td>0.093598</td>\n",
       "      <td>0.191353</td>\n",
       "      <td>0.092211</td>\n",
       "      <td>-0.062621</td>\n",
       "      <td>-0.792066</td>\n",
       "      <td>...</td>\n",
       "      <td>0.341409</td>\n",
       "      <td>-0.191027</td>\n",
       "      <td>-0.631658</td>\n",
       "      <td>-0.147249</td>\n",
       "      <td>0.212931</td>\n",
       "      <td>0.354257</td>\n",
       "      <td>-0.241068</td>\n",
       "      <td>-0.161717</td>\n",
       "      <td>-0.149188</td>\n",
       "      <td>0</td>\n",
       "    </tr>\n",
       "    <tr>\n",
       "      <th>284782</th>\n",
       "      <td>-0.268061</td>\n",
       "      <td>2.540315</td>\n",
       "      <td>-1.400915</td>\n",
       "      <td>4.846661</td>\n",
       "      <td>0.639105</td>\n",
       "      <td>0.186479</td>\n",
       "      <td>-0.045911</td>\n",
       "      <td>0.936448</td>\n",
       "      <td>-2.419986</td>\n",
       "      <td>0.525012</td>\n",
       "      <td>...</td>\n",
       "      <td>0.111808</td>\n",
       "      <td>-0.263889</td>\n",
       "      <td>-0.857904</td>\n",
       "      <td>0.235172</td>\n",
       "      <td>-0.681794</td>\n",
       "      <td>-0.668894</td>\n",
       "      <td>0.044657</td>\n",
       "      <td>-0.066751</td>\n",
       "      <td>-0.072447</td>\n",
       "      <td>0</td>\n",
       "    </tr>\n",
       "    <tr>\n",
       "      <th>284783</th>\n",
       "      <td>-1.796092</td>\n",
       "      <td>1.929178</td>\n",
       "      <td>-2.828417</td>\n",
       "      <td>-1.689844</td>\n",
       "      <td>2.199572</td>\n",
       "      <td>3.123732</td>\n",
       "      <td>-0.270714</td>\n",
       "      <td>1.657495</td>\n",
       "      <td>0.465804</td>\n",
       "      <td>0.832931</td>\n",
       "      <td>...</td>\n",
       "      <td>0.319366</td>\n",
       "      <td>0.271170</td>\n",
       "      <td>1.145750</td>\n",
       "      <td>0.084783</td>\n",
       "      <td>0.721269</td>\n",
       "      <td>-0.529906</td>\n",
       "      <td>-0.240117</td>\n",
       "      <td>0.129126</td>\n",
       "      <td>-0.080620</td>\n",
       "      <td>0</td>\n",
       "    </tr>\n",
       "    <tr>\n",
       "      <th>284784</th>\n",
       "      <td>-0.669662</td>\n",
       "      <td>0.923769</td>\n",
       "      <td>-1.543167</td>\n",
       "      <td>-1.560729</td>\n",
       "      <td>2.833960</td>\n",
       "      <td>3.240843</td>\n",
       "      <td>0.181576</td>\n",
       "      <td>1.282746</td>\n",
       "      <td>-0.893890</td>\n",
       "      <td>-1.453432</td>\n",
       "      <td>...</td>\n",
       "      <td>0.000965</td>\n",
       "      <td>0.183856</td>\n",
       "      <td>0.202670</td>\n",
       "      <td>-0.373023</td>\n",
       "      <td>0.651122</td>\n",
       "      <td>1.073823</td>\n",
       "      <td>0.844590</td>\n",
       "      <td>-0.286676</td>\n",
       "      <td>-0.187719</td>\n",
       "      <td>0</td>\n",
       "    </tr>\n",
       "    <tr>\n",
       "      <th>284785</th>\n",
       "      <td>0.032887</td>\n",
       "      <td>0.545338</td>\n",
       "      <td>-1.185844</td>\n",
       "      <td>-1.729828</td>\n",
       "      <td>2.932315</td>\n",
       "      <td>3.401529</td>\n",
       "      <td>0.337434</td>\n",
       "      <td>0.925377</td>\n",
       "      <td>-0.165663</td>\n",
       "      <td>-0.386953</td>\n",
       "      <td>...</td>\n",
       "      <td>0.022677</td>\n",
       "      <td>-0.266113</td>\n",
       "      <td>-0.716336</td>\n",
       "      <td>0.108519</td>\n",
       "      <td>0.688519</td>\n",
       "      <td>-0.460220</td>\n",
       "      <td>0.161939</td>\n",
       "      <td>0.265368</td>\n",
       "      <td>0.090245</td>\n",
       "      <td>0</td>\n",
       "    </tr>\n",
       "    <tr>\n",
       "      <th>284786</th>\n",
       "      <td>-2.076175</td>\n",
       "      <td>2.142238</td>\n",
       "      <td>-2.522704</td>\n",
       "      <td>-1.888063</td>\n",
       "      <td>1.982785</td>\n",
       "      <td>3.732950</td>\n",
       "      <td>-1.217430</td>\n",
       "      <td>-0.536644</td>\n",
       "      <td>0.272867</td>\n",
       "      <td>0.300342</td>\n",
       "      <td>...</td>\n",
       "      <td>-0.308523</td>\n",
       "      <td>2.016666</td>\n",
       "      <td>-1.588269</td>\n",
       "      <td>0.588482</td>\n",
       "      <td>0.632444</td>\n",
       "      <td>-0.201064</td>\n",
       "      <td>0.199251</td>\n",
       "      <td>0.438657</td>\n",
       "      <td>0.172923</td>\n",
       "      <td>0</td>\n",
       "    </tr>\n",
       "    <tr>\n",
       "      <th>284787</th>\n",
       "      <td>-1.029719</td>\n",
       "      <td>-1.110670</td>\n",
       "      <td>-0.636179</td>\n",
       "      <td>-0.840816</td>\n",
       "      <td>2.424360</td>\n",
       "      <td>-2.956733</td>\n",
       "      <td>0.283610</td>\n",
       "      <td>-0.332656</td>\n",
       "      <td>-0.247488</td>\n",
       "      <td>-0.328271</td>\n",
       "      <td>...</td>\n",
       "      <td>0.218776</td>\n",
       "      <td>0.353722</td>\n",
       "      <td>0.488487</td>\n",
       "      <td>0.293632</td>\n",
       "      <td>0.107812</td>\n",
       "      <td>-0.935586</td>\n",
       "      <td>1.138216</td>\n",
       "      <td>0.025271</td>\n",
       "      <td>0.255347</td>\n",
       "      <td>0</td>\n",
       "    </tr>\n",
       "    <tr>\n",
       "      <th>284788</th>\n",
       "      <td>2.007418</td>\n",
       "      <td>-0.280235</td>\n",
       "      <td>-0.208113</td>\n",
       "      <td>0.335261</td>\n",
       "      <td>-0.715798</td>\n",
       "      <td>-0.751373</td>\n",
       "      <td>-0.458972</td>\n",
       "      <td>-0.140140</td>\n",
       "      <td>0.959971</td>\n",
       "      <td>-0.028284</td>\n",
       "      <td>...</td>\n",
       "      <td>-0.143294</td>\n",
       "      <td>-0.208260</td>\n",
       "      <td>-0.430347</td>\n",
       "      <td>0.416765</td>\n",
       "      <td>0.064819</td>\n",
       "      <td>-0.608337</td>\n",
       "      <td>0.268436</td>\n",
       "      <td>-0.028069</td>\n",
       "      <td>-0.041367</td>\n",
       "      <td>0</td>\n",
       "    </tr>\n",
       "    <tr>\n",
       "      <th>284789</th>\n",
       "      <td>-0.446951</td>\n",
       "      <td>1.302212</td>\n",
       "      <td>-0.168583</td>\n",
       "      <td>0.981577</td>\n",
       "      <td>0.578957</td>\n",
       "      <td>-0.605641</td>\n",
       "      <td>1.253430</td>\n",
       "      <td>-1.042610</td>\n",
       "      <td>-0.417116</td>\n",
       "      <td>0.076605</td>\n",
       "      <td>...</td>\n",
       "      <td>-0.203306</td>\n",
       "      <td>0.851800</td>\n",
       "      <td>0.305268</td>\n",
       "      <td>-0.148093</td>\n",
       "      <td>-0.038712</td>\n",
       "      <td>0.010209</td>\n",
       "      <td>-0.362666</td>\n",
       "      <td>0.503092</td>\n",
       "      <td>0.229921</td>\n",
       "      <td>0</td>\n",
       "    </tr>\n",
       "    <tr>\n",
       "      <th>284790</th>\n",
       "      <td>-0.515513</td>\n",
       "      <td>0.971950</td>\n",
       "      <td>-1.014580</td>\n",
       "      <td>-0.677037</td>\n",
       "      <td>0.912430</td>\n",
       "      <td>-0.316187</td>\n",
       "      <td>0.396137</td>\n",
       "      <td>0.532364</td>\n",
       "      <td>-0.224606</td>\n",
       "      <td>-0.753365</td>\n",
       "      <td>...</td>\n",
       "      <td>-0.177211</td>\n",
       "      <td>-0.280302</td>\n",
       "      <td>-0.849919</td>\n",
       "      <td>0.300245</td>\n",
       "      <td>0.000607</td>\n",
       "      <td>-0.376379</td>\n",
       "      <td>0.128660</td>\n",
       "      <td>-0.015205</td>\n",
       "      <td>-0.021486</td>\n",
       "      <td>0</td>\n",
       "    </tr>\n",
       "    <tr>\n",
       "      <th>284791</th>\n",
       "      <td>-0.863506</td>\n",
       "      <td>0.874701</td>\n",
       "      <td>0.420358</td>\n",
       "      <td>-0.530365</td>\n",
       "      <td>0.356561</td>\n",
       "      <td>-1.046238</td>\n",
       "      <td>0.757051</td>\n",
       "      <td>0.230473</td>\n",
       "      <td>-0.506856</td>\n",
       "      <td>-1.032990</td>\n",
       "      <td>...</td>\n",
       "      <td>-0.162132</td>\n",
       "      <td>-0.108846</td>\n",
       "      <td>-0.480820</td>\n",
       "      <td>-0.074513</td>\n",
       "      <td>-0.003988</td>\n",
       "      <td>-0.113149</td>\n",
       "      <td>0.280378</td>\n",
       "      <td>-0.077310</td>\n",
       "      <td>0.023079</td>\n",
       "      <td>0</td>\n",
       "    </tr>\n",
       "    <tr>\n",
       "      <th>284792</th>\n",
       "      <td>-0.724123</td>\n",
       "      <td>1.485216</td>\n",
       "      <td>-1.132218</td>\n",
       "      <td>-0.607190</td>\n",
       "      <td>0.709499</td>\n",
       "      <td>-0.482638</td>\n",
       "      <td>0.548393</td>\n",
       "      <td>0.343003</td>\n",
       "      <td>-0.226323</td>\n",
       "      <td>-0.348134</td>\n",
       "      <td>...</td>\n",
       "      <td>-0.077202</td>\n",
       "      <td>0.414621</td>\n",
       "      <td>1.307511</td>\n",
       "      <td>-0.059545</td>\n",
       "      <td>0.242669</td>\n",
       "      <td>-0.665424</td>\n",
       "      <td>-0.269869</td>\n",
       "      <td>-0.170579</td>\n",
       "      <td>-0.030692</td>\n",
       "      <td>0</td>\n",
       "    </tr>\n",
       "    <tr>\n",
       "      <th>284793</th>\n",
       "      <td>1.971002</td>\n",
       "      <td>-0.699067</td>\n",
       "      <td>-1.697541</td>\n",
       "      <td>-0.617643</td>\n",
       "      <td>1.718797</td>\n",
       "      <td>3.911336</td>\n",
       "      <td>-1.259306</td>\n",
       "      <td>1.056209</td>\n",
       "      <td>1.315006</td>\n",
       "      <td>-0.146827</td>\n",
       "      <td>...</td>\n",
       "      <td>-0.153581</td>\n",
       "      <td>0.188758</td>\n",
       "      <td>0.694418</td>\n",
       "      <td>0.163002</td>\n",
       "      <td>0.726365</td>\n",
       "      <td>-0.058282</td>\n",
       "      <td>-0.191813</td>\n",
       "      <td>0.061858</td>\n",
       "      <td>-0.043716</td>\n",
       "      <td>0</td>\n",
       "    </tr>\n",
       "    <tr>\n",
       "      <th>284794</th>\n",
       "      <td>-1.266580</td>\n",
       "      <td>-0.400461</td>\n",
       "      <td>0.956221</td>\n",
       "      <td>-0.723919</td>\n",
       "      <td>1.531993</td>\n",
       "      <td>-1.788600</td>\n",
       "      <td>0.314741</td>\n",
       "      <td>0.004704</td>\n",
       "      <td>0.013857</td>\n",
       "      <td>-0.815911</td>\n",
       "      <td>...</td>\n",
       "      <td>-0.029539</td>\n",
       "      <td>-0.157831</td>\n",
       "      <td>-0.883365</td>\n",
       "      <td>0.088485</td>\n",
       "      <td>-0.076790</td>\n",
       "      <td>-0.095833</td>\n",
       "      <td>0.132720</td>\n",
       "      <td>-0.028468</td>\n",
       "      <td>0.126494</td>\n",
       "      <td>0</td>\n",
       "    </tr>\n",
       "    <tr>\n",
       "      <th>284795</th>\n",
       "      <td>-12.516732</td>\n",
       "      <td>10.187818</td>\n",
       "      <td>-8.476671</td>\n",
       "      <td>-2.510473</td>\n",
       "      <td>-4.586669</td>\n",
       "      <td>-1.394465</td>\n",
       "      <td>-3.632516</td>\n",
       "      <td>5.498583</td>\n",
       "      <td>4.893089</td>\n",
       "      <td>8.655320</td>\n",
       "      <td>...</td>\n",
       "      <td>3.490065</td>\n",
       "      <td>-0.944759</td>\n",
       "      <td>-1.565026</td>\n",
       "      <td>0.890675</td>\n",
       "      <td>-1.253276</td>\n",
       "      <td>1.786717</td>\n",
       "      <td>0.320763</td>\n",
       "      <td>2.090712</td>\n",
       "      <td>1.232864</td>\n",
       "      <td>0</td>\n",
       "    </tr>\n",
       "    <tr>\n",
       "      <th>284796</th>\n",
       "      <td>1.884849</td>\n",
       "      <td>-0.143540</td>\n",
       "      <td>-0.999943</td>\n",
       "      <td>1.506772</td>\n",
       "      <td>-0.035300</td>\n",
       "      <td>-0.613638</td>\n",
       "      <td>0.190241</td>\n",
       "      <td>-0.249058</td>\n",
       "      <td>0.666458</td>\n",
       "      <td>0.120908</td>\n",
       "      <td>...</td>\n",
       "      <td>-0.153997</td>\n",
       "      <td>0.144008</td>\n",
       "      <td>0.634646</td>\n",
       "      <td>-0.042114</td>\n",
       "      <td>-0.053206</td>\n",
       "      <td>0.316403</td>\n",
       "      <td>-0.461441</td>\n",
       "      <td>0.018265</td>\n",
       "      <td>-0.041068</td>\n",
       "      <td>0</td>\n",
       "    </tr>\n",
       "    <tr>\n",
       "      <th>284797</th>\n",
       "      <td>-0.241923</td>\n",
       "      <td>0.712247</td>\n",
       "      <td>0.399806</td>\n",
       "      <td>-0.463406</td>\n",
       "      <td>0.244531</td>\n",
       "      <td>-1.343668</td>\n",
       "      <td>0.929369</td>\n",
       "      <td>-0.206210</td>\n",
       "      <td>0.106234</td>\n",
       "      <td>-0.284708</td>\n",
       "      <td>...</td>\n",
       "      <td>-0.139512</td>\n",
       "      <td>-0.228876</td>\n",
       "      <td>-0.514376</td>\n",
       "      <td>0.279598</td>\n",
       "      <td>0.371441</td>\n",
       "      <td>-0.559238</td>\n",
       "      <td>0.113144</td>\n",
       "      <td>0.131507</td>\n",
       "      <td>0.081265</td>\n",
       "      <td>0</td>\n",
       "    </tr>\n",
       "    <tr>\n",
       "      <th>284798</th>\n",
       "      <td>0.219529</td>\n",
       "      <td>0.881246</td>\n",
       "      <td>-0.635891</td>\n",
       "      <td>0.960928</td>\n",
       "      <td>-0.152971</td>\n",
       "      <td>-1.014307</td>\n",
       "      <td>0.427126</td>\n",
       "      <td>0.121340</td>\n",
       "      <td>-0.285670</td>\n",
       "      <td>-0.111640</td>\n",
       "      <td>...</td>\n",
       "      <td>0.006666</td>\n",
       "      <td>0.099936</td>\n",
       "      <td>0.337120</td>\n",
       "      <td>0.251791</td>\n",
       "      <td>0.057688</td>\n",
       "      <td>-1.508368</td>\n",
       "      <td>0.144023</td>\n",
       "      <td>0.181205</td>\n",
       "      <td>0.215243</td>\n",
       "      <td>0</td>\n",
       "    </tr>\n",
       "    <tr>\n",
       "      <th>284799</th>\n",
       "      <td>-1.775135</td>\n",
       "      <td>-0.004235</td>\n",
       "      <td>1.189786</td>\n",
       "      <td>0.331096</td>\n",
       "      <td>1.196063</td>\n",
       "      <td>5.519980</td>\n",
       "      <td>-1.518185</td>\n",
       "      <td>2.080825</td>\n",
       "      <td>1.159498</td>\n",
       "      <td>-0.594242</td>\n",
       "      <td>...</td>\n",
       "      <td>0.348176</td>\n",
       "      <td>0.103302</td>\n",
       "      <td>0.654850</td>\n",
       "      <td>-0.348929</td>\n",
       "      <td>0.745323</td>\n",
       "      <td>0.704545</td>\n",
       "      <td>-0.127579</td>\n",
       "      <td>0.454379</td>\n",
       "      <td>0.130308</td>\n",
       "      <td>0</td>\n",
       "    </tr>\n",
       "    <tr>\n",
       "      <th>284800</th>\n",
       "      <td>2.039560</td>\n",
       "      <td>-0.175233</td>\n",
       "      <td>-1.196825</td>\n",
       "      <td>0.234580</td>\n",
       "      <td>-0.008713</td>\n",
       "      <td>-0.726571</td>\n",
       "      <td>0.017050</td>\n",
       "      <td>-0.118228</td>\n",
       "      <td>0.435402</td>\n",
       "      <td>0.267772</td>\n",
       "      <td>...</td>\n",
       "      <td>-0.256922</td>\n",
       "      <td>-0.268048</td>\n",
       "      <td>-0.717211</td>\n",
       "      <td>0.297930</td>\n",
       "      <td>-0.359769</td>\n",
       "      <td>-0.315610</td>\n",
       "      <td>0.201114</td>\n",
       "      <td>-0.080826</td>\n",
       "      <td>-0.075071</td>\n",
       "      <td>0</td>\n",
       "    </tr>\n",
       "    <tr>\n",
       "      <th>284801</th>\n",
       "      <td>0.120316</td>\n",
       "      <td>0.931005</td>\n",
       "      <td>-0.546012</td>\n",
       "      <td>-0.745097</td>\n",
       "      <td>1.130314</td>\n",
       "      <td>-0.235973</td>\n",
       "      <td>0.812722</td>\n",
       "      <td>0.115093</td>\n",
       "      <td>-0.204064</td>\n",
       "      <td>-0.657422</td>\n",
       "      <td>...</td>\n",
       "      <td>0.000676</td>\n",
       "      <td>-0.314205</td>\n",
       "      <td>-0.808520</td>\n",
       "      <td>0.050343</td>\n",
       "      <td>0.102800</td>\n",
       "      <td>-0.435870</td>\n",
       "      <td>0.124079</td>\n",
       "      <td>0.217940</td>\n",
       "      <td>0.068803</td>\n",
       "      <td>0</td>\n",
       "    </tr>\n",
       "    <tr>\n",
       "      <th>284802</th>\n",
       "      <td>-11.881118</td>\n",
       "      <td>10.071785</td>\n",
       "      <td>-9.834783</td>\n",
       "      <td>-2.066656</td>\n",
       "      <td>-5.364473</td>\n",
       "      <td>-2.606837</td>\n",
       "      <td>-4.918215</td>\n",
       "      <td>7.305334</td>\n",
       "      <td>1.914428</td>\n",
       "      <td>4.356170</td>\n",
       "      <td>...</td>\n",
       "      <td>1.475829</td>\n",
       "      <td>0.213454</td>\n",
       "      <td>0.111864</td>\n",
       "      <td>1.014480</td>\n",
       "      <td>-0.509348</td>\n",
       "      <td>1.436807</td>\n",
       "      <td>0.250034</td>\n",
       "      <td>0.943651</td>\n",
       "      <td>0.823731</td>\n",
       "      <td>0</td>\n",
       "    </tr>\n",
       "    <tr>\n",
       "      <th>284803</th>\n",
       "      <td>-0.732789</td>\n",
       "      <td>-0.055080</td>\n",
       "      <td>2.035030</td>\n",
       "      <td>-0.738589</td>\n",
       "      <td>0.868229</td>\n",
       "      <td>1.058415</td>\n",
       "      <td>0.024330</td>\n",
       "      <td>0.294869</td>\n",
       "      <td>0.584800</td>\n",
       "      <td>-0.975926</td>\n",
       "      <td>...</td>\n",
       "      <td>0.059616</td>\n",
       "      <td>0.214205</td>\n",
       "      <td>0.924384</td>\n",
       "      <td>0.012463</td>\n",
       "      <td>-1.016226</td>\n",
       "      <td>-0.606624</td>\n",
       "      <td>-0.395255</td>\n",
       "      <td>0.068472</td>\n",
       "      <td>-0.053527</td>\n",
       "      <td>0</td>\n",
       "    </tr>\n",
       "    <tr>\n",
       "      <th>284804</th>\n",
       "      <td>1.919565</td>\n",
       "      <td>-0.301254</td>\n",
       "      <td>-3.249640</td>\n",
       "      <td>-0.557828</td>\n",
       "      <td>2.630515</td>\n",
       "      <td>3.031260</td>\n",
       "      <td>-0.296827</td>\n",
       "      <td>0.708417</td>\n",
       "      <td>0.432454</td>\n",
       "      <td>-0.484782</td>\n",
       "      <td>...</td>\n",
       "      <td>0.001396</td>\n",
       "      <td>0.232045</td>\n",
       "      <td>0.578229</td>\n",
       "      <td>-0.037501</td>\n",
       "      <td>0.640134</td>\n",
       "      <td>0.265745</td>\n",
       "      <td>-0.087371</td>\n",
       "      <td>0.004455</td>\n",
       "      <td>-0.026561</td>\n",
       "      <td>0</td>\n",
       "    </tr>\n",
       "    <tr>\n",
       "      <th>284805</th>\n",
       "      <td>-0.240440</td>\n",
       "      <td>0.530483</td>\n",
       "      <td>0.702510</td>\n",
       "      <td>0.689799</td>\n",
       "      <td>-0.377961</td>\n",
       "      <td>0.623708</td>\n",
       "      <td>-0.686180</td>\n",
       "      <td>0.679145</td>\n",
       "      <td>0.392087</td>\n",
       "      <td>-0.399126</td>\n",
       "      <td>...</td>\n",
       "      <td>0.127434</td>\n",
       "      <td>0.265245</td>\n",
       "      <td>0.800049</td>\n",
       "      <td>-0.163298</td>\n",
       "      <td>0.123205</td>\n",
       "      <td>-0.569159</td>\n",
       "      <td>0.546668</td>\n",
       "      <td>0.108821</td>\n",
       "      <td>0.104533</td>\n",
       "      <td>0</td>\n",
       "    </tr>\n",
       "    <tr>\n",
       "      <th>284806</th>\n",
       "      <td>-0.533413</td>\n",
       "      <td>-0.189733</td>\n",
       "      <td>0.703337</td>\n",
       "      <td>-0.506271</td>\n",
       "      <td>-0.012546</td>\n",
       "      <td>-0.649617</td>\n",
       "      <td>1.577006</td>\n",
       "      <td>-0.414650</td>\n",
       "      <td>0.486180</td>\n",
       "      <td>-0.915427</td>\n",
       "      <td>...</td>\n",
       "      <td>0.382948</td>\n",
       "      <td>0.261057</td>\n",
       "      <td>0.643078</td>\n",
       "      <td>0.376777</td>\n",
       "      <td>0.008797</td>\n",
       "      <td>-0.473649</td>\n",
       "      <td>-0.818267</td>\n",
       "      <td>-0.002415</td>\n",
       "      <td>0.013649</td>\n",
       "      <td>0</td>\n",
       "    </tr>\n",
       "  </tbody>\n",
       "</table>\n",
       "<p>284807 rows × 29 columns</p>\n",
       "</div>"
      ],
      "text/plain": [
       "               V1         V2        V3        V4        V5        V6  \\\n",
       "0       -1.359807  -0.072781  2.536347  1.378155 -0.338321  0.462388   \n",
       "1        1.191857   0.266151  0.166480  0.448154  0.060018 -0.082361   \n",
       "2       -1.358354  -1.340163  1.773209  0.379780 -0.503198  1.800499   \n",
       "3       -0.966272  -0.185226  1.792993 -0.863291 -0.010309  1.247203   \n",
       "4       -1.158233   0.877737  1.548718  0.403034 -0.407193  0.095921   \n",
       "5       -0.425966   0.960523  1.141109 -0.168252  0.420987 -0.029728   \n",
       "6        1.229658   0.141004  0.045371  1.202613  0.191881  0.272708   \n",
       "7       -0.644269   1.417964  1.074380 -0.492199  0.948934  0.428118   \n",
       "8       -0.894286   0.286157 -0.113192 -0.271526  2.669599  3.721818   \n",
       "9       -0.338262   1.119593  1.044367 -0.222187  0.499361 -0.246761   \n",
       "10       1.449044  -1.176339  0.913860 -1.375667 -1.971383 -0.629152   \n",
       "11       0.384978   0.616109 -0.874300 -0.094019  2.924584  3.317027   \n",
       "12       1.249999  -1.221637  0.383930 -1.234899 -1.485419 -0.753230   \n",
       "13       1.069374   0.287722  0.828613  2.712520 -0.178398  0.337544   \n",
       "14      -2.791855  -0.327771  1.641750  1.767473 -0.136588  0.807596   \n",
       "15      -0.752417   0.345485  2.057323 -1.468643 -1.158394 -0.077850   \n",
       "16       1.103215  -0.040296  1.267332  1.289091 -0.735997  0.288069   \n",
       "17      -0.436905   0.918966  0.924591 -0.727219  0.915679 -0.127867   \n",
       "18      -5.401258  -5.450148  1.186305  1.736239  3.049106 -1.763406   \n",
       "19       1.492936  -1.029346  0.454795 -1.438026 -1.555434 -0.720961   \n",
       "20       0.694885  -1.361819  1.029221  0.834159 -1.191209  1.309109   \n",
       "21       0.962496   0.328461 -0.171479  2.109204  1.129566  1.696038   \n",
       "22       1.166616   0.502120 -0.067300  2.261569  0.428804  0.089474   \n",
       "23       0.247491   0.277666  1.185471 -0.092603 -1.314394 -0.150116   \n",
       "24      -1.946525  -0.044901 -0.405570 -1.013057  2.941968  2.955053   \n",
       "25      -2.074295  -0.121482  1.322021  0.410008  0.295198 -0.959537   \n",
       "26       1.173285   0.353498  0.283905  1.133563 -0.172577 -0.916054   \n",
       "27       1.322707  -0.174041  0.434555  0.576038 -0.836758 -0.831083   \n",
       "28      -0.414289   0.905437  1.727453  1.473471  0.007443 -0.200331   \n",
       "29       1.059387  -0.175319  1.266130  1.186110 -0.786002  0.578435   \n",
       "...           ...        ...       ...       ...       ...       ...   \n",
       "284777   2.079137  -0.028723 -1.343392  0.358000 -0.045791 -1.345452   \n",
       "284778  -0.764523   0.588379 -0.907599 -0.418847  0.901528 -0.760802   \n",
       "284779   1.975178  -0.616244 -2.628295 -0.406246  2.327804  3.664740   \n",
       "284780  -1.727503   1.108356  2.219561  1.148583 -0.884199  0.793083   \n",
       "284781  -1.139015  -0.155510  1.894478 -1.138957  1.451777  0.093598   \n",
       "284782  -0.268061   2.540315 -1.400915  4.846661  0.639105  0.186479   \n",
       "284783  -1.796092   1.929178 -2.828417 -1.689844  2.199572  3.123732   \n",
       "284784  -0.669662   0.923769 -1.543167 -1.560729  2.833960  3.240843   \n",
       "284785   0.032887   0.545338 -1.185844 -1.729828  2.932315  3.401529   \n",
       "284786  -2.076175   2.142238 -2.522704 -1.888063  1.982785  3.732950   \n",
       "284787  -1.029719  -1.110670 -0.636179 -0.840816  2.424360 -2.956733   \n",
       "284788   2.007418  -0.280235 -0.208113  0.335261 -0.715798 -0.751373   \n",
       "284789  -0.446951   1.302212 -0.168583  0.981577  0.578957 -0.605641   \n",
       "284790  -0.515513   0.971950 -1.014580 -0.677037  0.912430 -0.316187   \n",
       "284791  -0.863506   0.874701  0.420358 -0.530365  0.356561 -1.046238   \n",
       "284792  -0.724123   1.485216 -1.132218 -0.607190  0.709499 -0.482638   \n",
       "284793   1.971002  -0.699067 -1.697541 -0.617643  1.718797  3.911336   \n",
       "284794  -1.266580  -0.400461  0.956221 -0.723919  1.531993 -1.788600   \n",
       "284795 -12.516732  10.187818 -8.476671 -2.510473 -4.586669 -1.394465   \n",
       "284796   1.884849  -0.143540 -0.999943  1.506772 -0.035300 -0.613638   \n",
       "284797  -0.241923   0.712247  0.399806 -0.463406  0.244531 -1.343668   \n",
       "284798   0.219529   0.881246 -0.635891  0.960928 -0.152971 -1.014307   \n",
       "284799  -1.775135  -0.004235  1.189786  0.331096  1.196063  5.519980   \n",
       "284800   2.039560  -0.175233 -1.196825  0.234580 -0.008713 -0.726571   \n",
       "284801   0.120316   0.931005 -0.546012 -0.745097  1.130314 -0.235973   \n",
       "284802 -11.881118  10.071785 -9.834783 -2.066656 -5.364473 -2.606837   \n",
       "284803  -0.732789  -0.055080  2.035030 -0.738589  0.868229  1.058415   \n",
       "284804   1.919565  -0.301254 -3.249640 -0.557828  2.630515  3.031260   \n",
       "284805  -0.240440   0.530483  0.702510  0.689799 -0.377961  0.623708   \n",
       "284806  -0.533413  -0.189733  0.703337 -0.506271 -0.012546 -0.649617   \n",
       "\n",
       "              V7        V8        V9       V10  ...       V20       V21  \\\n",
       "0       0.239599  0.098698  0.363787  0.090794  ...  0.251412 -0.018307   \n",
       "1      -0.078803  0.085102 -0.255425 -0.166974  ... -0.069083 -0.225775   \n",
       "2       0.791461  0.247676 -1.514654  0.207643  ...  0.524980  0.247998   \n",
       "3       0.237609  0.377436 -1.387024 -0.054952  ... -0.208038 -0.108300   \n",
       "4       0.592941 -0.270533  0.817739  0.753074  ...  0.408542 -0.009431   \n",
       "5       0.476201  0.260314 -0.568671 -0.371407  ...  0.084968 -0.208254   \n",
       "6      -0.005159  0.081213  0.464960 -0.099254  ... -0.219633 -0.167716   \n",
       "7       1.120631 -3.807864  0.615375  1.249376  ... -0.156742  1.943465   \n",
       "8       0.370145  0.851084 -0.392048 -0.410430  ...  0.052736 -0.073425   \n",
       "9       0.651583  0.069539 -0.736727 -0.366846  ...  0.203711 -0.246914   \n",
       "10     -1.423236  0.048456 -1.720408  1.626659  ... -0.387226 -0.009302   \n",
       "11      0.470455  0.538247 -0.558895  0.309755  ...  0.125992  0.049924   \n",
       "12     -0.689405 -0.227487 -2.094011  1.323729  ... -0.102756 -0.231809   \n",
       "13     -0.096717  0.115982 -0.221083  0.460230  ... -0.153197 -0.036876   \n",
       "14     -0.422911 -1.907107  0.755713  1.151087  ... -1.582122  1.151663   \n",
       "15     -0.608581  0.003603 -0.436167  0.747731  ...  0.263451  0.499625   \n",
       "16     -0.586057  0.189380  0.782333 -0.267975  ... -0.113910 -0.024612   \n",
       "17      0.707642  0.087962 -0.665271 -0.737980  ... -0.047021 -0.194796   \n",
       "18     -1.559738  0.160842  1.233090  0.345173  ... -2.196848 -0.503600   \n",
       "19     -1.080664 -0.053127 -1.978682  1.638076  ... -0.387910 -0.177650   \n",
       "20     -0.878586  0.445290 -0.446196  0.568521  ... -0.138334 -0.295583   \n",
       "21      0.107712  0.521502 -1.191311  0.724396  ... -0.269321  0.143997   \n",
       "22      0.241147  0.138082 -0.989162  0.922175  ... -0.307169  0.018702   \n",
       "23     -0.946365 -1.617935  1.544071 -0.829881  ... -0.230983  1.650180   \n",
       "24     -0.063063  0.855546  0.049967  0.573743  ... -0.216715 -0.579526   \n",
       "25      0.543985 -0.104627  0.475664  0.149451  ... -0.386694 -0.403639   \n",
       "26      0.369025 -0.327260 -0.246651 -0.046139  ...  0.027878  0.067003   \n",
       "27     -0.264905 -0.220982 -1.071425  0.868559  ... -0.522951 -0.284376   \n",
       "28      0.740228 -0.029247 -0.593392 -0.346188  ...  0.097308  0.077237   \n",
       "29     -0.767084  0.401046  0.699500 -0.064738  ... -0.178023  0.013676   \n",
       "...          ...       ...       ...       ...  ...       ...       ...   \n",
       "284777  0.227476 -0.378355  0.665911  0.028351  ... -0.272447  0.235758   \n",
       "284778  0.758545  0.414698 -0.730854 -1.245088  ...  0.024870  0.003530   \n",
       "284779 -0.533297  0.842937  1.128798 -0.220744  ... -0.168378  0.086043   \n",
       "284780 -0.527298  0.866429  0.853819 -0.195152  ...  0.331940 -0.094708   \n",
       "284781  0.191353  0.092211 -0.062621 -0.792066  ...  0.341409 -0.191027   \n",
       "284782 -0.045911  0.936448 -2.419986  0.525012  ...  0.111808 -0.263889   \n",
       "284783 -0.270714  1.657495  0.465804  0.832931  ...  0.319366  0.271170   \n",
       "284784  0.181576  1.282746 -0.893890 -1.453432  ...  0.000965  0.183856   \n",
       "284785  0.337434  0.925377 -0.165663 -0.386953  ...  0.022677 -0.266113   \n",
       "284786 -1.217430 -0.536644  0.272867  0.300342  ... -0.308523  2.016666   \n",
       "284787  0.283610 -0.332656 -0.247488 -0.328271  ...  0.218776  0.353722   \n",
       "284788 -0.458972 -0.140140  0.959971 -0.028284  ... -0.143294 -0.208260   \n",
       "284789  1.253430 -1.042610 -0.417116  0.076605  ... -0.203306  0.851800   \n",
       "284790  0.396137  0.532364 -0.224606 -0.753365  ... -0.177211 -0.280302   \n",
       "284791  0.757051  0.230473 -0.506856 -1.032990  ... -0.162132 -0.108846   \n",
       "284792  0.548393  0.343003 -0.226323 -0.348134  ... -0.077202  0.414621   \n",
       "284793 -1.259306  1.056209  1.315006 -0.146827  ... -0.153581  0.188758   \n",
       "284794  0.314741  0.004704  0.013857 -0.815911  ... -0.029539 -0.157831   \n",
       "284795 -3.632516  5.498583  4.893089  8.655320  ...  3.490065 -0.944759   \n",
       "284796  0.190241 -0.249058  0.666458  0.120908  ... -0.153997  0.144008   \n",
       "284797  0.929369 -0.206210  0.106234 -0.284708  ... -0.139512 -0.228876   \n",
       "284798  0.427126  0.121340 -0.285670 -0.111640  ...  0.006666  0.099936   \n",
       "284799 -1.518185  2.080825  1.159498 -0.594242  ...  0.348176  0.103302   \n",
       "284800  0.017050 -0.118228  0.435402  0.267772  ... -0.256922 -0.268048   \n",
       "284801  0.812722  0.115093 -0.204064 -0.657422  ...  0.000676 -0.314205   \n",
       "284802 -4.918215  7.305334  1.914428  4.356170  ...  1.475829  0.213454   \n",
       "284803  0.024330  0.294869  0.584800 -0.975926  ...  0.059616  0.214205   \n",
       "284804 -0.296827  0.708417  0.432454 -0.484782  ...  0.001396  0.232045   \n",
       "284805 -0.686180  0.679145  0.392087 -0.399126  ...  0.127434  0.265245   \n",
       "284806  1.577006 -0.414650  0.486180 -0.915427  ...  0.382948  0.261057   \n",
       "\n",
       "             V22       V23       V24       V25       V26       V27       V28  \\\n",
       "0       0.277838 -0.110474  0.066928  0.128539 -0.189115  0.133558 -0.021053   \n",
       "1      -0.638672  0.101288 -0.339846  0.167170  0.125895 -0.008983  0.014724   \n",
       "2       0.771679  0.909412 -0.689281 -0.327642 -0.139097 -0.055353 -0.059752   \n",
       "3       0.005274 -0.190321 -1.175575  0.647376 -0.221929  0.062723  0.061458   \n",
       "4       0.798278 -0.137458  0.141267 -0.206010  0.502292  0.219422  0.215153   \n",
       "5      -0.559825 -0.026398 -0.371427 -0.232794  0.105915  0.253844  0.081080   \n",
       "6      -0.270710 -0.154104 -0.780055  0.750137 -0.257237  0.034507  0.005168   \n",
       "7      -1.015455  0.057504 -0.649709 -0.415267 -0.051634 -1.206921 -1.085339   \n",
       "8      -0.268092 -0.204233  1.011592  0.373205 -0.384157  0.011747  0.142404   \n",
       "9      -0.633753 -0.120794 -0.385050 -0.069733  0.094199  0.246219  0.083076   \n",
       "10      0.313894  0.027740  0.500512  0.251367 -0.129478  0.042850  0.016253   \n",
       "11      0.238422  0.009130  0.996710 -0.767315 -0.492208  0.042472 -0.054337   \n",
       "12     -0.483285  0.084668  0.392831  0.161135 -0.354990  0.026416  0.042422   \n",
       "13      0.074412 -0.071407  0.104744  0.548265  0.104094  0.021491  0.021293   \n",
       "14      0.222182  1.020586  0.028317 -0.232746 -0.235557 -0.164778 -0.030154   \n",
       "15      1.353650 -0.256573 -0.065084 -0.039124 -0.087086 -0.180998  0.129394   \n",
       "16      0.196002  0.013802  0.103758  0.364298 -0.382261  0.092809  0.037051   \n",
       "17     -0.672638 -0.156858 -0.888386 -0.342413 -0.049027  0.079692  0.131024   \n",
       "18      0.984460  2.458589  0.042119 -0.481631 -0.621272  0.392053  0.949594   \n",
       "19     -0.175074  0.040002  0.295814  0.332931 -0.220385  0.022298  0.007602   \n",
       "20     -0.571955 -0.050881 -0.304215  0.072001 -0.422234  0.086553  0.063499   \n",
       "21      0.402492 -0.048508 -1.371866  0.390814  0.199964  0.016371 -0.014605   \n",
       "22     -0.061972 -0.103855 -0.370415  0.603200  0.108556 -0.040521 -0.011418   \n",
       "23      0.200454 -0.185353  0.423073  0.820591 -0.227632  0.336634  0.250475   \n",
       "24     -0.799229  0.870300  0.983421  0.321201  0.149650  0.707519  0.014600   \n",
       "25     -0.227404  0.742435  0.398535  0.249212  0.274404  0.359969  0.243232   \n",
       "26      0.227812 -0.150487  0.435045  0.724825 -0.337082  0.016368  0.030041   \n",
       "27     -0.323357 -0.037710  0.347151  0.559639 -0.280158  0.042335  0.028822   \n",
       "28      0.457331 -0.038500  0.642522 -0.183891 -0.277464  0.182687  0.152665   \n",
       "29      0.213734  0.014462  0.002951  0.294638 -0.395070  0.081461  0.024220   \n",
       "...          ...       ...       ...       ...       ...       ...       ...   \n",
       "284777  0.829758 -0.002063  0.001344  0.262183 -0.105327 -0.022363 -0.060283   \n",
       "284778 -0.431876  0.141759  0.587119 -0.200998  0.267337 -0.152951 -0.065285   \n",
       "284779  0.543613 -0.032129  0.768379  0.477688 -0.031833  0.014151 -0.066542   \n",
       "284780  0.236818 -0.204280  1.158185  0.627801 -0.399981  0.510818  0.233265   \n",
       "284781 -0.631658 -0.147249  0.212931  0.354257 -0.241068 -0.161717 -0.149188   \n",
       "284782 -0.857904  0.235172 -0.681794 -0.668894  0.044657 -0.066751 -0.072447   \n",
       "284783  1.145750  0.084783  0.721269 -0.529906 -0.240117  0.129126 -0.080620   \n",
       "284784  0.202670 -0.373023  0.651122  1.073823  0.844590 -0.286676 -0.187719   \n",
       "284785 -0.716336  0.108519  0.688519 -0.460220  0.161939  0.265368  0.090245   \n",
       "284786 -1.588269  0.588482  0.632444 -0.201064  0.199251  0.438657  0.172923   \n",
       "284787  0.488487  0.293632  0.107812 -0.935586  1.138216  0.025271  0.255347   \n",
       "284788 -0.430347  0.416765  0.064819 -0.608337  0.268436 -0.028069 -0.041367   \n",
       "284789  0.305268 -0.148093 -0.038712  0.010209 -0.362666  0.503092  0.229921   \n",
       "284790 -0.849919  0.300245  0.000607 -0.376379  0.128660 -0.015205 -0.021486   \n",
       "284791 -0.480820 -0.074513 -0.003988 -0.113149  0.280378 -0.077310  0.023079   \n",
       "284792  1.307511 -0.059545  0.242669 -0.665424 -0.269869 -0.170579 -0.030692   \n",
       "284793  0.694418  0.163002  0.726365 -0.058282 -0.191813  0.061858 -0.043716   \n",
       "284794 -0.883365  0.088485 -0.076790 -0.095833  0.132720 -0.028468  0.126494   \n",
       "284795 -1.565026  0.890675 -1.253276  1.786717  0.320763  2.090712  1.232864   \n",
       "284796  0.634646 -0.042114 -0.053206  0.316403 -0.461441  0.018265 -0.041068   \n",
       "284797 -0.514376  0.279598  0.371441 -0.559238  0.113144  0.131507  0.081265   \n",
       "284798  0.337120  0.251791  0.057688 -1.508368  0.144023  0.181205  0.215243   \n",
       "284799  0.654850 -0.348929  0.745323  0.704545 -0.127579  0.454379  0.130308   \n",
       "284800 -0.717211  0.297930 -0.359769 -0.315610  0.201114 -0.080826 -0.075071   \n",
       "284801 -0.808520  0.050343  0.102800 -0.435870  0.124079  0.217940  0.068803   \n",
       "284802  0.111864  1.014480 -0.509348  1.436807  0.250034  0.943651  0.823731   \n",
       "284803  0.924384  0.012463 -1.016226 -0.606624 -0.395255  0.068472 -0.053527   \n",
       "284804  0.578229 -0.037501  0.640134  0.265745 -0.087371  0.004455 -0.026561   \n",
       "284805  0.800049 -0.163298  0.123205 -0.569159  0.546668  0.108821  0.104533   \n",
       "284806  0.643078  0.376777  0.008797 -0.473649 -0.818267 -0.002415  0.013649   \n",
       "\n",
       "        Class  \n",
       "0           0  \n",
       "1           0  \n",
       "2           0  \n",
       "3           0  \n",
       "4           0  \n",
       "5           0  \n",
       "6           0  \n",
       "7           0  \n",
       "8           0  \n",
       "9           0  \n",
       "10          0  \n",
       "11          0  \n",
       "12          0  \n",
       "13          0  \n",
       "14          0  \n",
       "15          0  \n",
       "16          0  \n",
       "17          0  \n",
       "18          0  \n",
       "19          0  \n",
       "20          0  \n",
       "21          0  \n",
       "22          0  \n",
       "23          0  \n",
       "24          0  \n",
       "25          0  \n",
       "26          0  \n",
       "27          0  \n",
       "28          0  \n",
       "29          0  \n",
       "...       ...  \n",
       "284777      0  \n",
       "284778      0  \n",
       "284779      0  \n",
       "284780      0  \n",
       "284781      0  \n",
       "284782      0  \n",
       "284783      0  \n",
       "284784      0  \n",
       "284785      0  \n",
       "284786      0  \n",
       "284787      0  \n",
       "284788      0  \n",
       "284789      0  \n",
       "284790      0  \n",
       "284791      0  \n",
       "284792      0  \n",
       "284793      0  \n",
       "284794      0  \n",
       "284795      0  \n",
       "284796      0  \n",
       "284797      0  \n",
       "284798      0  \n",
       "284799      0  \n",
       "284800      0  \n",
       "284801      0  \n",
       "284802      0  \n",
       "284803      0  \n",
       "284804      0  \n",
       "284805      0  \n",
       "284806      0  \n",
       "\n",
       "[284807 rows x 29 columns]"
      ]
     },
     "execution_count": 3,
     "metadata": {},
     "output_type": "execute_result"
    }
   ],
   "source": [
    "df"
   ]
  },
  {
   "cell_type": "code",
   "execution_count": 4,
   "metadata": {},
   "outputs": [
    {
     "data": {
      "text/html": [
       "<div>\n",
       "<style scoped>\n",
       "    .dataframe tbody tr th:only-of-type {\n",
       "        vertical-align: middle;\n",
       "    }\n",
       "\n",
       "    .dataframe tbody tr th {\n",
       "        vertical-align: top;\n",
       "    }\n",
       "\n",
       "    .dataframe thead th {\n",
       "        text-align: right;\n",
       "    }\n",
       "</style>\n",
       "<table border=\"1\" class=\"dataframe\">\n",
       "  <thead>\n",
       "    <tr style=\"text-align: right;\">\n",
       "      <th></th>\n",
       "      <th>V1</th>\n",
       "      <th>V2</th>\n",
       "      <th>V3</th>\n",
       "      <th>V4</th>\n",
       "      <th>V5</th>\n",
       "      <th>V6</th>\n",
       "      <th>V7</th>\n",
       "      <th>V8</th>\n",
       "      <th>V9</th>\n",
       "      <th>V10</th>\n",
       "      <th>...</th>\n",
       "      <th>V20</th>\n",
       "      <th>V21</th>\n",
       "      <th>V22</th>\n",
       "      <th>V23</th>\n",
       "      <th>V24</th>\n",
       "      <th>V25</th>\n",
       "      <th>V26</th>\n",
       "      <th>V27</th>\n",
       "      <th>V28</th>\n",
       "      <th>Class</th>\n",
       "    </tr>\n",
       "  </thead>\n",
       "  <tbody>\n",
       "    <tr>\n",
       "      <th>0</th>\n",
       "      <td>-1.359807</td>\n",
       "      <td>-0.072781</td>\n",
       "      <td>2.536347</td>\n",
       "      <td>1.378155</td>\n",
       "      <td>-0.338321</td>\n",
       "      <td>0.462388</td>\n",
       "      <td>0.239599</td>\n",
       "      <td>0.098698</td>\n",
       "      <td>0.363787</td>\n",
       "      <td>0.090794</td>\n",
       "      <td>...</td>\n",
       "      <td>0.251412</td>\n",
       "      <td>-0.018307</td>\n",
       "      <td>0.277838</td>\n",
       "      <td>-0.110474</td>\n",
       "      <td>0.066928</td>\n",
       "      <td>0.128539</td>\n",
       "      <td>-0.189115</td>\n",
       "      <td>0.133558</td>\n",
       "      <td>-0.021053</td>\n",
       "      <td>0</td>\n",
       "    </tr>\n",
       "    <tr>\n",
       "      <th>1</th>\n",
       "      <td>1.191857</td>\n",
       "      <td>0.266151</td>\n",
       "      <td>0.166480</td>\n",
       "      <td>0.448154</td>\n",
       "      <td>0.060018</td>\n",
       "      <td>-0.082361</td>\n",
       "      <td>-0.078803</td>\n",
       "      <td>0.085102</td>\n",
       "      <td>-0.255425</td>\n",
       "      <td>-0.166974</td>\n",
       "      <td>...</td>\n",
       "      <td>-0.069083</td>\n",
       "      <td>-0.225775</td>\n",
       "      <td>-0.638672</td>\n",
       "      <td>0.101288</td>\n",
       "      <td>-0.339846</td>\n",
       "      <td>0.167170</td>\n",
       "      <td>0.125895</td>\n",
       "      <td>-0.008983</td>\n",
       "      <td>0.014724</td>\n",
       "      <td>0</td>\n",
       "    </tr>\n",
       "    <tr>\n",
       "      <th>2</th>\n",
       "      <td>-1.358354</td>\n",
       "      <td>-1.340163</td>\n",
       "      <td>1.773209</td>\n",
       "      <td>0.379780</td>\n",
       "      <td>-0.503198</td>\n",
       "      <td>1.800499</td>\n",
       "      <td>0.791461</td>\n",
       "      <td>0.247676</td>\n",
       "      <td>-1.514654</td>\n",
       "      <td>0.207643</td>\n",
       "      <td>...</td>\n",
       "      <td>0.524980</td>\n",
       "      <td>0.247998</td>\n",
       "      <td>0.771679</td>\n",
       "      <td>0.909412</td>\n",
       "      <td>-0.689281</td>\n",
       "      <td>-0.327642</td>\n",
       "      <td>-0.139097</td>\n",
       "      <td>-0.055353</td>\n",
       "      <td>-0.059752</td>\n",
       "      <td>0</td>\n",
       "    </tr>\n",
       "    <tr>\n",
       "      <th>3</th>\n",
       "      <td>-0.966272</td>\n",
       "      <td>-0.185226</td>\n",
       "      <td>1.792993</td>\n",
       "      <td>-0.863291</td>\n",
       "      <td>-0.010309</td>\n",
       "      <td>1.247203</td>\n",
       "      <td>0.237609</td>\n",
       "      <td>0.377436</td>\n",
       "      <td>-1.387024</td>\n",
       "      <td>-0.054952</td>\n",
       "      <td>...</td>\n",
       "      <td>-0.208038</td>\n",
       "      <td>-0.108300</td>\n",
       "      <td>0.005274</td>\n",
       "      <td>-0.190321</td>\n",
       "      <td>-1.175575</td>\n",
       "      <td>0.647376</td>\n",
       "      <td>-0.221929</td>\n",
       "      <td>0.062723</td>\n",
       "      <td>0.061458</td>\n",
       "      <td>0</td>\n",
       "    </tr>\n",
       "    <tr>\n",
       "      <th>4</th>\n",
       "      <td>-1.158233</td>\n",
       "      <td>0.877737</td>\n",
       "      <td>1.548718</td>\n",
       "      <td>0.403034</td>\n",
       "      <td>-0.407193</td>\n",
       "      <td>0.095921</td>\n",
       "      <td>0.592941</td>\n",
       "      <td>-0.270533</td>\n",
       "      <td>0.817739</td>\n",
       "      <td>0.753074</td>\n",
       "      <td>...</td>\n",
       "      <td>0.408542</td>\n",
       "      <td>-0.009431</td>\n",
       "      <td>0.798278</td>\n",
       "      <td>-0.137458</td>\n",
       "      <td>0.141267</td>\n",
       "      <td>-0.206010</td>\n",
       "      <td>0.502292</td>\n",
       "      <td>0.219422</td>\n",
       "      <td>0.215153</td>\n",
       "      <td>0</td>\n",
       "    </tr>\n",
       "  </tbody>\n",
       "</table>\n",
       "<p>5 rows × 29 columns</p>\n",
       "</div>"
      ],
      "text/plain": [
       "         V1        V2        V3        V4        V5        V6        V7  \\\n",
       "0 -1.359807 -0.072781  2.536347  1.378155 -0.338321  0.462388  0.239599   \n",
       "1  1.191857  0.266151  0.166480  0.448154  0.060018 -0.082361 -0.078803   \n",
       "2 -1.358354 -1.340163  1.773209  0.379780 -0.503198  1.800499  0.791461   \n",
       "3 -0.966272 -0.185226  1.792993 -0.863291 -0.010309  1.247203  0.237609   \n",
       "4 -1.158233  0.877737  1.548718  0.403034 -0.407193  0.095921  0.592941   \n",
       "\n",
       "         V8        V9       V10  ...       V20       V21       V22       V23  \\\n",
       "0  0.098698  0.363787  0.090794  ...  0.251412 -0.018307  0.277838 -0.110474   \n",
       "1  0.085102 -0.255425 -0.166974  ... -0.069083 -0.225775 -0.638672  0.101288   \n",
       "2  0.247676 -1.514654  0.207643  ...  0.524980  0.247998  0.771679  0.909412   \n",
       "3  0.377436 -1.387024 -0.054952  ... -0.208038 -0.108300  0.005274 -0.190321   \n",
       "4 -0.270533  0.817739  0.753074  ...  0.408542 -0.009431  0.798278 -0.137458   \n",
       "\n",
       "        V24       V25       V26       V27       V28  Class  \n",
       "0  0.066928  0.128539 -0.189115  0.133558 -0.021053      0  \n",
       "1 -0.339846  0.167170  0.125895 -0.008983  0.014724      0  \n",
       "2 -0.689281 -0.327642 -0.139097 -0.055353 -0.059752      0  \n",
       "3 -1.175575  0.647376 -0.221929  0.062723  0.061458      0  \n",
       "4  0.141267 -0.206010  0.502292  0.219422  0.215153      0  \n",
       "\n",
       "[5 rows x 29 columns]"
      ]
     },
     "execution_count": 4,
     "metadata": {},
     "output_type": "execute_result"
    }
   ],
   "source": [
    "df.head()"
   ]
  },
  {
   "cell_type": "code",
   "execution_count": 5,
   "metadata": {},
   "outputs": [
    {
     "data": {
      "text/html": [
       "<div>\n",
       "<style scoped>\n",
       "    .dataframe tbody tr th:only-of-type {\n",
       "        vertical-align: middle;\n",
       "    }\n",
       "\n",
       "    .dataframe tbody tr th {\n",
       "        vertical-align: top;\n",
       "    }\n",
       "\n",
       "    .dataframe thead th {\n",
       "        text-align: right;\n",
       "    }\n",
       "</style>\n",
       "<table border=\"1\" class=\"dataframe\">\n",
       "  <thead>\n",
       "    <tr style=\"text-align: right;\">\n",
       "      <th></th>\n",
       "      <th>V1</th>\n",
       "      <th>V2</th>\n",
       "      <th>V3</th>\n",
       "      <th>V4</th>\n",
       "      <th>V5</th>\n",
       "      <th>V6</th>\n",
       "      <th>V7</th>\n",
       "      <th>V8</th>\n",
       "      <th>V9</th>\n",
       "      <th>V10</th>\n",
       "      <th>...</th>\n",
       "      <th>V19</th>\n",
       "      <th>V20</th>\n",
       "      <th>V21</th>\n",
       "      <th>V22</th>\n",
       "      <th>V23</th>\n",
       "      <th>V24</th>\n",
       "      <th>V25</th>\n",
       "      <th>V26</th>\n",
       "      <th>V27</th>\n",
       "      <th>V28</th>\n",
       "    </tr>\n",
       "  </thead>\n",
       "  <tbody>\n",
       "    <tr>\n",
       "      <th>0</th>\n",
       "      <td>-1.359807</td>\n",
       "      <td>-0.072781</td>\n",
       "      <td>2.536347</td>\n",
       "      <td>1.378155</td>\n",
       "      <td>-0.338321</td>\n",
       "      <td>0.462388</td>\n",
       "      <td>0.239599</td>\n",
       "      <td>0.098698</td>\n",
       "      <td>0.363787</td>\n",
       "      <td>0.090794</td>\n",
       "      <td>...</td>\n",
       "      <td>0.403993</td>\n",
       "      <td>0.251412</td>\n",
       "      <td>-0.018307</td>\n",
       "      <td>0.277838</td>\n",
       "      <td>-0.110474</td>\n",
       "      <td>0.066928</td>\n",
       "      <td>0.128539</td>\n",
       "      <td>-0.189115</td>\n",
       "      <td>0.133558</td>\n",
       "      <td>-0.021053</td>\n",
       "    </tr>\n",
       "    <tr>\n",
       "      <th>1</th>\n",
       "      <td>1.191857</td>\n",
       "      <td>0.266151</td>\n",
       "      <td>0.166480</td>\n",
       "      <td>0.448154</td>\n",
       "      <td>0.060018</td>\n",
       "      <td>-0.082361</td>\n",
       "      <td>-0.078803</td>\n",
       "      <td>0.085102</td>\n",
       "      <td>-0.255425</td>\n",
       "      <td>-0.166974</td>\n",
       "      <td>...</td>\n",
       "      <td>-0.145783</td>\n",
       "      <td>-0.069083</td>\n",
       "      <td>-0.225775</td>\n",
       "      <td>-0.638672</td>\n",
       "      <td>0.101288</td>\n",
       "      <td>-0.339846</td>\n",
       "      <td>0.167170</td>\n",
       "      <td>0.125895</td>\n",
       "      <td>-0.008983</td>\n",
       "      <td>0.014724</td>\n",
       "    </tr>\n",
       "    <tr>\n",
       "      <th>2</th>\n",
       "      <td>-1.358354</td>\n",
       "      <td>-1.340163</td>\n",
       "      <td>1.773209</td>\n",
       "      <td>0.379780</td>\n",
       "      <td>-0.503198</td>\n",
       "      <td>1.800499</td>\n",
       "      <td>0.791461</td>\n",
       "      <td>0.247676</td>\n",
       "      <td>-1.514654</td>\n",
       "      <td>0.207643</td>\n",
       "      <td>...</td>\n",
       "      <td>-2.261857</td>\n",
       "      <td>0.524980</td>\n",
       "      <td>0.247998</td>\n",
       "      <td>0.771679</td>\n",
       "      <td>0.909412</td>\n",
       "      <td>-0.689281</td>\n",
       "      <td>-0.327642</td>\n",
       "      <td>-0.139097</td>\n",
       "      <td>-0.055353</td>\n",
       "      <td>-0.059752</td>\n",
       "    </tr>\n",
       "    <tr>\n",
       "      <th>3</th>\n",
       "      <td>-0.966272</td>\n",
       "      <td>-0.185226</td>\n",
       "      <td>1.792993</td>\n",
       "      <td>-0.863291</td>\n",
       "      <td>-0.010309</td>\n",
       "      <td>1.247203</td>\n",
       "      <td>0.237609</td>\n",
       "      <td>0.377436</td>\n",
       "      <td>-1.387024</td>\n",
       "      <td>-0.054952</td>\n",
       "      <td>...</td>\n",
       "      <td>-1.232622</td>\n",
       "      <td>-0.208038</td>\n",
       "      <td>-0.108300</td>\n",
       "      <td>0.005274</td>\n",
       "      <td>-0.190321</td>\n",
       "      <td>-1.175575</td>\n",
       "      <td>0.647376</td>\n",
       "      <td>-0.221929</td>\n",
       "      <td>0.062723</td>\n",
       "      <td>0.061458</td>\n",
       "    </tr>\n",
       "    <tr>\n",
       "      <th>4</th>\n",
       "      <td>-1.158233</td>\n",
       "      <td>0.877737</td>\n",
       "      <td>1.548718</td>\n",
       "      <td>0.403034</td>\n",
       "      <td>-0.407193</td>\n",
       "      <td>0.095921</td>\n",
       "      <td>0.592941</td>\n",
       "      <td>-0.270533</td>\n",
       "      <td>0.817739</td>\n",
       "      <td>0.753074</td>\n",
       "      <td>...</td>\n",
       "      <td>0.803487</td>\n",
       "      <td>0.408542</td>\n",
       "      <td>-0.009431</td>\n",
       "      <td>0.798278</td>\n",
       "      <td>-0.137458</td>\n",
       "      <td>0.141267</td>\n",
       "      <td>-0.206010</td>\n",
       "      <td>0.502292</td>\n",
       "      <td>0.219422</td>\n",
       "      <td>0.215153</td>\n",
       "    </tr>\n",
       "    <tr>\n",
       "      <th>5</th>\n",
       "      <td>-0.425966</td>\n",
       "      <td>0.960523</td>\n",
       "      <td>1.141109</td>\n",
       "      <td>-0.168252</td>\n",
       "      <td>0.420987</td>\n",
       "      <td>-0.029728</td>\n",
       "      <td>0.476201</td>\n",
       "      <td>0.260314</td>\n",
       "      <td>-0.568671</td>\n",
       "      <td>-0.371407</td>\n",
       "      <td>...</td>\n",
       "      <td>-0.033194</td>\n",
       "      <td>0.084968</td>\n",
       "      <td>-0.208254</td>\n",
       "      <td>-0.559825</td>\n",
       "      <td>-0.026398</td>\n",
       "      <td>-0.371427</td>\n",
       "      <td>-0.232794</td>\n",
       "      <td>0.105915</td>\n",
       "      <td>0.253844</td>\n",
       "      <td>0.081080</td>\n",
       "    </tr>\n",
       "    <tr>\n",
       "      <th>6</th>\n",
       "      <td>1.229658</td>\n",
       "      <td>0.141004</td>\n",
       "      <td>0.045371</td>\n",
       "      <td>1.202613</td>\n",
       "      <td>0.191881</td>\n",
       "      <td>0.272708</td>\n",
       "      <td>-0.005159</td>\n",
       "      <td>0.081213</td>\n",
       "      <td>0.464960</td>\n",
       "      <td>-0.099254</td>\n",
       "      <td>...</td>\n",
       "      <td>-0.045575</td>\n",
       "      <td>-0.219633</td>\n",
       "      <td>-0.167716</td>\n",
       "      <td>-0.270710</td>\n",
       "      <td>-0.154104</td>\n",
       "      <td>-0.780055</td>\n",
       "      <td>0.750137</td>\n",
       "      <td>-0.257237</td>\n",
       "      <td>0.034507</td>\n",
       "      <td>0.005168</td>\n",
       "    </tr>\n",
       "    <tr>\n",
       "      <th>7</th>\n",
       "      <td>-0.644269</td>\n",
       "      <td>1.417964</td>\n",
       "      <td>1.074380</td>\n",
       "      <td>-0.492199</td>\n",
       "      <td>0.948934</td>\n",
       "      <td>0.428118</td>\n",
       "      <td>1.120631</td>\n",
       "      <td>-3.807864</td>\n",
       "      <td>0.615375</td>\n",
       "      <td>1.249376</td>\n",
       "      <td>...</td>\n",
       "      <td>0.324505</td>\n",
       "      <td>-0.156742</td>\n",
       "      <td>1.943465</td>\n",
       "      <td>-1.015455</td>\n",
       "      <td>0.057504</td>\n",
       "      <td>-0.649709</td>\n",
       "      <td>-0.415267</td>\n",
       "      <td>-0.051634</td>\n",
       "      <td>-1.206921</td>\n",
       "      <td>-1.085339</td>\n",
       "    </tr>\n",
       "    <tr>\n",
       "      <th>8</th>\n",
       "      <td>-0.894286</td>\n",
       "      <td>0.286157</td>\n",
       "      <td>-0.113192</td>\n",
       "      <td>-0.271526</td>\n",
       "      <td>2.669599</td>\n",
       "      <td>3.721818</td>\n",
       "      <td>0.370145</td>\n",
       "      <td>0.851084</td>\n",
       "      <td>-0.392048</td>\n",
       "      <td>-0.410430</td>\n",
       "      <td>...</td>\n",
       "      <td>0.570328</td>\n",
       "      <td>0.052736</td>\n",
       "      <td>-0.073425</td>\n",
       "      <td>-0.268092</td>\n",
       "      <td>-0.204233</td>\n",
       "      <td>1.011592</td>\n",
       "      <td>0.373205</td>\n",
       "      <td>-0.384157</td>\n",
       "      <td>0.011747</td>\n",
       "      <td>0.142404</td>\n",
       "    </tr>\n",
       "    <tr>\n",
       "      <th>9</th>\n",
       "      <td>-0.338262</td>\n",
       "      <td>1.119593</td>\n",
       "      <td>1.044367</td>\n",
       "      <td>-0.222187</td>\n",
       "      <td>0.499361</td>\n",
       "      <td>-0.246761</td>\n",
       "      <td>0.651583</td>\n",
       "      <td>0.069539</td>\n",
       "      <td>-0.736727</td>\n",
       "      <td>-0.366846</td>\n",
       "      <td>...</td>\n",
       "      <td>0.451773</td>\n",
       "      <td>0.203711</td>\n",
       "      <td>-0.246914</td>\n",
       "      <td>-0.633753</td>\n",
       "      <td>-0.120794</td>\n",
       "      <td>-0.385050</td>\n",
       "      <td>-0.069733</td>\n",
       "      <td>0.094199</td>\n",
       "      <td>0.246219</td>\n",
       "      <td>0.083076</td>\n",
       "    </tr>\n",
       "    <tr>\n",
       "      <th>10</th>\n",
       "      <td>1.449044</td>\n",
       "      <td>-1.176339</td>\n",
       "      <td>0.913860</td>\n",
       "      <td>-1.375667</td>\n",
       "      <td>-1.971383</td>\n",
       "      <td>-0.629152</td>\n",
       "      <td>-1.423236</td>\n",
       "      <td>0.048456</td>\n",
       "      <td>-1.720408</td>\n",
       "      <td>1.626659</td>\n",
       "      <td>...</td>\n",
       "      <td>-0.221365</td>\n",
       "      <td>-0.387226</td>\n",
       "      <td>-0.009302</td>\n",
       "      <td>0.313894</td>\n",
       "      <td>0.027740</td>\n",
       "      <td>0.500512</td>\n",
       "      <td>0.251367</td>\n",
       "      <td>-0.129478</td>\n",
       "      <td>0.042850</td>\n",
       "      <td>0.016253</td>\n",
       "    </tr>\n",
       "    <tr>\n",
       "      <th>11</th>\n",
       "      <td>0.384978</td>\n",
       "      <td>0.616109</td>\n",
       "      <td>-0.874300</td>\n",
       "      <td>-0.094019</td>\n",
       "      <td>2.924584</td>\n",
       "      <td>3.317027</td>\n",
       "      <td>0.470455</td>\n",
       "      <td>0.538247</td>\n",
       "      <td>-0.558895</td>\n",
       "      <td>0.309755</td>\n",
       "      <td>...</td>\n",
       "      <td>0.707664</td>\n",
       "      <td>0.125992</td>\n",
       "      <td>0.049924</td>\n",
       "      <td>0.238422</td>\n",
       "      <td>0.009130</td>\n",
       "      <td>0.996710</td>\n",
       "      <td>-0.767315</td>\n",
       "      <td>-0.492208</td>\n",
       "      <td>0.042472</td>\n",
       "      <td>-0.054337</td>\n",
       "    </tr>\n",
       "    <tr>\n",
       "      <th>12</th>\n",
       "      <td>1.249999</td>\n",
       "      <td>-1.221637</td>\n",
       "      <td>0.383930</td>\n",
       "      <td>-1.234899</td>\n",
       "      <td>-1.485419</td>\n",
       "      <td>-0.753230</td>\n",
       "      <td>-0.689405</td>\n",
       "      <td>-0.227487</td>\n",
       "      <td>-2.094011</td>\n",
       "      <td>1.323729</td>\n",
       "      <td>...</td>\n",
       "      <td>-0.683193</td>\n",
       "      <td>-0.102756</td>\n",
       "      <td>-0.231809</td>\n",
       "      <td>-0.483285</td>\n",
       "      <td>0.084668</td>\n",
       "      <td>0.392831</td>\n",
       "      <td>0.161135</td>\n",
       "      <td>-0.354990</td>\n",
       "      <td>0.026416</td>\n",
       "      <td>0.042422</td>\n",
       "    </tr>\n",
       "    <tr>\n",
       "      <th>13</th>\n",
       "      <td>1.069374</td>\n",
       "      <td>0.287722</td>\n",
       "      <td>0.828613</td>\n",
       "      <td>2.712520</td>\n",
       "      <td>-0.178398</td>\n",
       "      <td>0.337544</td>\n",
       "      <td>-0.096717</td>\n",
       "      <td>0.115982</td>\n",
       "      <td>-0.221083</td>\n",
       "      <td>0.460230</td>\n",
       "      <td>...</td>\n",
       "      <td>-0.982916</td>\n",
       "      <td>-0.153197</td>\n",
       "      <td>-0.036876</td>\n",
       "      <td>0.074412</td>\n",
       "      <td>-0.071407</td>\n",
       "      <td>0.104744</td>\n",
       "      <td>0.548265</td>\n",
       "      <td>0.104094</td>\n",
       "      <td>0.021491</td>\n",
       "      <td>0.021293</td>\n",
       "    </tr>\n",
       "    <tr>\n",
       "      <th>14</th>\n",
       "      <td>-2.791855</td>\n",
       "      <td>-0.327771</td>\n",
       "      <td>1.641750</td>\n",
       "      <td>1.767473</td>\n",
       "      <td>-0.136588</td>\n",
       "      <td>0.807596</td>\n",
       "      <td>-0.422911</td>\n",
       "      <td>-1.907107</td>\n",
       "      <td>0.755713</td>\n",
       "      <td>1.151087</td>\n",
       "      <td>...</td>\n",
       "      <td>2.221868</td>\n",
       "      <td>-1.582122</td>\n",
       "      <td>1.151663</td>\n",
       "      <td>0.222182</td>\n",
       "      <td>1.020586</td>\n",
       "      <td>0.028317</td>\n",
       "      <td>-0.232746</td>\n",
       "      <td>-0.235557</td>\n",
       "      <td>-0.164778</td>\n",
       "      <td>-0.030154</td>\n",
       "    </tr>\n",
       "    <tr>\n",
       "      <th>15</th>\n",
       "      <td>-0.752417</td>\n",
       "      <td>0.345485</td>\n",
       "      <td>2.057323</td>\n",
       "      <td>-1.468643</td>\n",
       "      <td>-1.158394</td>\n",
       "      <td>-0.077850</td>\n",
       "      <td>-0.608581</td>\n",
       "      <td>0.003603</td>\n",
       "      <td>-0.436167</td>\n",
       "      <td>0.747731</td>\n",
       "      <td>...</td>\n",
       "      <td>0.432535</td>\n",
       "      <td>0.263451</td>\n",
       "      <td>0.499625</td>\n",
       "      <td>1.353650</td>\n",
       "      <td>-0.256573</td>\n",
       "      <td>-0.065084</td>\n",
       "      <td>-0.039124</td>\n",
       "      <td>-0.087086</td>\n",
       "      <td>-0.180998</td>\n",
       "      <td>0.129394</td>\n",
       "    </tr>\n",
       "    <tr>\n",
       "      <th>16</th>\n",
       "      <td>1.103215</td>\n",
       "      <td>-0.040296</td>\n",
       "      <td>1.267332</td>\n",
       "      <td>1.289091</td>\n",
       "      <td>-0.735997</td>\n",
       "      <td>0.288069</td>\n",
       "      <td>-0.586057</td>\n",
       "      <td>0.189380</td>\n",
       "      <td>0.782333</td>\n",
       "      <td>-0.267975</td>\n",
       "      <td>...</td>\n",
       "      <td>-0.575682</td>\n",
       "      <td>-0.113910</td>\n",
       "      <td>-0.024612</td>\n",
       "      <td>0.196002</td>\n",
       "      <td>0.013802</td>\n",
       "      <td>0.103758</td>\n",
       "      <td>0.364298</td>\n",
       "      <td>-0.382261</td>\n",
       "      <td>0.092809</td>\n",
       "      <td>0.037051</td>\n",
       "    </tr>\n",
       "    <tr>\n",
       "      <th>17</th>\n",
       "      <td>-0.436905</td>\n",
       "      <td>0.918966</td>\n",
       "      <td>0.924591</td>\n",
       "      <td>-0.727219</td>\n",
       "      <td>0.915679</td>\n",
       "      <td>-0.127867</td>\n",
       "      <td>0.707642</td>\n",
       "      <td>0.087962</td>\n",
       "      <td>-0.665271</td>\n",
       "      <td>-0.737980</td>\n",
       "      <td>...</td>\n",
       "      <td>0.025436</td>\n",
       "      <td>-0.047021</td>\n",
       "      <td>-0.194796</td>\n",
       "      <td>-0.672638</td>\n",
       "      <td>-0.156858</td>\n",
       "      <td>-0.888386</td>\n",
       "      <td>-0.342413</td>\n",
       "      <td>-0.049027</td>\n",
       "      <td>0.079692</td>\n",
       "      <td>0.131024</td>\n",
       "    </tr>\n",
       "    <tr>\n",
       "      <th>18</th>\n",
       "      <td>-5.401258</td>\n",
       "      <td>-5.450148</td>\n",
       "      <td>1.186305</td>\n",
       "      <td>1.736239</td>\n",
       "      <td>3.049106</td>\n",
       "      <td>-1.763406</td>\n",
       "      <td>-1.559738</td>\n",
       "      <td>0.160842</td>\n",
       "      <td>1.233090</td>\n",
       "      <td>0.345173</td>\n",
       "      <td>...</td>\n",
       "      <td>-0.406867</td>\n",
       "      <td>-2.196848</td>\n",
       "      <td>-0.503600</td>\n",
       "      <td>0.984460</td>\n",
       "      <td>2.458589</td>\n",
       "      <td>0.042119</td>\n",
       "      <td>-0.481631</td>\n",
       "      <td>-0.621272</td>\n",
       "      <td>0.392053</td>\n",
       "      <td>0.949594</td>\n",
       "    </tr>\n",
       "    <tr>\n",
       "      <th>19</th>\n",
       "      <td>1.492936</td>\n",
       "      <td>-1.029346</td>\n",
       "      <td>0.454795</td>\n",
       "      <td>-1.438026</td>\n",
       "      <td>-1.555434</td>\n",
       "      <td>-0.720961</td>\n",
       "      <td>-1.080664</td>\n",
       "      <td>-0.053127</td>\n",
       "      <td>-1.978682</td>\n",
       "      <td>1.638076</td>\n",
       "      <td>...</td>\n",
       "      <td>0.054230</td>\n",
       "      <td>-0.387910</td>\n",
       "      <td>-0.177650</td>\n",
       "      <td>-0.175074</td>\n",
       "      <td>0.040002</td>\n",
       "      <td>0.295814</td>\n",
       "      <td>0.332931</td>\n",
       "      <td>-0.220385</td>\n",
       "      <td>0.022298</td>\n",
       "      <td>0.007602</td>\n",
       "    </tr>\n",
       "    <tr>\n",
       "      <th>20</th>\n",
       "      <td>0.694885</td>\n",
       "      <td>-1.361819</td>\n",
       "      <td>1.029221</td>\n",
       "      <td>0.834159</td>\n",
       "      <td>-1.191209</td>\n",
       "      <td>1.309109</td>\n",
       "      <td>-0.878586</td>\n",
       "      <td>0.445290</td>\n",
       "      <td>-0.446196</td>\n",
       "      <td>0.568521</td>\n",
       "      <td>...</td>\n",
       "      <td>-1.300408</td>\n",
       "      <td>-0.138334</td>\n",
       "      <td>-0.295583</td>\n",
       "      <td>-0.571955</td>\n",
       "      <td>-0.050881</td>\n",
       "      <td>-0.304215</td>\n",
       "      <td>0.072001</td>\n",
       "      <td>-0.422234</td>\n",
       "      <td>0.086553</td>\n",
       "      <td>0.063499</td>\n",
       "    </tr>\n",
       "    <tr>\n",
       "      <th>21</th>\n",
       "      <td>0.962496</td>\n",
       "      <td>0.328461</td>\n",
       "      <td>-0.171479</td>\n",
       "      <td>2.109204</td>\n",
       "      <td>1.129566</td>\n",
       "      <td>1.696038</td>\n",
       "      <td>0.107712</td>\n",
       "      <td>0.521502</td>\n",
       "      <td>-1.191311</td>\n",
       "      <td>0.724396</td>\n",
       "      <td>...</td>\n",
       "      <td>-2.027612</td>\n",
       "      <td>-0.269321</td>\n",
       "      <td>0.143997</td>\n",
       "      <td>0.402492</td>\n",
       "      <td>-0.048508</td>\n",
       "      <td>-1.371866</td>\n",
       "      <td>0.390814</td>\n",
       "      <td>0.199964</td>\n",
       "      <td>0.016371</td>\n",
       "      <td>-0.014605</td>\n",
       "    </tr>\n",
       "    <tr>\n",
       "      <th>22</th>\n",
       "      <td>1.166616</td>\n",
       "      <td>0.502120</td>\n",
       "      <td>-0.067300</td>\n",
       "      <td>2.261569</td>\n",
       "      <td>0.428804</td>\n",
       "      <td>0.089474</td>\n",
       "      <td>0.241147</td>\n",
       "      <td>0.138082</td>\n",
       "      <td>-0.989162</td>\n",
       "      <td>0.922175</td>\n",
       "      <td>...</td>\n",
       "      <td>-0.816597</td>\n",
       "      <td>-0.307169</td>\n",
       "      <td>0.018702</td>\n",
       "      <td>-0.061972</td>\n",
       "      <td>-0.103855</td>\n",
       "      <td>-0.370415</td>\n",
       "      <td>0.603200</td>\n",
       "      <td>0.108556</td>\n",
       "      <td>-0.040521</td>\n",
       "      <td>-0.011418</td>\n",
       "    </tr>\n",
       "    <tr>\n",
       "      <th>23</th>\n",
       "      <td>0.247491</td>\n",
       "      <td>0.277666</td>\n",
       "      <td>1.185471</td>\n",
       "      <td>-0.092603</td>\n",
       "      <td>-1.314394</td>\n",
       "      <td>-0.150116</td>\n",
       "      <td>-0.946365</td>\n",
       "      <td>-1.617935</td>\n",
       "      <td>1.544071</td>\n",
       "      <td>-0.829881</td>\n",
       "      <td>...</td>\n",
       "      <td>2.177807</td>\n",
       "      <td>-0.230983</td>\n",
       "      <td>1.650180</td>\n",
       "      <td>0.200454</td>\n",
       "      <td>-0.185353</td>\n",
       "      <td>0.423073</td>\n",
       "      <td>0.820591</td>\n",
       "      <td>-0.227632</td>\n",
       "      <td>0.336634</td>\n",
       "      <td>0.250475</td>\n",
       "    </tr>\n",
       "    <tr>\n",
       "      <th>24</th>\n",
       "      <td>-1.946525</td>\n",
       "      <td>-0.044901</td>\n",
       "      <td>-0.405570</td>\n",
       "      <td>-1.013057</td>\n",
       "      <td>2.941968</td>\n",
       "      <td>2.955053</td>\n",
       "      <td>-0.063063</td>\n",
       "      <td>0.855546</td>\n",
       "      <td>0.049967</td>\n",
       "      <td>0.573743</td>\n",
       "      <td>...</td>\n",
       "      <td>0.488603</td>\n",
       "      <td>-0.216715</td>\n",
       "      <td>-0.579526</td>\n",
       "      <td>-0.799229</td>\n",
       "      <td>0.870300</td>\n",
       "      <td>0.983421</td>\n",
       "      <td>0.321201</td>\n",
       "      <td>0.149650</td>\n",
       "      <td>0.707519</td>\n",
       "      <td>0.014600</td>\n",
       "    </tr>\n",
       "    <tr>\n",
       "      <th>25</th>\n",
       "      <td>-2.074295</td>\n",
       "      <td>-0.121482</td>\n",
       "      <td>1.322021</td>\n",
       "      <td>0.410008</td>\n",
       "      <td>0.295198</td>\n",
       "      <td>-0.959537</td>\n",
       "      <td>0.543985</td>\n",
       "      <td>-0.104627</td>\n",
       "      <td>0.475664</td>\n",
       "      <td>0.149451</td>\n",
       "      <td>...</td>\n",
       "      <td>0.505751</td>\n",
       "      <td>-0.386694</td>\n",
       "      <td>-0.403639</td>\n",
       "      <td>-0.227404</td>\n",
       "      <td>0.742435</td>\n",
       "      <td>0.398535</td>\n",
       "      <td>0.249212</td>\n",
       "      <td>0.274404</td>\n",
       "      <td>0.359969</td>\n",
       "      <td>0.243232</td>\n",
       "    </tr>\n",
       "    <tr>\n",
       "      <th>26</th>\n",
       "      <td>1.173285</td>\n",
       "      <td>0.353498</td>\n",
       "      <td>0.283905</td>\n",
       "      <td>1.133563</td>\n",
       "      <td>-0.172577</td>\n",
       "      <td>-0.916054</td>\n",
       "      <td>0.369025</td>\n",
       "      <td>-0.327260</td>\n",
       "      <td>-0.246651</td>\n",
       "      <td>-0.046139</td>\n",
       "      <td>...</td>\n",
       "      <td>-0.390934</td>\n",
       "      <td>0.027878</td>\n",
       "      <td>0.067003</td>\n",
       "      <td>0.227812</td>\n",
       "      <td>-0.150487</td>\n",
       "      <td>0.435045</td>\n",
       "      <td>0.724825</td>\n",
       "      <td>-0.337082</td>\n",
       "      <td>0.016368</td>\n",
       "      <td>0.030041</td>\n",
       "    </tr>\n",
       "    <tr>\n",
       "      <th>27</th>\n",
       "      <td>1.322707</td>\n",
       "      <td>-0.174041</td>\n",
       "      <td>0.434555</td>\n",
       "      <td>0.576038</td>\n",
       "      <td>-0.836758</td>\n",
       "      <td>-0.831083</td>\n",
       "      <td>-0.264905</td>\n",
       "      <td>-0.220982</td>\n",
       "      <td>-1.071425</td>\n",
       "      <td>0.868559</td>\n",
       "      <td>...</td>\n",
       "      <td>-1.240622</td>\n",
       "      <td>-0.522951</td>\n",
       "      <td>-0.284376</td>\n",
       "      <td>-0.323357</td>\n",
       "      <td>-0.037710</td>\n",
       "      <td>0.347151</td>\n",
       "      <td>0.559639</td>\n",
       "      <td>-0.280158</td>\n",
       "      <td>0.042335</td>\n",
       "      <td>0.028822</td>\n",
       "    </tr>\n",
       "    <tr>\n",
       "      <th>28</th>\n",
       "      <td>-0.414289</td>\n",
       "      <td>0.905437</td>\n",
       "      <td>1.727453</td>\n",
       "      <td>1.473471</td>\n",
       "      <td>0.007443</td>\n",
       "      <td>-0.200331</td>\n",
       "      <td>0.740228</td>\n",
       "      <td>-0.029247</td>\n",
       "      <td>-0.593392</td>\n",
       "      <td>-0.346188</td>\n",
       "      <td>...</td>\n",
       "      <td>0.543969</td>\n",
       "      <td>0.097308</td>\n",
       "      <td>0.077237</td>\n",
       "      <td>0.457331</td>\n",
       "      <td>-0.038500</td>\n",
       "      <td>0.642522</td>\n",
       "      <td>-0.183891</td>\n",
       "      <td>-0.277464</td>\n",
       "      <td>0.182687</td>\n",
       "      <td>0.152665</td>\n",
       "    </tr>\n",
       "    <tr>\n",
       "      <th>29</th>\n",
       "      <td>1.059387</td>\n",
       "      <td>-0.175319</td>\n",
       "      <td>1.266130</td>\n",
       "      <td>1.186110</td>\n",
       "      <td>-0.786002</td>\n",
       "      <td>0.578435</td>\n",
       "      <td>-0.767084</td>\n",
       "      <td>0.401046</td>\n",
       "      <td>0.699500</td>\n",
       "      <td>-0.064738</td>\n",
       "      <td>...</td>\n",
       "      <td>-0.277834</td>\n",
       "      <td>-0.178023</td>\n",
       "      <td>0.013676</td>\n",
       "      <td>0.213734</td>\n",
       "      <td>0.014462</td>\n",
       "      <td>0.002951</td>\n",
       "      <td>0.294638</td>\n",
       "      <td>-0.395070</td>\n",
       "      <td>0.081461</td>\n",
       "      <td>0.024220</td>\n",
       "    </tr>\n",
       "    <tr>\n",
       "      <th>...</th>\n",
       "      <td>...</td>\n",
       "      <td>...</td>\n",
       "      <td>...</td>\n",
       "      <td>...</td>\n",
       "      <td>...</td>\n",
       "      <td>...</td>\n",
       "      <td>...</td>\n",
       "      <td>...</td>\n",
       "      <td>...</td>\n",
       "      <td>...</td>\n",
       "      <td>...</td>\n",
       "      <td>...</td>\n",
       "      <td>...</td>\n",
       "      <td>...</td>\n",
       "      <td>...</td>\n",
       "      <td>...</td>\n",
       "      <td>...</td>\n",
       "      <td>...</td>\n",
       "      <td>...</td>\n",
       "      <td>...</td>\n",
       "      <td>...</td>\n",
       "    </tr>\n",
       "    <tr>\n",
       "      <th>284777</th>\n",
       "      <td>2.079137</td>\n",
       "      <td>-0.028723</td>\n",
       "      <td>-1.343392</td>\n",
       "      <td>0.358000</td>\n",
       "      <td>-0.045791</td>\n",
       "      <td>-1.345452</td>\n",
       "      <td>0.227476</td>\n",
       "      <td>-0.378355</td>\n",
       "      <td>0.665911</td>\n",
       "      <td>0.028351</td>\n",
       "      <td>...</td>\n",
       "      <td>-0.205470</td>\n",
       "      <td>-0.272447</td>\n",
       "      <td>0.235758</td>\n",
       "      <td>0.829758</td>\n",
       "      <td>-0.002063</td>\n",
       "      <td>0.001344</td>\n",
       "      <td>0.262183</td>\n",
       "      <td>-0.105327</td>\n",
       "      <td>-0.022363</td>\n",
       "      <td>-0.060283</td>\n",
       "    </tr>\n",
       "    <tr>\n",
       "      <th>284778</th>\n",
       "      <td>-0.764523</td>\n",
       "      <td>0.588379</td>\n",
       "      <td>-0.907599</td>\n",
       "      <td>-0.418847</td>\n",
       "      <td>0.901528</td>\n",
       "      <td>-0.760802</td>\n",
       "      <td>0.758545</td>\n",
       "      <td>0.414698</td>\n",
       "      <td>-0.730854</td>\n",
       "      <td>-1.245088</td>\n",
       "      <td>...</td>\n",
       "      <td>-0.022064</td>\n",
       "      <td>0.024870</td>\n",
       "      <td>0.003530</td>\n",
       "      <td>-0.431876</td>\n",
       "      <td>0.141759</td>\n",
       "      <td>0.587119</td>\n",
       "      <td>-0.200998</td>\n",
       "      <td>0.267337</td>\n",
       "      <td>-0.152951</td>\n",
       "      <td>-0.065285</td>\n",
       "    </tr>\n",
       "    <tr>\n",
       "      <th>284779</th>\n",
       "      <td>1.975178</td>\n",
       "      <td>-0.616244</td>\n",
       "      <td>-2.628295</td>\n",
       "      <td>-0.406246</td>\n",
       "      <td>2.327804</td>\n",
       "      <td>3.664740</td>\n",
       "      <td>-0.533297</td>\n",
       "      <td>0.842937</td>\n",
       "      <td>1.128798</td>\n",
       "      <td>-0.220744</td>\n",
       "      <td>...</td>\n",
       "      <td>0.295402</td>\n",
       "      <td>-0.168378</td>\n",
       "      <td>0.086043</td>\n",
       "      <td>0.543613</td>\n",
       "      <td>-0.032129</td>\n",
       "      <td>0.768379</td>\n",
       "      <td>0.477688</td>\n",
       "      <td>-0.031833</td>\n",
       "      <td>0.014151</td>\n",
       "      <td>-0.066542</td>\n",
       "    </tr>\n",
       "    <tr>\n",
       "      <th>284780</th>\n",
       "      <td>-1.727503</td>\n",
       "      <td>1.108356</td>\n",
       "      <td>2.219561</td>\n",
       "      <td>1.148583</td>\n",
       "      <td>-0.884199</td>\n",
       "      <td>0.793083</td>\n",
       "      <td>-0.527298</td>\n",
       "      <td>0.866429</td>\n",
       "      <td>0.853819</td>\n",
       "      <td>-0.195152</td>\n",
       "      <td>...</td>\n",
       "      <td>0.757367</td>\n",
       "      <td>0.331940</td>\n",
       "      <td>-0.094708</td>\n",
       "      <td>0.236818</td>\n",
       "      <td>-0.204280</td>\n",
       "      <td>1.158185</td>\n",
       "      <td>0.627801</td>\n",
       "      <td>-0.399981</td>\n",
       "      <td>0.510818</td>\n",
       "      <td>0.233265</td>\n",
       "    </tr>\n",
       "    <tr>\n",
       "      <th>284781</th>\n",
       "      <td>-1.139015</td>\n",
       "      <td>-0.155510</td>\n",
       "      <td>1.894478</td>\n",
       "      <td>-1.138957</td>\n",
       "      <td>1.451777</td>\n",
       "      <td>0.093598</td>\n",
       "      <td>0.191353</td>\n",
       "      <td>0.092211</td>\n",
       "      <td>-0.062621</td>\n",
       "      <td>-0.792066</td>\n",
       "      <td>...</td>\n",
       "      <td>0.546517</td>\n",
       "      <td>0.341409</td>\n",
       "      <td>-0.191027</td>\n",
       "      <td>-0.631658</td>\n",
       "      <td>-0.147249</td>\n",
       "      <td>0.212931</td>\n",
       "      <td>0.354257</td>\n",
       "      <td>-0.241068</td>\n",
       "      <td>-0.161717</td>\n",
       "      <td>-0.149188</td>\n",
       "    </tr>\n",
       "    <tr>\n",
       "      <th>284782</th>\n",
       "      <td>-0.268061</td>\n",
       "      <td>2.540315</td>\n",
       "      <td>-1.400915</td>\n",
       "      <td>4.846661</td>\n",
       "      <td>0.639105</td>\n",
       "      <td>0.186479</td>\n",
       "      <td>-0.045911</td>\n",
       "      <td>0.936448</td>\n",
       "      <td>-2.419986</td>\n",
       "      <td>0.525012</td>\n",
       "      <td>...</td>\n",
       "      <td>1.091523</td>\n",
       "      <td>0.111808</td>\n",
       "      <td>-0.263889</td>\n",
       "      <td>-0.857904</td>\n",
       "      <td>0.235172</td>\n",
       "      <td>-0.681794</td>\n",
       "      <td>-0.668894</td>\n",
       "      <td>0.044657</td>\n",
       "      <td>-0.066751</td>\n",
       "      <td>-0.072447</td>\n",
       "    </tr>\n",
       "    <tr>\n",
       "      <th>284783</th>\n",
       "      <td>-1.796092</td>\n",
       "      <td>1.929178</td>\n",
       "      <td>-2.828417</td>\n",
       "      <td>-1.689844</td>\n",
       "      <td>2.199572</td>\n",
       "      <td>3.123732</td>\n",
       "      <td>-0.270714</td>\n",
       "      <td>1.657495</td>\n",
       "      <td>0.465804</td>\n",
       "      <td>0.832931</td>\n",
       "      <td>...</td>\n",
       "      <td>-0.202990</td>\n",
       "      <td>0.319366</td>\n",
       "      <td>0.271170</td>\n",
       "      <td>1.145750</td>\n",
       "      <td>0.084783</td>\n",
       "      <td>0.721269</td>\n",
       "      <td>-0.529906</td>\n",
       "      <td>-0.240117</td>\n",
       "      <td>0.129126</td>\n",
       "      <td>-0.080620</td>\n",
       "    </tr>\n",
       "    <tr>\n",
       "      <th>284784</th>\n",
       "      <td>-0.669662</td>\n",
       "      <td>0.923769</td>\n",
       "      <td>-1.543167</td>\n",
       "      <td>-1.560729</td>\n",
       "      <td>2.833960</td>\n",
       "      <td>3.240843</td>\n",
       "      <td>0.181576</td>\n",
       "      <td>1.282746</td>\n",
       "      <td>-0.893890</td>\n",
       "      <td>-1.453432</td>\n",
       "      <td>...</td>\n",
       "      <td>-0.671301</td>\n",
       "      <td>0.000965</td>\n",
       "      <td>0.183856</td>\n",
       "      <td>0.202670</td>\n",
       "      <td>-0.373023</td>\n",
       "      <td>0.651122</td>\n",
       "      <td>1.073823</td>\n",
       "      <td>0.844590</td>\n",
       "      <td>-0.286676</td>\n",
       "      <td>-0.187719</td>\n",
       "    </tr>\n",
       "    <tr>\n",
       "      <th>284785</th>\n",
       "      <td>0.032887</td>\n",
       "      <td>0.545338</td>\n",
       "      <td>-1.185844</td>\n",
       "      <td>-1.729828</td>\n",
       "      <td>2.932315</td>\n",
       "      <td>3.401529</td>\n",
       "      <td>0.337434</td>\n",
       "      <td>0.925377</td>\n",
       "      <td>-0.165663</td>\n",
       "      <td>-0.386953</td>\n",
       "      <td>...</td>\n",
       "      <td>-0.206385</td>\n",
       "      <td>0.022677</td>\n",
       "      <td>-0.266113</td>\n",
       "      <td>-0.716336</td>\n",
       "      <td>0.108519</td>\n",
       "      <td>0.688519</td>\n",
       "      <td>-0.460220</td>\n",
       "      <td>0.161939</td>\n",
       "      <td>0.265368</td>\n",
       "      <td>0.090245</td>\n",
       "    </tr>\n",
       "    <tr>\n",
       "      <th>284786</th>\n",
       "      <td>-2.076175</td>\n",
       "      <td>2.142238</td>\n",
       "      <td>-2.522704</td>\n",
       "      <td>-1.888063</td>\n",
       "      <td>1.982785</td>\n",
       "      <td>3.732950</td>\n",
       "      <td>-1.217430</td>\n",
       "      <td>-0.536644</td>\n",
       "      <td>0.272867</td>\n",
       "      <td>0.300342</td>\n",
       "      <td>...</td>\n",
       "      <td>-0.354163</td>\n",
       "      <td>-0.308523</td>\n",
       "      <td>2.016666</td>\n",
       "      <td>-1.588269</td>\n",
       "      <td>0.588482</td>\n",
       "      <td>0.632444</td>\n",
       "      <td>-0.201064</td>\n",
       "      <td>0.199251</td>\n",
       "      <td>0.438657</td>\n",
       "      <td>0.172923</td>\n",
       "    </tr>\n",
       "    <tr>\n",
       "      <th>284787</th>\n",
       "      <td>-1.029719</td>\n",
       "      <td>-1.110670</td>\n",
       "      <td>-0.636179</td>\n",
       "      <td>-0.840816</td>\n",
       "      <td>2.424360</td>\n",
       "      <td>-2.956733</td>\n",
       "      <td>0.283610</td>\n",
       "      <td>-0.332656</td>\n",
       "      <td>-0.247488</td>\n",
       "      <td>-0.328271</td>\n",
       "      <td>...</td>\n",
       "      <td>-0.014378</td>\n",
       "      <td>0.218776</td>\n",
       "      <td>0.353722</td>\n",
       "      <td>0.488487</td>\n",
       "      <td>0.293632</td>\n",
       "      <td>0.107812</td>\n",
       "      <td>-0.935586</td>\n",
       "      <td>1.138216</td>\n",
       "      <td>0.025271</td>\n",
       "      <td>0.255347</td>\n",
       "    </tr>\n",
       "    <tr>\n",
       "      <th>284788</th>\n",
       "      <td>2.007418</td>\n",
       "      <td>-0.280235</td>\n",
       "      <td>-0.208113</td>\n",
       "      <td>0.335261</td>\n",
       "      <td>-0.715798</td>\n",
       "      <td>-0.751373</td>\n",
       "      <td>-0.458972</td>\n",
       "      <td>-0.140140</td>\n",
       "      <td>0.959971</td>\n",
       "      <td>-0.028284</td>\n",
       "      <td>...</td>\n",
       "      <td>-0.082349</td>\n",
       "      <td>-0.143294</td>\n",
       "      <td>-0.208260</td>\n",
       "      <td>-0.430347</td>\n",
       "      <td>0.416765</td>\n",
       "      <td>0.064819</td>\n",
       "      <td>-0.608337</td>\n",
       "      <td>0.268436</td>\n",
       "      <td>-0.028069</td>\n",
       "      <td>-0.041367</td>\n",
       "    </tr>\n",
       "    <tr>\n",
       "      <th>284789</th>\n",
       "      <td>-0.446951</td>\n",
       "      <td>1.302212</td>\n",
       "      <td>-0.168583</td>\n",
       "      <td>0.981577</td>\n",
       "      <td>0.578957</td>\n",
       "      <td>-0.605641</td>\n",
       "      <td>1.253430</td>\n",
       "      <td>-1.042610</td>\n",
       "      <td>-0.417116</td>\n",
       "      <td>0.076605</td>\n",
       "      <td>...</td>\n",
       "      <td>0.744416</td>\n",
       "      <td>-0.203306</td>\n",
       "      <td>0.851800</td>\n",
       "      <td>0.305268</td>\n",
       "      <td>-0.148093</td>\n",
       "      <td>-0.038712</td>\n",
       "      <td>0.010209</td>\n",
       "      <td>-0.362666</td>\n",
       "      <td>0.503092</td>\n",
       "      <td>0.229921</td>\n",
       "    </tr>\n",
       "    <tr>\n",
       "      <th>284790</th>\n",
       "      <td>-0.515513</td>\n",
       "      <td>0.971950</td>\n",
       "      <td>-1.014580</td>\n",
       "      <td>-0.677037</td>\n",
       "      <td>0.912430</td>\n",
       "      <td>-0.316187</td>\n",
       "      <td>0.396137</td>\n",
       "      <td>0.532364</td>\n",
       "      <td>-0.224606</td>\n",
       "      <td>-0.753365</td>\n",
       "      <td>...</td>\n",
       "      <td>0.180495</td>\n",
       "      <td>-0.177211</td>\n",
       "      <td>-0.280302</td>\n",
       "      <td>-0.849919</td>\n",
       "      <td>0.300245</td>\n",
       "      <td>0.000607</td>\n",
       "      <td>-0.376379</td>\n",
       "      <td>0.128660</td>\n",
       "      <td>-0.015205</td>\n",
       "      <td>-0.021486</td>\n",
       "    </tr>\n",
       "    <tr>\n",
       "      <th>284791</th>\n",
       "      <td>-0.863506</td>\n",
       "      <td>0.874701</td>\n",
       "      <td>0.420358</td>\n",
       "      <td>-0.530365</td>\n",
       "      <td>0.356561</td>\n",
       "      <td>-1.046238</td>\n",
       "      <td>0.757051</td>\n",
       "      <td>0.230473</td>\n",
       "      <td>-0.506856</td>\n",
       "      <td>-1.032990</td>\n",
       "      <td>...</td>\n",
       "      <td>0.077652</td>\n",
       "      <td>-0.162132</td>\n",
       "      <td>-0.108846</td>\n",
       "      <td>-0.480820</td>\n",
       "      <td>-0.074513</td>\n",
       "      <td>-0.003988</td>\n",
       "      <td>-0.113149</td>\n",
       "      <td>0.280378</td>\n",
       "      <td>-0.077310</td>\n",
       "      <td>0.023079</td>\n",
       "    </tr>\n",
       "    <tr>\n",
       "      <th>284792</th>\n",
       "      <td>-0.724123</td>\n",
       "      <td>1.485216</td>\n",
       "      <td>-1.132218</td>\n",
       "      <td>-0.607190</td>\n",
       "      <td>0.709499</td>\n",
       "      <td>-0.482638</td>\n",
       "      <td>0.548393</td>\n",
       "      <td>0.343003</td>\n",
       "      <td>-0.226323</td>\n",
       "      <td>-0.348134</td>\n",
       "      <td>...</td>\n",
       "      <td>0.182152</td>\n",
       "      <td>-0.077202</td>\n",
       "      <td>0.414621</td>\n",
       "      <td>1.307511</td>\n",
       "      <td>-0.059545</td>\n",
       "      <td>0.242669</td>\n",
       "      <td>-0.665424</td>\n",
       "      <td>-0.269869</td>\n",
       "      <td>-0.170579</td>\n",
       "      <td>-0.030692</td>\n",
       "    </tr>\n",
       "    <tr>\n",
       "      <th>284793</th>\n",
       "      <td>1.971002</td>\n",
       "      <td>-0.699067</td>\n",
       "      <td>-1.697541</td>\n",
       "      <td>-0.617643</td>\n",
       "      <td>1.718797</td>\n",
       "      <td>3.911336</td>\n",
       "      <td>-1.259306</td>\n",
       "      <td>1.056209</td>\n",
       "      <td>1.315006</td>\n",
       "      <td>-0.146827</td>\n",
       "      <td>...</td>\n",
       "      <td>-0.356789</td>\n",
       "      <td>-0.153581</td>\n",
       "      <td>0.188758</td>\n",
       "      <td>0.694418</td>\n",
       "      <td>0.163002</td>\n",
       "      <td>0.726365</td>\n",
       "      <td>-0.058282</td>\n",
       "      <td>-0.191813</td>\n",
       "      <td>0.061858</td>\n",
       "      <td>-0.043716</td>\n",
       "    </tr>\n",
       "    <tr>\n",
       "      <th>284794</th>\n",
       "      <td>-1.266580</td>\n",
       "      <td>-0.400461</td>\n",
       "      <td>0.956221</td>\n",
       "      <td>-0.723919</td>\n",
       "      <td>1.531993</td>\n",
       "      <td>-1.788600</td>\n",
       "      <td>0.314741</td>\n",
       "      <td>0.004704</td>\n",
       "      <td>0.013857</td>\n",
       "      <td>-0.815911</td>\n",
       "      <td>...</td>\n",
       "      <td>-0.518738</td>\n",
       "      <td>-0.029539</td>\n",
       "      <td>-0.157831</td>\n",
       "      <td>-0.883365</td>\n",
       "      <td>0.088485</td>\n",
       "      <td>-0.076790</td>\n",
       "      <td>-0.095833</td>\n",
       "      <td>0.132720</td>\n",
       "      <td>-0.028468</td>\n",
       "      <td>0.126494</td>\n",
       "    </tr>\n",
       "    <tr>\n",
       "      <th>284795</th>\n",
       "      <td>-12.516732</td>\n",
       "      <td>10.187818</td>\n",
       "      <td>-8.476671</td>\n",
       "      <td>-2.510473</td>\n",
       "      <td>-4.586669</td>\n",
       "      <td>-1.394465</td>\n",
       "      <td>-3.632516</td>\n",
       "      <td>5.498583</td>\n",
       "      <td>4.893089</td>\n",
       "      <td>8.655320</td>\n",
       "      <td>...</td>\n",
       "      <td>-0.571605</td>\n",
       "      <td>3.490065</td>\n",
       "      <td>-0.944759</td>\n",
       "      <td>-1.565026</td>\n",
       "      <td>0.890675</td>\n",
       "      <td>-1.253276</td>\n",
       "      <td>1.786717</td>\n",
       "      <td>0.320763</td>\n",
       "      <td>2.090712</td>\n",
       "      <td>1.232864</td>\n",
       "    </tr>\n",
       "    <tr>\n",
       "      <th>284796</th>\n",
       "      <td>1.884849</td>\n",
       "      <td>-0.143540</td>\n",
       "      <td>-0.999943</td>\n",
       "      <td>1.506772</td>\n",
       "      <td>-0.035300</td>\n",
       "      <td>-0.613638</td>\n",
       "      <td>0.190241</td>\n",
       "      <td>-0.249058</td>\n",
       "      <td>0.666458</td>\n",
       "      <td>0.120908</td>\n",
       "      <td>...</td>\n",
       "      <td>-0.283278</td>\n",
       "      <td>-0.153997</td>\n",
       "      <td>0.144008</td>\n",
       "      <td>0.634646</td>\n",
       "      <td>-0.042114</td>\n",
       "      <td>-0.053206</td>\n",
       "      <td>0.316403</td>\n",
       "      <td>-0.461441</td>\n",
       "      <td>0.018265</td>\n",
       "      <td>-0.041068</td>\n",
       "    </tr>\n",
       "    <tr>\n",
       "      <th>284797</th>\n",
       "      <td>-0.241923</td>\n",
       "      <td>0.712247</td>\n",
       "      <td>0.399806</td>\n",
       "      <td>-0.463406</td>\n",
       "      <td>0.244531</td>\n",
       "      <td>-1.343668</td>\n",
       "      <td>0.929369</td>\n",
       "      <td>-0.206210</td>\n",
       "      <td>0.106234</td>\n",
       "      <td>-0.284708</td>\n",
       "      <td>...</td>\n",
       "      <td>-0.290491</td>\n",
       "      <td>-0.139512</td>\n",
       "      <td>-0.228876</td>\n",
       "      <td>-0.514376</td>\n",
       "      <td>0.279598</td>\n",
       "      <td>0.371441</td>\n",
       "      <td>-0.559238</td>\n",
       "      <td>0.113144</td>\n",
       "      <td>0.131507</td>\n",
       "      <td>0.081265</td>\n",
       "    </tr>\n",
       "    <tr>\n",
       "      <th>284798</th>\n",
       "      <td>0.219529</td>\n",
       "      <td>0.881246</td>\n",
       "      <td>-0.635891</td>\n",
       "      <td>0.960928</td>\n",
       "      <td>-0.152971</td>\n",
       "      <td>-1.014307</td>\n",
       "      <td>0.427126</td>\n",
       "      <td>0.121340</td>\n",
       "      <td>-0.285670</td>\n",
       "      <td>-0.111640</td>\n",
       "      <td>...</td>\n",
       "      <td>2.894952</td>\n",
       "      <td>0.006666</td>\n",
       "      <td>0.099936</td>\n",
       "      <td>0.337120</td>\n",
       "      <td>0.251791</td>\n",
       "      <td>0.057688</td>\n",
       "      <td>-1.508368</td>\n",
       "      <td>0.144023</td>\n",
       "      <td>0.181205</td>\n",
       "      <td>0.215243</td>\n",
       "    </tr>\n",
       "    <tr>\n",
       "      <th>284799</th>\n",
       "      <td>-1.775135</td>\n",
       "      <td>-0.004235</td>\n",
       "      <td>1.189786</td>\n",
       "      <td>0.331096</td>\n",
       "      <td>1.196063</td>\n",
       "      <td>5.519980</td>\n",
       "      <td>-1.518185</td>\n",
       "      <td>2.080825</td>\n",
       "      <td>1.159498</td>\n",
       "      <td>-0.594242</td>\n",
       "      <td>...</td>\n",
       "      <td>0.792135</td>\n",
       "      <td>0.348176</td>\n",
       "      <td>0.103302</td>\n",
       "      <td>0.654850</td>\n",
       "      <td>-0.348929</td>\n",
       "      <td>0.745323</td>\n",
       "      <td>0.704545</td>\n",
       "      <td>-0.127579</td>\n",
       "      <td>0.454379</td>\n",
       "      <td>0.130308</td>\n",
       "    </tr>\n",
       "    <tr>\n",
       "      <th>284800</th>\n",
       "      <td>2.039560</td>\n",
       "      <td>-0.175233</td>\n",
       "      <td>-1.196825</td>\n",
       "      <td>0.234580</td>\n",
       "      <td>-0.008713</td>\n",
       "      <td>-0.726571</td>\n",
       "      <td>0.017050</td>\n",
       "      <td>-0.118228</td>\n",
       "      <td>0.435402</td>\n",
       "      <td>0.267772</td>\n",
       "      <td>...</td>\n",
       "      <td>0.561695</td>\n",
       "      <td>-0.256922</td>\n",
       "      <td>-0.268048</td>\n",
       "      <td>-0.717211</td>\n",
       "      <td>0.297930</td>\n",
       "      <td>-0.359769</td>\n",
       "      <td>-0.315610</td>\n",
       "      <td>0.201114</td>\n",
       "      <td>-0.080826</td>\n",
       "      <td>-0.075071</td>\n",
       "    </tr>\n",
       "    <tr>\n",
       "      <th>284801</th>\n",
       "      <td>0.120316</td>\n",
       "      <td>0.931005</td>\n",
       "      <td>-0.546012</td>\n",
       "      <td>-0.745097</td>\n",
       "      <td>1.130314</td>\n",
       "      <td>-0.235973</td>\n",
       "      <td>0.812722</td>\n",
       "      <td>0.115093</td>\n",
       "      <td>-0.204064</td>\n",
       "      <td>-0.657422</td>\n",
       "      <td>...</td>\n",
       "      <td>0.128904</td>\n",
       "      <td>0.000676</td>\n",
       "      <td>-0.314205</td>\n",
       "      <td>-0.808520</td>\n",
       "      <td>0.050343</td>\n",
       "      <td>0.102800</td>\n",
       "      <td>-0.435870</td>\n",
       "      <td>0.124079</td>\n",
       "      <td>0.217940</td>\n",
       "      <td>0.068803</td>\n",
       "    </tr>\n",
       "    <tr>\n",
       "      <th>284802</th>\n",
       "      <td>-11.881118</td>\n",
       "      <td>10.071785</td>\n",
       "      <td>-9.834783</td>\n",
       "      <td>-2.066656</td>\n",
       "      <td>-5.364473</td>\n",
       "      <td>-2.606837</td>\n",
       "      <td>-4.918215</td>\n",
       "      <td>7.305334</td>\n",
       "      <td>1.914428</td>\n",
       "      <td>4.356170</td>\n",
       "      <td>...</td>\n",
       "      <td>-0.682920</td>\n",
       "      <td>1.475829</td>\n",
       "      <td>0.213454</td>\n",
       "      <td>0.111864</td>\n",
       "      <td>1.014480</td>\n",
       "      <td>-0.509348</td>\n",
       "      <td>1.436807</td>\n",
       "      <td>0.250034</td>\n",
       "      <td>0.943651</td>\n",
       "      <td>0.823731</td>\n",
       "    </tr>\n",
       "    <tr>\n",
       "      <th>284803</th>\n",
       "      <td>-0.732789</td>\n",
       "      <td>-0.055080</td>\n",
       "      <td>2.035030</td>\n",
       "      <td>-0.738589</td>\n",
       "      <td>0.868229</td>\n",
       "      <td>1.058415</td>\n",
       "      <td>0.024330</td>\n",
       "      <td>0.294869</td>\n",
       "      <td>0.584800</td>\n",
       "      <td>-0.975926</td>\n",
       "      <td>...</td>\n",
       "      <td>-1.545556</td>\n",
       "      <td>0.059616</td>\n",
       "      <td>0.214205</td>\n",
       "      <td>0.924384</td>\n",
       "      <td>0.012463</td>\n",
       "      <td>-1.016226</td>\n",
       "      <td>-0.606624</td>\n",
       "      <td>-0.395255</td>\n",
       "      <td>0.068472</td>\n",
       "      <td>-0.053527</td>\n",
       "    </tr>\n",
       "    <tr>\n",
       "      <th>284804</th>\n",
       "      <td>1.919565</td>\n",
       "      <td>-0.301254</td>\n",
       "      <td>-3.249640</td>\n",
       "      <td>-0.557828</td>\n",
       "      <td>2.630515</td>\n",
       "      <td>3.031260</td>\n",
       "      <td>-0.296827</td>\n",
       "      <td>0.708417</td>\n",
       "      <td>0.432454</td>\n",
       "      <td>-0.484782</td>\n",
       "      <td>...</td>\n",
       "      <td>-0.577252</td>\n",
       "      <td>0.001396</td>\n",
       "      <td>0.232045</td>\n",
       "      <td>0.578229</td>\n",
       "      <td>-0.037501</td>\n",
       "      <td>0.640134</td>\n",
       "      <td>0.265745</td>\n",
       "      <td>-0.087371</td>\n",
       "      <td>0.004455</td>\n",
       "      <td>-0.026561</td>\n",
       "    </tr>\n",
       "    <tr>\n",
       "      <th>284805</th>\n",
       "      <td>-0.240440</td>\n",
       "      <td>0.530483</td>\n",
       "      <td>0.702510</td>\n",
       "      <td>0.689799</td>\n",
       "      <td>-0.377961</td>\n",
       "      <td>0.623708</td>\n",
       "      <td>-0.686180</td>\n",
       "      <td>0.679145</td>\n",
       "      <td>0.392087</td>\n",
       "      <td>-0.399126</td>\n",
       "      <td>...</td>\n",
       "      <td>2.897849</td>\n",
       "      <td>0.127434</td>\n",
       "      <td>0.265245</td>\n",
       "      <td>0.800049</td>\n",
       "      <td>-0.163298</td>\n",
       "      <td>0.123205</td>\n",
       "      <td>-0.569159</td>\n",
       "      <td>0.546668</td>\n",
       "      <td>0.108821</td>\n",
       "      <td>0.104533</td>\n",
       "    </tr>\n",
       "    <tr>\n",
       "      <th>284806</th>\n",
       "      <td>-0.533413</td>\n",
       "      <td>-0.189733</td>\n",
       "      <td>0.703337</td>\n",
       "      <td>-0.506271</td>\n",
       "      <td>-0.012546</td>\n",
       "      <td>-0.649617</td>\n",
       "      <td>1.577006</td>\n",
       "      <td>-0.414650</td>\n",
       "      <td>0.486180</td>\n",
       "      <td>-0.915427</td>\n",
       "      <td>...</td>\n",
       "      <td>-0.256117</td>\n",
       "      <td>0.382948</td>\n",
       "      <td>0.261057</td>\n",
       "      <td>0.643078</td>\n",
       "      <td>0.376777</td>\n",
       "      <td>0.008797</td>\n",
       "      <td>-0.473649</td>\n",
       "      <td>-0.818267</td>\n",
       "      <td>-0.002415</td>\n",
       "      <td>0.013649</td>\n",
       "    </tr>\n",
       "  </tbody>\n",
       "</table>\n",
       "<p>284807 rows × 28 columns</p>\n",
       "</div>"
      ],
      "text/plain": [
       "               V1         V2        V3        V4        V5        V6  \\\n",
       "0       -1.359807  -0.072781  2.536347  1.378155 -0.338321  0.462388   \n",
       "1        1.191857   0.266151  0.166480  0.448154  0.060018 -0.082361   \n",
       "2       -1.358354  -1.340163  1.773209  0.379780 -0.503198  1.800499   \n",
       "3       -0.966272  -0.185226  1.792993 -0.863291 -0.010309  1.247203   \n",
       "4       -1.158233   0.877737  1.548718  0.403034 -0.407193  0.095921   \n",
       "5       -0.425966   0.960523  1.141109 -0.168252  0.420987 -0.029728   \n",
       "6        1.229658   0.141004  0.045371  1.202613  0.191881  0.272708   \n",
       "7       -0.644269   1.417964  1.074380 -0.492199  0.948934  0.428118   \n",
       "8       -0.894286   0.286157 -0.113192 -0.271526  2.669599  3.721818   \n",
       "9       -0.338262   1.119593  1.044367 -0.222187  0.499361 -0.246761   \n",
       "10       1.449044  -1.176339  0.913860 -1.375667 -1.971383 -0.629152   \n",
       "11       0.384978   0.616109 -0.874300 -0.094019  2.924584  3.317027   \n",
       "12       1.249999  -1.221637  0.383930 -1.234899 -1.485419 -0.753230   \n",
       "13       1.069374   0.287722  0.828613  2.712520 -0.178398  0.337544   \n",
       "14      -2.791855  -0.327771  1.641750  1.767473 -0.136588  0.807596   \n",
       "15      -0.752417   0.345485  2.057323 -1.468643 -1.158394 -0.077850   \n",
       "16       1.103215  -0.040296  1.267332  1.289091 -0.735997  0.288069   \n",
       "17      -0.436905   0.918966  0.924591 -0.727219  0.915679 -0.127867   \n",
       "18      -5.401258  -5.450148  1.186305  1.736239  3.049106 -1.763406   \n",
       "19       1.492936  -1.029346  0.454795 -1.438026 -1.555434 -0.720961   \n",
       "20       0.694885  -1.361819  1.029221  0.834159 -1.191209  1.309109   \n",
       "21       0.962496   0.328461 -0.171479  2.109204  1.129566  1.696038   \n",
       "22       1.166616   0.502120 -0.067300  2.261569  0.428804  0.089474   \n",
       "23       0.247491   0.277666  1.185471 -0.092603 -1.314394 -0.150116   \n",
       "24      -1.946525  -0.044901 -0.405570 -1.013057  2.941968  2.955053   \n",
       "25      -2.074295  -0.121482  1.322021  0.410008  0.295198 -0.959537   \n",
       "26       1.173285   0.353498  0.283905  1.133563 -0.172577 -0.916054   \n",
       "27       1.322707  -0.174041  0.434555  0.576038 -0.836758 -0.831083   \n",
       "28      -0.414289   0.905437  1.727453  1.473471  0.007443 -0.200331   \n",
       "29       1.059387  -0.175319  1.266130  1.186110 -0.786002  0.578435   \n",
       "...           ...        ...       ...       ...       ...       ...   \n",
       "284777   2.079137  -0.028723 -1.343392  0.358000 -0.045791 -1.345452   \n",
       "284778  -0.764523   0.588379 -0.907599 -0.418847  0.901528 -0.760802   \n",
       "284779   1.975178  -0.616244 -2.628295 -0.406246  2.327804  3.664740   \n",
       "284780  -1.727503   1.108356  2.219561  1.148583 -0.884199  0.793083   \n",
       "284781  -1.139015  -0.155510  1.894478 -1.138957  1.451777  0.093598   \n",
       "284782  -0.268061   2.540315 -1.400915  4.846661  0.639105  0.186479   \n",
       "284783  -1.796092   1.929178 -2.828417 -1.689844  2.199572  3.123732   \n",
       "284784  -0.669662   0.923769 -1.543167 -1.560729  2.833960  3.240843   \n",
       "284785   0.032887   0.545338 -1.185844 -1.729828  2.932315  3.401529   \n",
       "284786  -2.076175   2.142238 -2.522704 -1.888063  1.982785  3.732950   \n",
       "284787  -1.029719  -1.110670 -0.636179 -0.840816  2.424360 -2.956733   \n",
       "284788   2.007418  -0.280235 -0.208113  0.335261 -0.715798 -0.751373   \n",
       "284789  -0.446951   1.302212 -0.168583  0.981577  0.578957 -0.605641   \n",
       "284790  -0.515513   0.971950 -1.014580 -0.677037  0.912430 -0.316187   \n",
       "284791  -0.863506   0.874701  0.420358 -0.530365  0.356561 -1.046238   \n",
       "284792  -0.724123   1.485216 -1.132218 -0.607190  0.709499 -0.482638   \n",
       "284793   1.971002  -0.699067 -1.697541 -0.617643  1.718797  3.911336   \n",
       "284794  -1.266580  -0.400461  0.956221 -0.723919  1.531993 -1.788600   \n",
       "284795 -12.516732  10.187818 -8.476671 -2.510473 -4.586669 -1.394465   \n",
       "284796   1.884849  -0.143540 -0.999943  1.506772 -0.035300 -0.613638   \n",
       "284797  -0.241923   0.712247  0.399806 -0.463406  0.244531 -1.343668   \n",
       "284798   0.219529   0.881246 -0.635891  0.960928 -0.152971 -1.014307   \n",
       "284799  -1.775135  -0.004235  1.189786  0.331096  1.196063  5.519980   \n",
       "284800   2.039560  -0.175233 -1.196825  0.234580 -0.008713 -0.726571   \n",
       "284801   0.120316   0.931005 -0.546012 -0.745097  1.130314 -0.235973   \n",
       "284802 -11.881118  10.071785 -9.834783 -2.066656 -5.364473 -2.606837   \n",
       "284803  -0.732789  -0.055080  2.035030 -0.738589  0.868229  1.058415   \n",
       "284804   1.919565  -0.301254 -3.249640 -0.557828  2.630515  3.031260   \n",
       "284805  -0.240440   0.530483  0.702510  0.689799 -0.377961  0.623708   \n",
       "284806  -0.533413  -0.189733  0.703337 -0.506271 -0.012546 -0.649617   \n",
       "\n",
       "              V7        V8        V9       V10  ...       V19       V20  \\\n",
       "0       0.239599  0.098698  0.363787  0.090794  ...  0.403993  0.251412   \n",
       "1      -0.078803  0.085102 -0.255425 -0.166974  ... -0.145783 -0.069083   \n",
       "2       0.791461  0.247676 -1.514654  0.207643  ... -2.261857  0.524980   \n",
       "3       0.237609  0.377436 -1.387024 -0.054952  ... -1.232622 -0.208038   \n",
       "4       0.592941 -0.270533  0.817739  0.753074  ...  0.803487  0.408542   \n",
       "5       0.476201  0.260314 -0.568671 -0.371407  ... -0.033194  0.084968   \n",
       "6      -0.005159  0.081213  0.464960 -0.099254  ... -0.045575 -0.219633   \n",
       "7       1.120631 -3.807864  0.615375  1.249376  ...  0.324505 -0.156742   \n",
       "8       0.370145  0.851084 -0.392048 -0.410430  ...  0.570328  0.052736   \n",
       "9       0.651583  0.069539 -0.736727 -0.366846  ...  0.451773  0.203711   \n",
       "10     -1.423236  0.048456 -1.720408  1.626659  ... -0.221365 -0.387226   \n",
       "11      0.470455  0.538247 -0.558895  0.309755  ...  0.707664  0.125992   \n",
       "12     -0.689405 -0.227487 -2.094011  1.323729  ... -0.683193 -0.102756   \n",
       "13     -0.096717  0.115982 -0.221083  0.460230  ... -0.982916 -0.153197   \n",
       "14     -0.422911 -1.907107  0.755713  1.151087  ...  2.221868 -1.582122   \n",
       "15     -0.608581  0.003603 -0.436167  0.747731  ...  0.432535  0.263451   \n",
       "16     -0.586057  0.189380  0.782333 -0.267975  ... -0.575682 -0.113910   \n",
       "17      0.707642  0.087962 -0.665271 -0.737980  ...  0.025436 -0.047021   \n",
       "18     -1.559738  0.160842  1.233090  0.345173  ... -0.406867 -2.196848   \n",
       "19     -1.080664 -0.053127 -1.978682  1.638076  ...  0.054230 -0.387910   \n",
       "20     -0.878586  0.445290 -0.446196  0.568521  ... -1.300408 -0.138334   \n",
       "21      0.107712  0.521502 -1.191311  0.724396  ... -2.027612 -0.269321   \n",
       "22      0.241147  0.138082 -0.989162  0.922175  ... -0.816597 -0.307169   \n",
       "23     -0.946365 -1.617935  1.544071 -0.829881  ...  2.177807 -0.230983   \n",
       "24     -0.063063  0.855546  0.049967  0.573743  ...  0.488603 -0.216715   \n",
       "25      0.543985 -0.104627  0.475664  0.149451  ...  0.505751 -0.386694   \n",
       "26      0.369025 -0.327260 -0.246651 -0.046139  ... -0.390934  0.027878   \n",
       "27     -0.264905 -0.220982 -1.071425  0.868559  ... -1.240622 -0.522951   \n",
       "28      0.740228 -0.029247 -0.593392 -0.346188  ...  0.543969  0.097308   \n",
       "29     -0.767084  0.401046  0.699500 -0.064738  ... -0.277834 -0.178023   \n",
       "...          ...       ...       ...       ...  ...       ...       ...   \n",
       "284777  0.227476 -0.378355  0.665911  0.028351  ... -0.205470 -0.272447   \n",
       "284778  0.758545  0.414698 -0.730854 -1.245088  ... -0.022064  0.024870   \n",
       "284779 -0.533297  0.842937  1.128798 -0.220744  ...  0.295402 -0.168378   \n",
       "284780 -0.527298  0.866429  0.853819 -0.195152  ...  0.757367  0.331940   \n",
       "284781  0.191353  0.092211 -0.062621 -0.792066  ...  0.546517  0.341409   \n",
       "284782 -0.045911  0.936448 -2.419986  0.525012  ...  1.091523  0.111808   \n",
       "284783 -0.270714  1.657495  0.465804  0.832931  ... -0.202990  0.319366   \n",
       "284784  0.181576  1.282746 -0.893890 -1.453432  ... -0.671301  0.000965   \n",
       "284785  0.337434  0.925377 -0.165663 -0.386953  ... -0.206385  0.022677   \n",
       "284786 -1.217430 -0.536644  0.272867  0.300342  ... -0.354163 -0.308523   \n",
       "284787  0.283610 -0.332656 -0.247488 -0.328271  ... -0.014378  0.218776   \n",
       "284788 -0.458972 -0.140140  0.959971 -0.028284  ... -0.082349 -0.143294   \n",
       "284789  1.253430 -1.042610 -0.417116  0.076605  ...  0.744416 -0.203306   \n",
       "284790  0.396137  0.532364 -0.224606 -0.753365  ...  0.180495 -0.177211   \n",
       "284791  0.757051  0.230473 -0.506856 -1.032990  ...  0.077652 -0.162132   \n",
       "284792  0.548393  0.343003 -0.226323 -0.348134  ...  0.182152 -0.077202   \n",
       "284793 -1.259306  1.056209  1.315006 -0.146827  ... -0.356789 -0.153581   \n",
       "284794  0.314741  0.004704  0.013857 -0.815911  ... -0.518738 -0.029539   \n",
       "284795 -3.632516  5.498583  4.893089  8.655320  ... -0.571605  3.490065   \n",
       "284796  0.190241 -0.249058  0.666458  0.120908  ... -0.283278 -0.153997   \n",
       "284797  0.929369 -0.206210  0.106234 -0.284708  ... -0.290491 -0.139512   \n",
       "284798  0.427126  0.121340 -0.285670 -0.111640  ...  2.894952  0.006666   \n",
       "284799 -1.518185  2.080825  1.159498 -0.594242  ...  0.792135  0.348176   \n",
       "284800  0.017050 -0.118228  0.435402  0.267772  ...  0.561695 -0.256922   \n",
       "284801  0.812722  0.115093 -0.204064 -0.657422  ...  0.128904  0.000676   \n",
       "284802 -4.918215  7.305334  1.914428  4.356170  ... -0.682920  1.475829   \n",
       "284803  0.024330  0.294869  0.584800 -0.975926  ... -1.545556  0.059616   \n",
       "284804 -0.296827  0.708417  0.432454 -0.484782  ... -0.577252  0.001396   \n",
       "284805 -0.686180  0.679145  0.392087 -0.399126  ...  2.897849  0.127434   \n",
       "284806  1.577006 -0.414650  0.486180 -0.915427  ... -0.256117  0.382948   \n",
       "\n",
       "             V21       V22       V23       V24       V25       V26       V27  \\\n",
       "0      -0.018307  0.277838 -0.110474  0.066928  0.128539 -0.189115  0.133558   \n",
       "1      -0.225775 -0.638672  0.101288 -0.339846  0.167170  0.125895 -0.008983   \n",
       "2       0.247998  0.771679  0.909412 -0.689281 -0.327642 -0.139097 -0.055353   \n",
       "3      -0.108300  0.005274 -0.190321 -1.175575  0.647376 -0.221929  0.062723   \n",
       "4      -0.009431  0.798278 -0.137458  0.141267 -0.206010  0.502292  0.219422   \n",
       "5      -0.208254 -0.559825 -0.026398 -0.371427 -0.232794  0.105915  0.253844   \n",
       "6      -0.167716 -0.270710 -0.154104 -0.780055  0.750137 -0.257237  0.034507   \n",
       "7       1.943465 -1.015455  0.057504 -0.649709 -0.415267 -0.051634 -1.206921   \n",
       "8      -0.073425 -0.268092 -0.204233  1.011592  0.373205 -0.384157  0.011747   \n",
       "9      -0.246914 -0.633753 -0.120794 -0.385050 -0.069733  0.094199  0.246219   \n",
       "10     -0.009302  0.313894  0.027740  0.500512  0.251367 -0.129478  0.042850   \n",
       "11      0.049924  0.238422  0.009130  0.996710 -0.767315 -0.492208  0.042472   \n",
       "12     -0.231809 -0.483285  0.084668  0.392831  0.161135 -0.354990  0.026416   \n",
       "13     -0.036876  0.074412 -0.071407  0.104744  0.548265  0.104094  0.021491   \n",
       "14      1.151663  0.222182  1.020586  0.028317 -0.232746 -0.235557 -0.164778   \n",
       "15      0.499625  1.353650 -0.256573 -0.065084 -0.039124 -0.087086 -0.180998   \n",
       "16     -0.024612  0.196002  0.013802  0.103758  0.364298 -0.382261  0.092809   \n",
       "17     -0.194796 -0.672638 -0.156858 -0.888386 -0.342413 -0.049027  0.079692   \n",
       "18     -0.503600  0.984460  2.458589  0.042119 -0.481631 -0.621272  0.392053   \n",
       "19     -0.177650 -0.175074  0.040002  0.295814  0.332931 -0.220385  0.022298   \n",
       "20     -0.295583 -0.571955 -0.050881 -0.304215  0.072001 -0.422234  0.086553   \n",
       "21      0.143997  0.402492 -0.048508 -1.371866  0.390814  0.199964  0.016371   \n",
       "22      0.018702 -0.061972 -0.103855 -0.370415  0.603200  0.108556 -0.040521   \n",
       "23      1.650180  0.200454 -0.185353  0.423073  0.820591 -0.227632  0.336634   \n",
       "24     -0.579526 -0.799229  0.870300  0.983421  0.321201  0.149650  0.707519   \n",
       "25     -0.403639 -0.227404  0.742435  0.398535  0.249212  0.274404  0.359969   \n",
       "26      0.067003  0.227812 -0.150487  0.435045  0.724825 -0.337082  0.016368   \n",
       "27     -0.284376 -0.323357 -0.037710  0.347151  0.559639 -0.280158  0.042335   \n",
       "28      0.077237  0.457331 -0.038500  0.642522 -0.183891 -0.277464  0.182687   \n",
       "29      0.013676  0.213734  0.014462  0.002951  0.294638 -0.395070  0.081461   \n",
       "...          ...       ...       ...       ...       ...       ...       ...   \n",
       "284777  0.235758  0.829758 -0.002063  0.001344  0.262183 -0.105327 -0.022363   \n",
       "284778  0.003530 -0.431876  0.141759  0.587119 -0.200998  0.267337 -0.152951   \n",
       "284779  0.086043  0.543613 -0.032129  0.768379  0.477688 -0.031833  0.014151   \n",
       "284780 -0.094708  0.236818 -0.204280  1.158185  0.627801 -0.399981  0.510818   \n",
       "284781 -0.191027 -0.631658 -0.147249  0.212931  0.354257 -0.241068 -0.161717   \n",
       "284782 -0.263889 -0.857904  0.235172 -0.681794 -0.668894  0.044657 -0.066751   \n",
       "284783  0.271170  1.145750  0.084783  0.721269 -0.529906 -0.240117  0.129126   \n",
       "284784  0.183856  0.202670 -0.373023  0.651122  1.073823  0.844590 -0.286676   \n",
       "284785 -0.266113 -0.716336  0.108519  0.688519 -0.460220  0.161939  0.265368   \n",
       "284786  2.016666 -1.588269  0.588482  0.632444 -0.201064  0.199251  0.438657   \n",
       "284787  0.353722  0.488487  0.293632  0.107812 -0.935586  1.138216  0.025271   \n",
       "284788 -0.208260 -0.430347  0.416765  0.064819 -0.608337  0.268436 -0.028069   \n",
       "284789  0.851800  0.305268 -0.148093 -0.038712  0.010209 -0.362666  0.503092   \n",
       "284790 -0.280302 -0.849919  0.300245  0.000607 -0.376379  0.128660 -0.015205   \n",
       "284791 -0.108846 -0.480820 -0.074513 -0.003988 -0.113149  0.280378 -0.077310   \n",
       "284792  0.414621  1.307511 -0.059545  0.242669 -0.665424 -0.269869 -0.170579   \n",
       "284793  0.188758  0.694418  0.163002  0.726365 -0.058282 -0.191813  0.061858   \n",
       "284794 -0.157831 -0.883365  0.088485 -0.076790 -0.095833  0.132720 -0.028468   \n",
       "284795 -0.944759 -1.565026  0.890675 -1.253276  1.786717  0.320763  2.090712   \n",
       "284796  0.144008  0.634646 -0.042114 -0.053206  0.316403 -0.461441  0.018265   \n",
       "284797 -0.228876 -0.514376  0.279598  0.371441 -0.559238  0.113144  0.131507   \n",
       "284798  0.099936  0.337120  0.251791  0.057688 -1.508368  0.144023  0.181205   \n",
       "284799  0.103302  0.654850 -0.348929  0.745323  0.704545 -0.127579  0.454379   \n",
       "284800 -0.268048 -0.717211  0.297930 -0.359769 -0.315610  0.201114 -0.080826   \n",
       "284801 -0.314205 -0.808520  0.050343  0.102800 -0.435870  0.124079  0.217940   \n",
       "284802  0.213454  0.111864  1.014480 -0.509348  1.436807  0.250034  0.943651   \n",
       "284803  0.214205  0.924384  0.012463 -1.016226 -0.606624 -0.395255  0.068472   \n",
       "284804  0.232045  0.578229 -0.037501  0.640134  0.265745 -0.087371  0.004455   \n",
       "284805  0.265245  0.800049 -0.163298  0.123205 -0.569159  0.546668  0.108821   \n",
       "284806  0.261057  0.643078  0.376777  0.008797 -0.473649 -0.818267 -0.002415   \n",
       "\n",
       "             V28  \n",
       "0      -0.021053  \n",
       "1       0.014724  \n",
       "2      -0.059752  \n",
       "3       0.061458  \n",
       "4       0.215153  \n",
       "5       0.081080  \n",
       "6       0.005168  \n",
       "7      -1.085339  \n",
       "8       0.142404  \n",
       "9       0.083076  \n",
       "10      0.016253  \n",
       "11     -0.054337  \n",
       "12      0.042422  \n",
       "13      0.021293  \n",
       "14     -0.030154  \n",
       "15      0.129394  \n",
       "16      0.037051  \n",
       "17      0.131024  \n",
       "18      0.949594  \n",
       "19      0.007602  \n",
       "20      0.063499  \n",
       "21     -0.014605  \n",
       "22     -0.011418  \n",
       "23      0.250475  \n",
       "24      0.014600  \n",
       "25      0.243232  \n",
       "26      0.030041  \n",
       "27      0.028822  \n",
       "28      0.152665  \n",
       "29      0.024220  \n",
       "...          ...  \n",
       "284777 -0.060283  \n",
       "284778 -0.065285  \n",
       "284779 -0.066542  \n",
       "284780  0.233265  \n",
       "284781 -0.149188  \n",
       "284782 -0.072447  \n",
       "284783 -0.080620  \n",
       "284784 -0.187719  \n",
       "284785  0.090245  \n",
       "284786  0.172923  \n",
       "284787  0.255347  \n",
       "284788 -0.041367  \n",
       "284789  0.229921  \n",
       "284790 -0.021486  \n",
       "284791  0.023079  \n",
       "284792 -0.030692  \n",
       "284793 -0.043716  \n",
       "284794  0.126494  \n",
       "284795  1.232864  \n",
       "284796 -0.041068  \n",
       "284797  0.081265  \n",
       "284798  0.215243  \n",
       "284799  0.130308  \n",
       "284800 -0.075071  \n",
       "284801  0.068803  \n",
       "284802  0.823731  \n",
       "284803 -0.053527  \n",
       "284804 -0.026561  \n",
       "284805  0.104533  \n",
       "284806  0.013649  \n",
       "\n",
       "[284807 rows x 28 columns]"
      ]
     },
     "execution_count": 5,
     "metadata": {},
     "output_type": "execute_result"
    }
   ],
   "source": [
    "X"
   ]
  },
  {
   "cell_type": "code",
   "execution_count": 6,
   "metadata": {},
   "outputs": [
    {
     "data": {
      "text/html": [
       "<div>\n",
       "<style scoped>\n",
       "    .dataframe tbody tr th:only-of-type {\n",
       "        vertical-align: middle;\n",
       "    }\n",
       "\n",
       "    .dataframe tbody tr th {\n",
       "        vertical-align: top;\n",
       "    }\n",
       "\n",
       "    .dataframe thead th {\n",
       "        text-align: right;\n",
       "    }\n",
       "</style>\n",
       "<table border=\"1\" class=\"dataframe\">\n",
       "  <thead>\n",
       "    <tr style=\"text-align: right;\">\n",
       "      <th></th>\n",
       "      <th>V1</th>\n",
       "      <th>V2</th>\n",
       "      <th>V3</th>\n",
       "      <th>V4</th>\n",
       "      <th>V5</th>\n",
       "      <th>V6</th>\n",
       "      <th>V7</th>\n",
       "      <th>V8</th>\n",
       "      <th>V9</th>\n",
       "      <th>V10</th>\n",
       "      <th>...</th>\n",
       "      <th>V19</th>\n",
       "      <th>V20</th>\n",
       "      <th>V21</th>\n",
       "      <th>V22</th>\n",
       "      <th>V23</th>\n",
       "      <th>V24</th>\n",
       "      <th>V25</th>\n",
       "      <th>V26</th>\n",
       "      <th>V27</th>\n",
       "      <th>V28</th>\n",
       "    </tr>\n",
       "  </thead>\n",
       "  <tbody>\n",
       "    <tr>\n",
       "      <th>0</th>\n",
       "      <td>-1.359807</td>\n",
       "      <td>-0.072781</td>\n",
       "      <td>2.536347</td>\n",
       "      <td>1.378155</td>\n",
       "      <td>-0.338321</td>\n",
       "      <td>0.462388</td>\n",
       "      <td>0.239599</td>\n",
       "      <td>0.098698</td>\n",
       "      <td>0.363787</td>\n",
       "      <td>0.090794</td>\n",
       "      <td>...</td>\n",
       "      <td>0.403993</td>\n",
       "      <td>0.251412</td>\n",
       "      <td>-0.018307</td>\n",
       "      <td>0.277838</td>\n",
       "      <td>-0.110474</td>\n",
       "      <td>0.066928</td>\n",
       "      <td>0.128539</td>\n",
       "      <td>-0.189115</td>\n",
       "      <td>0.133558</td>\n",
       "      <td>-0.021053</td>\n",
       "    </tr>\n",
       "    <tr>\n",
       "      <th>1</th>\n",
       "      <td>1.191857</td>\n",
       "      <td>0.266151</td>\n",
       "      <td>0.166480</td>\n",
       "      <td>0.448154</td>\n",
       "      <td>0.060018</td>\n",
       "      <td>-0.082361</td>\n",
       "      <td>-0.078803</td>\n",
       "      <td>0.085102</td>\n",
       "      <td>-0.255425</td>\n",
       "      <td>-0.166974</td>\n",
       "      <td>...</td>\n",
       "      <td>-0.145783</td>\n",
       "      <td>-0.069083</td>\n",
       "      <td>-0.225775</td>\n",
       "      <td>-0.638672</td>\n",
       "      <td>0.101288</td>\n",
       "      <td>-0.339846</td>\n",
       "      <td>0.167170</td>\n",
       "      <td>0.125895</td>\n",
       "      <td>-0.008983</td>\n",
       "      <td>0.014724</td>\n",
       "    </tr>\n",
       "    <tr>\n",
       "      <th>2</th>\n",
       "      <td>-1.358354</td>\n",
       "      <td>-1.340163</td>\n",
       "      <td>1.773209</td>\n",
       "      <td>0.379780</td>\n",
       "      <td>-0.503198</td>\n",
       "      <td>1.800499</td>\n",
       "      <td>0.791461</td>\n",
       "      <td>0.247676</td>\n",
       "      <td>-1.514654</td>\n",
       "      <td>0.207643</td>\n",
       "      <td>...</td>\n",
       "      <td>-2.261857</td>\n",
       "      <td>0.524980</td>\n",
       "      <td>0.247998</td>\n",
       "      <td>0.771679</td>\n",
       "      <td>0.909412</td>\n",
       "      <td>-0.689281</td>\n",
       "      <td>-0.327642</td>\n",
       "      <td>-0.139097</td>\n",
       "      <td>-0.055353</td>\n",
       "      <td>-0.059752</td>\n",
       "    </tr>\n",
       "    <tr>\n",
       "      <th>3</th>\n",
       "      <td>-0.966272</td>\n",
       "      <td>-0.185226</td>\n",
       "      <td>1.792993</td>\n",
       "      <td>-0.863291</td>\n",
       "      <td>-0.010309</td>\n",
       "      <td>1.247203</td>\n",
       "      <td>0.237609</td>\n",
       "      <td>0.377436</td>\n",
       "      <td>-1.387024</td>\n",
       "      <td>-0.054952</td>\n",
       "      <td>...</td>\n",
       "      <td>-1.232622</td>\n",
       "      <td>-0.208038</td>\n",
       "      <td>-0.108300</td>\n",
       "      <td>0.005274</td>\n",
       "      <td>-0.190321</td>\n",
       "      <td>-1.175575</td>\n",
       "      <td>0.647376</td>\n",
       "      <td>-0.221929</td>\n",
       "      <td>0.062723</td>\n",
       "      <td>0.061458</td>\n",
       "    </tr>\n",
       "    <tr>\n",
       "      <th>4</th>\n",
       "      <td>-1.158233</td>\n",
       "      <td>0.877737</td>\n",
       "      <td>1.548718</td>\n",
       "      <td>0.403034</td>\n",
       "      <td>-0.407193</td>\n",
       "      <td>0.095921</td>\n",
       "      <td>0.592941</td>\n",
       "      <td>-0.270533</td>\n",
       "      <td>0.817739</td>\n",
       "      <td>0.753074</td>\n",
       "      <td>...</td>\n",
       "      <td>0.803487</td>\n",
       "      <td>0.408542</td>\n",
       "      <td>-0.009431</td>\n",
       "      <td>0.798278</td>\n",
       "      <td>-0.137458</td>\n",
       "      <td>0.141267</td>\n",
       "      <td>-0.206010</td>\n",
       "      <td>0.502292</td>\n",
       "      <td>0.219422</td>\n",
       "      <td>0.215153</td>\n",
       "    </tr>\n",
       "  </tbody>\n",
       "</table>\n",
       "<p>5 rows × 28 columns</p>\n",
       "</div>"
      ],
      "text/plain": [
       "         V1        V2        V3        V4        V5        V6        V7  \\\n",
       "0 -1.359807 -0.072781  2.536347  1.378155 -0.338321  0.462388  0.239599   \n",
       "1  1.191857  0.266151  0.166480  0.448154  0.060018 -0.082361 -0.078803   \n",
       "2 -1.358354 -1.340163  1.773209  0.379780 -0.503198  1.800499  0.791461   \n",
       "3 -0.966272 -0.185226  1.792993 -0.863291 -0.010309  1.247203  0.237609   \n",
       "4 -1.158233  0.877737  1.548718  0.403034 -0.407193  0.095921  0.592941   \n",
       "\n",
       "         V8        V9       V10  ...       V19       V20       V21       V22  \\\n",
       "0  0.098698  0.363787  0.090794  ...  0.403993  0.251412 -0.018307  0.277838   \n",
       "1  0.085102 -0.255425 -0.166974  ... -0.145783 -0.069083 -0.225775 -0.638672   \n",
       "2  0.247676 -1.514654  0.207643  ... -2.261857  0.524980  0.247998  0.771679   \n",
       "3  0.377436 -1.387024 -0.054952  ... -1.232622 -0.208038 -0.108300  0.005274   \n",
       "4 -0.270533  0.817739  0.753074  ...  0.803487  0.408542 -0.009431  0.798278   \n",
       "\n",
       "        V23       V24       V25       V26       V27       V28  \n",
       "0 -0.110474  0.066928  0.128539 -0.189115  0.133558 -0.021053  \n",
       "1  0.101288 -0.339846  0.167170  0.125895 -0.008983  0.014724  \n",
       "2  0.909412 -0.689281 -0.327642 -0.139097 -0.055353 -0.059752  \n",
       "3 -0.190321 -1.175575  0.647376 -0.221929  0.062723  0.061458  \n",
       "4 -0.137458  0.141267 -0.206010  0.502292  0.219422  0.215153  \n",
       "\n",
       "[5 rows x 28 columns]"
      ]
     },
     "execution_count": 6,
     "metadata": {},
     "output_type": "execute_result"
    }
   ],
   "source": [
    "X.head()"
   ]
  },
  {
   "cell_type": "code",
   "execution_count": 7,
   "metadata": {},
   "outputs": [
    {
     "data": {
      "text/plain": [
       "0         0\n",
       "1         0\n",
       "2         0\n",
       "3         0\n",
       "4         0\n",
       "5         0\n",
       "6         0\n",
       "7         0\n",
       "8         0\n",
       "9         0\n",
       "10        0\n",
       "11        0\n",
       "12        0\n",
       "13        0\n",
       "14        0\n",
       "15        0\n",
       "16        0\n",
       "17        0\n",
       "18        0\n",
       "19        0\n",
       "20        0\n",
       "21        0\n",
       "22        0\n",
       "23        0\n",
       "24        0\n",
       "25        0\n",
       "26        0\n",
       "27        0\n",
       "28        0\n",
       "29        0\n",
       "         ..\n",
       "284777    0\n",
       "284778    0\n",
       "284779    0\n",
       "284780    0\n",
       "284781    0\n",
       "284782    0\n",
       "284783    0\n",
       "284784    0\n",
       "284785    0\n",
       "284786    0\n",
       "284787    0\n",
       "284788    0\n",
       "284789    0\n",
       "284790    0\n",
       "284791    0\n",
       "284792    0\n",
       "284793    0\n",
       "284794    0\n",
       "284795    0\n",
       "284796    0\n",
       "284797    0\n",
       "284798    0\n",
       "284799    0\n",
       "284800    0\n",
       "284801    0\n",
       "284802    0\n",
       "284803    0\n",
       "284804    0\n",
       "284805    0\n",
       "284806    0\n",
       "Name: Class, Length: 284807, dtype: int64"
      ]
     },
     "execution_count": 7,
     "metadata": {},
     "output_type": "execute_result"
    }
   ],
   "source": [
    "y"
   ]
  },
  {
   "cell_type": "code",
   "execution_count": 8,
   "metadata": {},
   "outputs": [
    {
     "data": {
      "text/plain": [
       "0    0\n",
       "1    0\n",
       "2    0\n",
       "3    0\n",
       "4    0\n",
       "Name: Class, dtype: int64"
      ]
     },
     "execution_count": 8,
     "metadata": {},
     "output_type": "execute_result"
    }
   ],
   "source": [
    "y.head()"
   ]
  },
  {
   "cell_type": "code",
   "execution_count": 9,
   "metadata": {},
   "outputs": [],
   "source": [
    "from sklearn.decomposition import PCA\n",
    "from sklearn.preprocessing import scale"
   ]
  },
  {
   "cell_type": "code",
   "execution_count": 10,
   "metadata": {},
   "outputs": [
    {
     "name": "stdout",
     "output_type": "stream",
     "text": [
      "[[ 0.27521638 -0.39698759  0.54919276 ... -0.2763274   0.00409638\n",
      "   0.14629198]\n",
      " [-0.18395032 -0.03080621  0.67339938 ...  0.23693228  0.37048251\n",
      "   0.04799704]\n",
      " [ 0.00290651 -0.19611935  1.35991597 ...  1.16878826 -0.7062751\n",
      "  -1.41821503]\n",
      " ...\n",
      " [ 0.0975757  -0.40067568  1.39783933 ... -1.19729036 -0.54027805\n",
      "  -0.14433019]\n",
      " [-0.20149816 -1.83260521  0.86860787 ... -0.29092864 -0.23408224\n",
      "  -0.21167015]\n",
      " [ 0.54638491  0.475762   -0.05226184 ... -0.42405167 -0.38536626\n",
      "   0.49605296]]\n",
      "0         0\n",
      "1         0\n",
      "2         0\n",
      "3         0\n",
      "4         0\n",
      "5         0\n",
      "6         0\n",
      "7         0\n",
      "8         0\n",
      "9         0\n",
      "10        0\n",
      "11        0\n",
      "12        0\n",
      "13        0\n",
      "14        0\n",
      "15        0\n",
      "16        0\n",
      "17        0\n",
      "18        0\n",
      "19        0\n",
      "20        0\n",
      "21        0\n",
      "22        0\n",
      "23        0\n",
      "24        0\n",
      "25        0\n",
      "26        0\n",
      "27        0\n",
      "28        0\n",
      "29        0\n",
      "         ..\n",
      "284777    0\n",
      "284778    0\n",
      "284779    0\n",
      "284780    0\n",
      "284781    0\n",
      "284782    0\n",
      "284783    0\n",
      "284784    0\n",
      "284785    0\n",
      "284786    0\n",
      "284787    0\n",
      "284788    0\n",
      "284789    0\n",
      "284790    0\n",
      "284791    0\n",
      "284792    0\n",
      "284793    0\n",
      "284794    0\n",
      "284795    0\n",
      "284796    0\n",
      "284797    0\n",
      "284798    0\n",
      "284799    0\n",
      "284800    0\n",
      "284801    0\n",
      "284802    0\n",
      "284803    0\n",
      "284804    0\n",
      "284805    0\n",
      "284806    0\n",
      "Name: Class, Length: 284807, dtype: int64\n",
      "<class 'numpy.ndarray'>\n"
     ]
    }
   ],
   "source": [
    "data = scale(X)\n",
    "pca = PCA(n_components=10)\n",
    "X = pca.fit_transform(data)\n",
    "print(X)\n",
    "print(y)\n",
    "print(type(X))\n",
    "from sklearn.model_selection import train_test_split\n",
    "X_train, X_test, y_train, y_test = train_test_split(X, y, test_size=0.33)\n",
    "df2 = pdml.ModelFrame(X_train, target=y_train)\n",
    "sampler = df2.imbalance.over_sampling.SMOTE()\n",
    "oversampled = df2.fit_sample(sampler)\n",
    "X, y = oversampled.iloc[:,1:11], oversampled['Class']"
   ]
  },
  {
   "cell_type": "code",
   "execution_count": 11,
   "metadata": {},
   "outputs": [
    {
     "name": "stdout",
     "output_type": "stream",
     "text": [
      "                0          1          2          3         4         5  \\\n",
      "0       -0.703786  -0.407643   0.542478  -1.555788  0.659635 -0.840778   \n",
      "1        0.036767  -0.907796  -0.310281  -0.470397  1.087233 -1.660162   \n",
      "2       -0.112690  -0.516608  -0.708731  -0.540707  1.621595  0.134828   \n",
      "3       -1.730726   1.583802   0.217669  -1.039688  0.796320 -0.491073   \n",
      "4        0.324198   0.168766   0.372426  -0.284945  0.307592 -0.174704   \n",
      "5        0.437349  -0.238544   0.866371  -0.155005  0.149392  1.033428   \n",
      "6        0.055277  -0.144918  -1.039832   0.707734 -0.268182  0.053905   \n",
      "7       -0.515482  -2.310906   1.373074   1.893830  0.426861 -1.616827   \n",
      "8       -0.489044  -0.527469  -0.120498   0.084337  0.063828 -1.099051   \n",
      "9        0.095733  -0.012932  -0.456677  -0.302324  0.202410 -0.778393   \n",
      "10      -1.631803   2.018997  -1.110683  -0.358684  1.345767  0.278583   \n",
      "11      -1.076530  -1.377607  -0.327328  -0.005050 -2.108991  1.252966   \n",
      "12      -0.504698   0.045683   3.610955   0.801340 -2.662734 -1.810156   \n",
      "13      -0.435047  -0.251533  -1.140100  -1.980670  0.344622  0.900721   \n",
      "14       0.574030   0.282621   0.498318  -0.154647 -0.931249  1.228751   \n",
      "15       0.328027   0.560229   0.770422   0.674469 -0.284672 -0.346927   \n",
      "16      -0.404452  -0.125366  -0.156057  -1.249595  1.251819  0.330120   \n",
      "17       1.221071  -0.289224  -0.392536   0.017621  0.348172  0.042453   \n",
      "18       0.104118   0.694518   1.258984   1.433692 -1.278623  0.191343   \n",
      "19       0.480331   0.493510  -0.143403   1.130521  1.306592  0.102909   \n",
      "20      -0.264737  -0.642270  -0.084889   1.310622  0.075239 -0.570810   \n",
      "21      -0.779072  -0.407319   1.639531  -0.134489 -0.646469  0.342189   \n",
      "22       0.782671  -0.255030  -0.232143  -0.026765  0.152216 -1.131654   \n",
      "23      -0.281079  -0.567985   0.112383  -0.150875 -0.160243  0.531790   \n",
      "24       0.665236   0.287571  -0.072203  -0.897141  0.124369 -0.479913   \n",
      "25       0.411197  -0.035146  -0.311773  -0.431445  0.571089 -0.916226   \n",
      "26       0.045197  -0.720010  -0.022016   0.154188 -2.095072  0.908048   \n",
      "27      -0.824191  -0.876742   1.187170   1.423259  3.581763  0.599041   \n",
      "28      -2.180951   0.794186  -0.032257   2.198196 -1.039893 -0.268618   \n",
      "29       0.364903  -1.024539   0.473304   0.335585 -0.240130 -0.821778   \n",
      "...           ...        ...        ...        ...       ...       ...   \n",
      "380934  -4.376652   3.218838   4.653450   3.200711 -1.450995 -1.299772   \n",
      "380935  -6.054262   4.878578   5.870193   5.627266 -0.904647 -3.876654   \n",
      "380936  -4.699085   2.078109   3.982038   4.903972 -2.892994 -2.584320   \n",
      "380937  -3.672083   3.176509   2.062997   2.237585 -0.492160 -0.440106   \n",
      "380938  -6.629378   5.082774   5.464479   6.089345 -2.165335 -2.979136   \n",
      "380939  -9.464444   7.136652   6.534569   5.371370 -0.266136 -3.467993   \n",
      "380940  -3.519058   2.829843   1.430334   3.105210 -0.522759 -2.510093   \n",
      "380941   0.085362   0.244132   0.763428  -0.540903  0.038084  0.009089   \n",
      "380942 -13.279408   7.904627   7.809490  12.085522 -4.603778 -4.557190   \n",
      "380943 -15.973305   9.713392   6.320474  12.121761 -3.537076 -6.210081   \n",
      "380944   0.749736   0.883882  -1.299533   0.486301  0.079529 -1.998121   \n",
      "380945 -15.306071  10.297517   7.948395   9.613537 -3.332272 -5.514858   \n",
      "380946  -3.160411   4.111087   5.620194   1.298377  0.031337 -1.995699   \n",
      "380947  -7.323198   7.541113   3.046885  11.990862 -4.686683 -1.781584   \n",
      "380948   0.291852   0.709639   1.287090   0.152248  0.396463 -0.523699   \n",
      "380949   0.089431   1.164484   1.819172  -1.409932  0.848130 -1.209835   \n",
      "380950  -6.826878   4.837401   2.550336   3.089612 -0.993606 -1.414344   \n",
      "380951  -6.737939   7.304224   2.470909  12.508719 -4.623463 -1.293247   \n",
      "380952 -10.608317   8.009421   7.631968  11.996971 -1.590787 -3.095182   \n",
      "380953  -0.014155   0.275560   0.340236  -0.142624  0.261472  0.605505   \n",
      "380954   0.661494  -0.348026  -0.312444  -0.041413 -0.853874 -0.023911   \n",
      "380955  -2.402341   2.676525   2.685979   2.383314 -0.623514 -1.342027   \n",
      "380956  -2.980937   4.338794   3.473004   0.917488  1.031119 -1.664156   \n",
      "380957   1.045074   1.090403   0.321481   0.029600  0.268300  0.608850   \n",
      "380958  -3.756398   2.425532   1.889914   3.054246 -1.111550 -2.279368   \n",
      "380959  -2.994630   4.765781   3.789662   0.299655  0.695614 -1.945818   \n",
      "380960  -4.337962   3.859099   2.512722   3.821312 -1.160433 -2.642672   \n",
      "380961  -2.912834   2.805674   3.443562   3.731565  0.474606 -0.559509   \n",
      "380962  -4.718321   2.996993   1.548054   2.209890  0.085177 -0.481838   \n",
      "380963 -13.518374   9.577464  10.557560   9.602377 -2.948916 -4.282544   \n",
      "\n",
      "               6          7         8         9  \n",
      "0       0.713313   0.457277  0.773457 -0.914438  \n",
      "1      -0.636336  -0.862341 -0.689337  0.899377  \n",
      "2       0.867298  -0.086050  1.229525 -0.792578  \n",
      "3       0.837773   0.425689 -0.005022  1.346491  \n",
      "4       0.544005  -0.497273 -0.184752 -0.231995  \n",
      "5       0.003973  -0.476181  0.347659  0.117665  \n",
      "6       0.461178   0.452734  0.080403  0.060714  \n",
      "7      -1.036375  -1.300683  0.441621  1.083506  \n",
      "8       0.131333  -0.087269 -0.150145 -0.142984  \n",
      "9      -0.178742  -0.144375  0.593402  0.083572  \n",
      "10      0.256102   1.089779 -0.097798  1.195510  \n",
      "11      0.250543  -1.585436 -0.019275 -0.317138  \n",
      "12      0.587474  -0.242154  0.722248  0.621105  \n",
      "13     -0.713034  -0.878427 -0.228157  0.152887  \n",
      "14     -1.002960  -0.031116 -0.902785  1.621203  \n",
      "15     -0.201774   0.200561  0.141263  0.768175  \n",
      "16      0.491197  -0.539359  1.227163 -0.685390  \n",
      "17     -0.242001   0.271188 -0.004880  0.507291  \n",
      "18     -0.794994   0.003247  1.151255 -1.041700  \n",
      "19     -0.000386  -0.259558  0.618401  0.212430  \n",
      "20     -0.532059  -0.310356 -0.452985  0.117808  \n",
      "21      0.427733  -0.115811  0.385908 -0.488408  \n",
      "22     -0.086856   0.511818 -0.432686  0.836074  \n",
      "23      0.269962   0.426858  0.169633 -0.770169  \n",
      "24     -0.461153   0.445235  0.135216  0.201363  \n",
      "25      0.361165   0.550699  0.090245  0.842404  \n",
      "26      0.197589   0.283543 -0.647309  0.114355  \n",
      "27      2.229735   0.464709  2.976224 -1.170636  \n",
      "28      0.728500  -1.747776  0.198461  0.367770  \n",
      "29     -0.876219   2.886409 -1.126468 -0.315103  \n",
      "...          ...        ...       ...       ...  \n",
      "380934  2.898135   0.439409 -1.847851  1.979799  \n",
      "380935 -0.296266   7.550838 -3.413720  1.366860  \n",
      "380936  0.224834   4.034353 -2.111060  1.404840  \n",
      "380937  1.055501   0.766915 -1.287318  2.740683  \n",
      "380938  0.219959   6.302735 -2.008905  3.812468  \n",
      "380939  3.067291   3.412072 -3.771532  2.796348  \n",
      "380940  2.498867   0.987821 -0.958207  1.692062  \n",
      "380941  0.977249  -1.300788 -0.453294  0.681300  \n",
      "380942  3.293253   8.324390 -4.057590  4.139623  \n",
      "380943  4.330270   3.594748 -4.272252  5.677307  \n",
      "380944 -1.108906   0.144780 -0.572596  0.307374  \n",
      "380945  7.537998   1.864005 -4.486262  6.710533  \n",
      "380946  4.589868  -1.521399 -3.183254  2.054578  \n",
      "380947  8.899314  14.158039 -3.376297  3.632851  \n",
      "380948  0.513996  -0.310451 -0.819209  0.302856  \n",
      "380949  2.909404  -1.586160 -1.338080  1.364939  \n",
      "380950  3.067885   1.463403 -2.053117  2.418075  \n",
      "380951  9.605784  16.318742 -3.479028  3.272157  \n",
      "380952  0.656360  16.222451 -4.445453  3.041453  \n",
      "380953  0.872039  -0.986449 -0.718801  0.608172  \n",
      "380954 -1.453805   0.270009  0.628011  0.719638  \n",
      "380955  2.474861   1.658579 -0.384541  1.061662  \n",
      "380956  4.881950  -1.484649 -2.443014  2.206708  \n",
      "380957  0.367302   0.508671  0.774678  0.453687  \n",
      "380958  2.050238   0.805556 -0.805046  1.151582  \n",
      "380959  5.961223  -2.037081 -2.267088  2.022279  \n",
      "380960  2.243588   1.197235 -1.030042  2.234125  \n",
      "380961  3.071624   0.779133 -0.365516  1.659382  \n",
      "380962  1.105049   1.736191 -2.781287  2.398209  \n",
      "380963  1.966938  11.719543 -6.366414  3.503036  \n",
      "\n",
      "[380964 rows x 10 columns]\n",
      "<class 'pandas_ml.core.frame.ModelFrame'>\n",
      "[[ -0.7037859   -0.40764282   0.54247775 ...   0.45727748   0.77345726\n",
      "   -0.91443838]\n",
      " [  0.03676744  -0.90779649  -0.3102807  ...  -0.86234148  -0.68933716\n",
      "    0.89937698]\n",
      " [ -0.11269023  -0.51660812  -0.70873105 ...  -0.08604975   1.22952484\n",
      "   -0.79257791]\n",
      " ...\n",
      " [ -2.91283359   2.80567379   3.44356232 ...   0.77913282  -0.36551574\n",
      "    1.65938219]\n",
      " [ -4.71832051   2.99699271   1.54805401 ...   1.73619064  -2.78128734\n",
      "    2.39820929]\n",
      " [-13.51837447   9.57746408  10.55755987 ...  11.71954303  -6.36641435\n",
      "    3.50303633]]\n",
      "<class 'numpy.ndarray'>\n"
     ]
    },
    {
     "name": "stderr",
     "output_type": "stream",
     "text": [
      "/Users/admin/anaconda3/lib/python3.7/site-packages/ipykernel_launcher.py:3: FutureWarning: Method .as_matrix will be removed in a future version. Use .values instead.\n",
      "  This is separate from the ipykernel package so we can avoid doing imports until\n",
      "/Users/admin/anaconda3/lib/python3.7/site-packages/ipykernel_launcher.py:4: FutureWarning: Method .as_matrix will be removed in a future version. Use .values instead.\n",
      "  after removing the cwd from sys.path.\n"
     ]
    }
   ],
   "source": [
    "print(X)\n",
    "print(type(X))\n",
    "X=X.as_matrix()\n",
    "y=y.as_matrix()\n",
    "print(X)\n",
    "print(type(X))"
   ]
  },
  {
   "cell_type": "code",
   "execution_count": 12,
   "metadata": {},
   "outputs": [],
   "source": [
    "def forward_prop(params):\n",
    "    n_inputs = 10\n",
    "    n_hidden = 20\n",
    "    n_classes = 2\n",
    "\n",
    "    W1 = params[0:200].reshape((n_inputs,n_hidden))\n",
    "    b1 = params[200:220].reshape((n_hidden,))\n",
    "    W2 = params[220:260].reshape((n_hidden,n_classes))\n",
    "    b2 = params[260:262].reshape((n_classes,))\n",
    "\n",
    "    #print(W1)\n",
    "    #print(W2)\n",
    "\n",
    "    z1 = X.dot(W1) + b1  \n",
    "    a1 = np.tanh(z1)     \n",
    "    z2 = a1.dot(W2) + b2\n",
    "    logits = z2          \n",
    "\n",
    "    \n",
    "    exp_scores = np.exp(logits)\n",
    "    probs = exp_scores / np.sum(exp_scores, axis=1, keepdims=True)\n",
    "\n",
    "    \n",
    "    N = len(X)\n",
    "    corect_logprobs = -np.log(probs[range(N), y])\n",
    "    loss = np.sum(corect_logprobs) / N\n",
    "    return loss"
   ]
  },
  {
   "cell_type": "code",
   "execution_count": 13,
   "metadata": {},
   "outputs": [
    {
     "name": "stderr",
     "output_type": "stream",
     "text": [
      "2021-06-03 10:33:44,751 - pyswarms.single.global_best - INFO - Optimize for 150 iters with {'c1': 0.5, 'c2': 0.3, 'w': 0.9}\n",
      "pyswarms.single.global_best:   1%|          |1/150, best_cost=0.562"
     ]
    },
    {
     "name": "stdout",
     "output_type": "stream",
     "text": [
      "10:33:54.008451\n"
     ]
    },
    {
     "name": "stderr",
     "output_type": "stream",
     "text": [
      "pyswarms.single.global_best:   1%|▏         |2/150, best_cost=0.562"
     ]
    },
    {
     "name": "stdout",
     "output_type": "stream",
     "text": [
      "10:34:02.990831\n"
     ]
    },
    {
     "name": "stderr",
     "output_type": "stream",
     "text": [
      "pyswarms.single.global_best:   2%|▏         |3/150, best_cost=0.562"
     ]
    },
    {
     "name": "stdout",
     "output_type": "stream",
     "text": [
      "10:34:11.859440\n"
     ]
    },
    {
     "name": "stderr",
     "output_type": "stream",
     "text": [
      "pyswarms.single.global_best:   3%|▎         |4/150, best_cost=0.534"
     ]
    },
    {
     "name": "stdout",
     "output_type": "stream",
     "text": [
      "10:34:21.109454\n"
     ]
    },
    {
     "name": "stderr",
     "output_type": "stream",
     "text": [
      "pyswarms.single.global_best:   3%|▎         |5/150, best_cost=0.534"
     ]
    },
    {
     "name": "stdout",
     "output_type": "stream",
     "text": [
      "10:34:30.291414\n"
     ]
    },
    {
     "name": "stderr",
     "output_type": "stream",
     "text": [
      "pyswarms.single.global_best:   4%|▍         |6/150, best_cost=0.453"
     ]
    },
    {
     "name": "stdout",
     "output_type": "stream",
     "text": [
      "10:34:39.488186\n"
     ]
    },
    {
     "name": "stderr",
     "output_type": "stream",
     "text": [
      "pyswarms.single.global_best:   5%|▍         |7/150, best_cost=0.373"
     ]
    },
    {
     "name": "stdout",
     "output_type": "stream",
     "text": [
      "10:34:48.530196\n"
     ]
    },
    {
     "name": "stderr",
     "output_type": "stream",
     "text": [
      "pyswarms.single.global_best:   5%|▌         |8/150, best_cost=0.373"
     ]
    },
    {
     "name": "stdout",
     "output_type": "stream",
     "text": [
      "10:34:57.975155\n"
     ]
    },
    {
     "name": "stderr",
     "output_type": "stream",
     "text": [
      "pyswarms.single.global_best:   6%|▌         |9/150, best_cost=0.348"
     ]
    },
    {
     "name": "stdout",
     "output_type": "stream",
     "text": [
      "10:35:07.030795\n"
     ]
    },
    {
     "name": "stderr",
     "output_type": "stream",
     "text": [
      "pyswarms.single.global_best:   7%|▋         |10/150, best_cost=0.327"
     ]
    },
    {
     "name": "stdout",
     "output_type": "stream",
     "text": [
      "10:35:15.928630\n"
     ]
    },
    {
     "name": "stderr",
     "output_type": "stream",
     "text": [
      "pyswarms.single.global_best:   7%|▋         |11/150, best_cost=0.304"
     ]
    },
    {
     "name": "stdout",
     "output_type": "stream",
     "text": [
      "10:35:24.914253\n"
     ]
    },
    {
     "name": "stderr",
     "output_type": "stream",
     "text": [
      "pyswarms.single.global_best:   8%|▊         |12/150, best_cost=0.263"
     ]
    },
    {
     "name": "stdout",
     "output_type": "stream",
     "text": [
      "10:35:33.755192\n"
     ]
    },
    {
     "name": "stderr",
     "output_type": "stream",
     "text": [
      "pyswarms.single.global_best:   9%|▊         |13/150, best_cost=0.263"
     ]
    },
    {
     "name": "stdout",
     "output_type": "stream",
     "text": [
      "10:35:42.684940\n"
     ]
    },
    {
     "name": "stderr",
     "output_type": "stream",
     "text": [
      "pyswarms.single.global_best:   9%|▉         |14/150, best_cost=0.253"
     ]
    },
    {
     "name": "stdout",
     "output_type": "stream",
     "text": [
      "10:35:51.482832\n"
     ]
    },
    {
     "name": "stderr",
     "output_type": "stream",
     "text": [
      "pyswarms.single.global_best:  10%|█         |15/150, best_cost=0.244"
     ]
    },
    {
     "name": "stdout",
     "output_type": "stream",
     "text": [
      "10:36:00.152624\n"
     ]
    },
    {
     "name": "stderr",
     "output_type": "stream",
     "text": [
      "pyswarms.single.global_best:  11%|█         |16/150, best_cost=0.242"
     ]
    },
    {
     "name": "stdout",
     "output_type": "stream",
     "text": [
      "10:36:08.743197\n"
     ]
    },
    {
     "name": "stderr",
     "output_type": "stream",
     "text": [
      "pyswarms.single.global_best:  11%|█▏        |17/150, best_cost=0.23 "
     ]
    },
    {
     "name": "stdout",
     "output_type": "stream",
     "text": [
      "10:36:17.427384\n"
     ]
    },
    {
     "name": "stderr",
     "output_type": "stream",
     "text": [
      "pyswarms.single.global_best:  12%|█▏        |18/150, best_cost=0.221"
     ]
    },
    {
     "name": "stdout",
     "output_type": "stream",
     "text": [
      "10:36:26.035928\n"
     ]
    },
    {
     "name": "stderr",
     "output_type": "stream",
     "text": [
      "pyswarms.single.global_best:  13%|█▎        |19/150, best_cost=0.213"
     ]
    },
    {
     "name": "stdout",
     "output_type": "stream",
     "text": [
      "10:36:34.722409\n"
     ]
    },
    {
     "name": "stderr",
     "output_type": "stream",
     "text": [
      "pyswarms.single.global_best:  13%|█▎        |20/150, best_cost=0.213"
     ]
    },
    {
     "name": "stdout",
     "output_type": "stream",
     "text": [
      "10:36:43.563763\n"
     ]
    },
    {
     "name": "stderr",
     "output_type": "stream",
     "text": [
      "pyswarms.single.global_best:  14%|█▍        |21/150, best_cost=0.213"
     ]
    },
    {
     "name": "stdout",
     "output_type": "stream",
     "text": [
      "10:36:52.343025\n"
     ]
    },
    {
     "name": "stderr",
     "output_type": "stream",
     "text": [
      "pyswarms.single.global_best:  15%|█▍        |22/150, best_cost=0.213"
     ]
    },
    {
     "name": "stdout",
     "output_type": "stream",
     "text": [
      "10:37:00.969293\n"
     ]
    },
    {
     "name": "stderr",
     "output_type": "stream",
     "text": [
      "pyswarms.single.global_best:  15%|█▌        |23/150, best_cost=0.209"
     ]
    },
    {
     "name": "stdout",
     "output_type": "stream",
     "text": [
      "10:37:09.514401\n"
     ]
    },
    {
     "name": "stderr",
     "output_type": "stream",
     "text": [
      "pyswarms.single.global_best:  16%|█▌        |24/150, best_cost=0.2  "
     ]
    },
    {
     "name": "stdout",
     "output_type": "stream",
     "text": [
      "10:37:18.216388\n"
     ]
    },
    {
     "name": "stderr",
     "output_type": "stream",
     "text": [
      "pyswarms.single.global_best:  17%|█▋        |25/150, best_cost=0.2"
     ]
    },
    {
     "name": "stdout",
     "output_type": "stream",
     "text": [
      "10:37:26.886655\n"
     ]
    },
    {
     "name": "stderr",
     "output_type": "stream",
     "text": [
      "pyswarms.single.global_best:  17%|█▋        |26/150, best_cost=0.197"
     ]
    },
    {
     "name": "stdout",
     "output_type": "stream",
     "text": [
      "10:37:35.616730\n"
     ]
    },
    {
     "name": "stderr",
     "output_type": "stream",
     "text": [
      "pyswarms.single.global_best:  18%|█▊        |27/150, best_cost=0.195"
     ]
    },
    {
     "name": "stdout",
     "output_type": "stream",
     "text": [
      "10:37:44.391518\n"
     ]
    },
    {
     "name": "stderr",
     "output_type": "stream",
     "text": [
      "pyswarms.single.global_best:  19%|█▊        |28/150, best_cost=0.192"
     ]
    },
    {
     "name": "stdout",
     "output_type": "stream",
     "text": [
      "10:37:53.076365\n"
     ]
    },
    {
     "name": "stderr",
     "output_type": "stream",
     "text": [
      "pyswarms.single.global_best:  19%|█▉        |29/150, best_cost=0.192"
     ]
    },
    {
     "name": "stdout",
     "output_type": "stream",
     "text": [
      "10:38:03.145057\n"
     ]
    },
    {
     "name": "stderr",
     "output_type": "stream",
     "text": [
      "pyswarms.single.global_best:  20%|██        |30/150, best_cost=0.192"
     ]
    },
    {
     "name": "stdout",
     "output_type": "stream",
     "text": [
      "10:38:12.892979\n"
     ]
    },
    {
     "name": "stderr",
     "output_type": "stream",
     "text": [
      "pyswarms.single.global_best:  21%|██        |31/150, best_cost=0.188"
     ]
    },
    {
     "name": "stdout",
     "output_type": "stream",
     "text": [
      "10:38:21.577175\n"
     ]
    },
    {
     "name": "stderr",
     "output_type": "stream",
     "text": [
      "pyswarms.single.global_best:  21%|██▏       |32/150, best_cost=0.188"
     ]
    },
    {
     "name": "stdout",
     "output_type": "stream",
     "text": [
      "10:38:30.355535\n"
     ]
    },
    {
     "name": "stderr",
     "output_type": "stream",
     "text": [
      "pyswarms.single.global_best:  22%|██▏       |33/150, best_cost=0.185"
     ]
    },
    {
     "name": "stdout",
     "output_type": "stream",
     "text": [
      "10:38:39.155588\n"
     ]
    },
    {
     "name": "stderr",
     "output_type": "stream",
     "text": [
      "pyswarms.single.global_best:  23%|██▎       |34/150, best_cost=0.185"
     ]
    },
    {
     "name": "stdout",
     "output_type": "stream",
     "text": [
      "10:38:47.931027\n"
     ]
    },
    {
     "name": "stderr",
     "output_type": "stream",
     "text": [
      "pyswarms.single.global_best:  23%|██▎       |35/150, best_cost=0.185"
     ]
    },
    {
     "name": "stdout",
     "output_type": "stream",
     "text": [
      "10:38:56.530753\n"
     ]
    },
    {
     "name": "stderr",
     "output_type": "stream",
     "text": [
      "pyswarms.single.global_best:  24%|██▍       |36/150, best_cost=0.185"
     ]
    },
    {
     "name": "stdout",
     "output_type": "stream",
     "text": [
      "10:39:05.180669\n"
     ]
    },
    {
     "name": "stderr",
     "output_type": "stream",
     "text": [
      "pyswarms.single.global_best:  25%|██▍       |37/150, best_cost=0.183"
     ]
    },
    {
     "name": "stdout",
     "output_type": "stream",
     "text": [
      "10:39:13.955651\n"
     ]
    },
    {
     "name": "stderr",
     "output_type": "stream",
     "text": [
      "pyswarms.single.global_best:  25%|██▌       |38/150, best_cost=0.183"
     ]
    },
    {
     "name": "stdout",
     "output_type": "stream",
     "text": [
      "10:39:23.003741\n"
     ]
    },
    {
     "name": "stderr",
     "output_type": "stream",
     "text": [
      "pyswarms.single.global_best:  26%|██▌       |39/150, best_cost=0.181"
     ]
    },
    {
     "name": "stdout",
     "output_type": "stream",
     "text": [
      "10:39:31.792572\n"
     ]
    },
    {
     "name": "stderr",
     "output_type": "stream",
     "text": [
      "pyswarms.single.global_best:  27%|██▋       |40/150, best_cost=0.181"
     ]
    },
    {
     "name": "stdout",
     "output_type": "stream",
     "text": [
      "10:39:40.517780\n"
     ]
    },
    {
     "name": "stderr",
     "output_type": "stream",
     "text": [
      "pyswarms.single.global_best:  27%|██▋       |41/150, best_cost=0.181"
     ]
    },
    {
     "name": "stdout",
     "output_type": "stream",
     "text": [
      "10:39:49.745014\n"
     ]
    },
    {
     "name": "stderr",
     "output_type": "stream",
     "text": [
      "pyswarms.single.global_best:  28%|██▊       |42/150, best_cost=0.18 "
     ]
    },
    {
     "name": "stdout",
     "output_type": "stream",
     "text": [
      "10:40:00.491438\n"
     ]
    },
    {
     "name": "stderr",
     "output_type": "stream",
     "text": [
      "pyswarms.single.global_best:  29%|██▊       |43/150, best_cost=0.18"
     ]
    },
    {
     "name": "stdout",
     "output_type": "stream",
     "text": [
      "10:40:09.333753\n"
     ]
    },
    {
     "name": "stderr",
     "output_type": "stream",
     "text": [
      "pyswarms.single.global_best:  29%|██▉       |44/150, best_cost=0.18"
     ]
    },
    {
     "name": "stdout",
     "output_type": "stream",
     "text": [
      "10:40:17.886856\n"
     ]
    },
    {
     "name": "stderr",
     "output_type": "stream",
     "text": [
      "pyswarms.single.global_best:  30%|███       |45/150, best_cost=0.179"
     ]
    },
    {
     "name": "stdout",
     "output_type": "stream",
     "text": [
      "10:40:26.788219\n"
     ]
    },
    {
     "name": "stderr",
     "output_type": "stream",
     "text": [
      "pyswarms.single.global_best:  31%|███       |46/150, best_cost=0.179"
     ]
    },
    {
     "name": "stdout",
     "output_type": "stream",
     "text": [
      "10:40:35.588389\n"
     ]
    },
    {
     "name": "stderr",
     "output_type": "stream",
     "text": [
      "pyswarms.single.global_best:  31%|███▏      |47/150, best_cost=0.178"
     ]
    },
    {
     "name": "stdout",
     "output_type": "stream",
     "text": [
      "10:40:44.557781\n"
     ]
    },
    {
     "name": "stderr",
     "output_type": "stream",
     "text": [
      "pyswarms.single.global_best:  32%|███▏      |48/150, best_cost=0.177"
     ]
    },
    {
     "name": "stdout",
     "output_type": "stream",
     "text": [
      "10:40:53.248852\n"
     ]
    },
    {
     "name": "stderr",
     "output_type": "stream",
     "text": [
      "pyswarms.single.global_best:  33%|███▎      |49/150, best_cost=0.176"
     ]
    },
    {
     "name": "stdout",
     "output_type": "stream",
     "text": [
      "10:41:02.110729\n"
     ]
    },
    {
     "name": "stderr",
     "output_type": "stream",
     "text": [
      "pyswarms.single.global_best:  33%|███▎      |50/150, best_cost=0.176"
     ]
    },
    {
     "name": "stdout",
     "output_type": "stream",
     "text": [
      "10:41:10.872295\n"
     ]
    },
    {
     "name": "stderr",
     "output_type": "stream",
     "text": [
      "pyswarms.single.global_best:  34%|███▍      |51/150, best_cost=0.176"
     ]
    },
    {
     "name": "stdout",
     "output_type": "stream",
     "text": [
      "10:41:19.682809\n"
     ]
    },
    {
     "name": "stderr",
     "output_type": "stream",
     "text": [
      "pyswarms.single.global_best:  35%|███▍      |52/150, best_cost=0.176"
     ]
    },
    {
     "name": "stdout",
     "output_type": "stream",
     "text": [
      "10:41:28.992107\n"
     ]
    },
    {
     "name": "stderr",
     "output_type": "stream",
     "text": [
      "pyswarms.single.global_best:  35%|███▌      |53/150, best_cost=0.176"
     ]
    },
    {
     "name": "stdout",
     "output_type": "stream",
     "text": [
      "10:41:37.782857\n"
     ]
    },
    {
     "name": "stderr",
     "output_type": "stream",
     "text": [
      "pyswarms.single.global_best:  36%|███▌      |54/150, best_cost=0.175"
     ]
    },
    {
     "name": "stdout",
     "output_type": "stream",
     "text": [
      "10:41:46.499057\n"
     ]
    },
    {
     "name": "stderr",
     "output_type": "stream",
     "text": [
      "pyswarms.single.global_best:  37%|███▋      |55/150, best_cost=0.175"
     ]
    },
    {
     "name": "stdout",
     "output_type": "stream",
     "text": [
      "10:41:54.912595\n"
     ]
    },
    {
     "name": "stderr",
     "output_type": "stream",
     "text": [
      "pyswarms.single.global_best:  37%|███▋      |56/150, best_cost=0.175"
     ]
    },
    {
     "name": "stdout",
     "output_type": "stream",
     "text": [
      "10:42:04.104221\n"
     ]
    },
    {
     "name": "stderr",
     "output_type": "stream",
     "text": [
      "pyswarms.single.global_best:  38%|███▊      |57/150, best_cost=0.174"
     ]
    },
    {
     "name": "stdout",
     "output_type": "stream",
     "text": [
      "10:42:13.256221\n"
     ]
    },
    {
     "name": "stderr",
     "output_type": "stream",
     "text": [
      "pyswarms.single.global_best:  39%|███▊      |58/150, best_cost=0.174"
     ]
    },
    {
     "name": "stdout",
     "output_type": "stream",
     "text": [
      "10:42:22.386331\n"
     ]
    },
    {
     "name": "stderr",
     "output_type": "stream",
     "text": [
      "pyswarms.single.global_best:  39%|███▉      |59/150, best_cost=0.174"
     ]
    },
    {
     "name": "stdout",
     "output_type": "stream",
     "text": [
      "10:42:31.240363\n"
     ]
    },
    {
     "name": "stderr",
     "output_type": "stream",
     "text": [
      "pyswarms.single.global_best:  40%|████      |60/150, best_cost=0.174"
     ]
    },
    {
     "name": "stdout",
     "output_type": "stream",
     "text": [
      "10:42:40.376400\n"
     ]
    },
    {
     "name": "stderr",
     "output_type": "stream",
     "text": [
      "pyswarms.single.global_best:  41%|████      |61/150, best_cost=0.174"
     ]
    },
    {
     "name": "stdout",
     "output_type": "stream",
     "text": [
      "10:42:49.342429\n"
     ]
    },
    {
     "name": "stderr",
     "output_type": "stream",
     "text": [
      "pyswarms.single.global_best:  41%|████▏     |62/150, best_cost=0.173"
     ]
    },
    {
     "name": "stdout",
     "output_type": "stream",
     "text": [
      "10:42:58.215809\n"
     ]
    },
    {
     "name": "stderr",
     "output_type": "stream",
     "text": [
      "pyswarms.single.global_best:  42%|████▏     |63/150, best_cost=0.173"
     ]
    },
    {
     "name": "stdout",
     "output_type": "stream",
     "text": [
      "10:43:07.089652\n"
     ]
    },
    {
     "name": "stderr",
     "output_type": "stream",
     "text": [
      "pyswarms.single.global_best:  43%|████▎     |64/150, best_cost=0.172"
     ]
    },
    {
     "name": "stdout",
     "output_type": "stream",
     "text": [
      "10:43:15.988985\n"
     ]
    },
    {
     "name": "stderr",
     "output_type": "stream",
     "text": [
      "pyswarms.single.global_best:  43%|████▎     |65/150, best_cost=0.172"
     ]
    },
    {
     "name": "stdout",
     "output_type": "stream",
     "text": [
      "10:43:24.970806\n"
     ]
    },
    {
     "name": "stderr",
     "output_type": "stream",
     "text": [
      "pyswarms.single.global_best:  44%|████▍     |66/150, best_cost=0.172"
     ]
    },
    {
     "name": "stdout",
     "output_type": "stream",
     "text": [
      "10:43:33.841421\n"
     ]
    },
    {
     "name": "stderr",
     "output_type": "stream",
     "text": [
      "pyswarms.single.global_best:  45%|████▍     |67/150, best_cost=0.171"
     ]
    },
    {
     "name": "stdout",
     "output_type": "stream",
     "text": [
      "10:43:42.817800\n"
     ]
    },
    {
     "name": "stderr",
     "output_type": "stream",
     "text": [
      "pyswarms.single.global_best:  45%|████▌     |68/150, best_cost=0.171"
     ]
    },
    {
     "name": "stdout",
     "output_type": "stream",
     "text": [
      "10:43:51.699750\n"
     ]
    },
    {
     "name": "stderr",
     "output_type": "stream",
     "text": [
      "pyswarms.single.global_best:  46%|████▌     |69/150, best_cost=0.17 "
     ]
    },
    {
     "name": "stdout",
     "output_type": "stream",
     "text": [
      "10:44:00.559147\n"
     ]
    },
    {
     "name": "stderr",
     "output_type": "stream",
     "text": [
      "pyswarms.single.global_best:  47%|████▋     |70/150, best_cost=0.17"
     ]
    },
    {
     "name": "stdout",
     "output_type": "stream",
     "text": [
      "10:44:09.406491\n"
     ]
    },
    {
     "name": "stderr",
     "output_type": "stream",
     "text": [
      "pyswarms.single.global_best:  47%|████▋     |71/150, best_cost=0.169"
     ]
    },
    {
     "name": "stdout",
     "output_type": "stream",
     "text": [
      "10:44:18.497047\n"
     ]
    },
    {
     "name": "stderr",
     "output_type": "stream",
     "text": [
      "pyswarms.single.global_best:  48%|████▊     |72/150, best_cost=0.168"
     ]
    },
    {
     "name": "stdout",
     "output_type": "stream",
     "text": [
      "10:44:27.438358\n"
     ]
    },
    {
     "name": "stderr",
     "output_type": "stream",
     "text": [
      "pyswarms.single.global_best:  49%|████▊     |73/150, best_cost=0.168"
     ]
    },
    {
     "name": "stdout",
     "output_type": "stream",
     "text": [
      "10:44:36.387343\n"
     ]
    },
    {
     "name": "stderr",
     "output_type": "stream",
     "text": [
      "pyswarms.single.global_best:  49%|████▉     |74/150, best_cost=0.168"
     ]
    },
    {
     "name": "stdout",
     "output_type": "stream",
     "text": [
      "10:44:45.567951\n"
     ]
    },
    {
     "name": "stderr",
     "output_type": "stream",
     "text": [
      "pyswarms.single.global_best:  50%|█████     |75/150, best_cost=0.167"
     ]
    },
    {
     "name": "stdout",
     "output_type": "stream",
     "text": [
      "10:44:54.636855\n"
     ]
    },
    {
     "name": "stderr",
     "output_type": "stream",
     "text": [
      "pyswarms.single.global_best:  51%|█████     |76/150, best_cost=0.167"
     ]
    },
    {
     "name": "stdout",
     "output_type": "stream",
     "text": [
      "10:45:03.857045\n"
     ]
    },
    {
     "name": "stderr",
     "output_type": "stream",
     "text": [
      "pyswarms.single.global_best:  51%|█████▏    |77/150, best_cost=0.166"
     ]
    },
    {
     "name": "stdout",
     "output_type": "stream",
     "text": [
      "10:45:13.038255\n"
     ]
    },
    {
     "name": "stderr",
     "output_type": "stream",
     "text": [
      "pyswarms.single.global_best:  52%|█████▏    |78/150, best_cost=0.166"
     ]
    },
    {
     "name": "stdout",
     "output_type": "stream",
     "text": [
      "10:45:21.972210\n"
     ]
    },
    {
     "name": "stderr",
     "output_type": "stream",
     "text": [
      "pyswarms.single.global_best:  53%|█████▎    |79/150, best_cost=0.166"
     ]
    },
    {
     "name": "stdout",
     "output_type": "stream",
     "text": [
      "10:45:31.229113\n"
     ]
    },
    {
     "name": "stderr",
     "output_type": "stream",
     "text": [
      "pyswarms.single.global_best:  53%|█████▎    |80/150, best_cost=0.165"
     ]
    },
    {
     "name": "stdout",
     "output_type": "stream",
     "text": [
      "10:45:40.476830\n"
     ]
    },
    {
     "name": "stderr",
     "output_type": "stream",
     "text": [
      "pyswarms.single.global_best:  54%|█████▍    |81/150, best_cost=0.165"
     ]
    },
    {
     "name": "stdout",
     "output_type": "stream",
     "text": [
      "10:45:49.470272\n"
     ]
    },
    {
     "name": "stderr",
     "output_type": "stream",
     "text": [
      "pyswarms.single.global_best:  55%|█████▍    |82/150, best_cost=0.164"
     ]
    },
    {
     "name": "stdout",
     "output_type": "stream",
     "text": [
      "10:45:58.413840\n"
     ]
    },
    {
     "name": "stderr",
     "output_type": "stream",
     "text": [
      "pyswarms.single.global_best:  55%|█████▌    |83/150, best_cost=0.164"
     ]
    },
    {
     "name": "stdout",
     "output_type": "stream",
     "text": [
      "10:46:07.439851\n"
     ]
    },
    {
     "name": "stderr",
     "output_type": "stream",
     "text": [
      "pyswarms.single.global_best:  56%|█████▌    |84/150, best_cost=0.163"
     ]
    },
    {
     "name": "stdout",
     "output_type": "stream",
     "text": [
      "10:46:16.453687\n"
     ]
    },
    {
     "name": "stderr",
     "output_type": "stream",
     "text": [
      "pyswarms.single.global_best:  57%|█████▋    |85/150, best_cost=0.163"
     ]
    },
    {
     "name": "stdout",
     "output_type": "stream",
     "text": [
      "10:46:25.546245\n"
     ]
    },
    {
     "name": "stderr",
     "output_type": "stream",
     "text": [
      "pyswarms.single.global_best:  57%|█████▋    |86/150, best_cost=0.163"
     ]
    },
    {
     "name": "stdout",
     "output_type": "stream",
     "text": [
      "10:46:34.633528\n"
     ]
    },
    {
     "name": "stderr",
     "output_type": "stream",
     "text": [
      "pyswarms.single.global_best:  58%|█████▊    |87/150, best_cost=0.162"
     ]
    },
    {
     "name": "stdout",
     "output_type": "stream",
     "text": [
      "10:46:43.781949\n"
     ]
    },
    {
     "name": "stderr",
     "output_type": "stream",
     "text": [
      "pyswarms.single.global_best:  59%|█████▊    |88/150, best_cost=0.162"
     ]
    },
    {
     "name": "stdout",
     "output_type": "stream",
     "text": [
      "10:46:52.808978\n"
     ]
    },
    {
     "name": "stderr",
     "output_type": "stream",
     "text": [
      "pyswarms.single.global_best:  59%|█████▉    |89/150, best_cost=0.162"
     ]
    },
    {
     "name": "stdout",
     "output_type": "stream",
     "text": [
      "10:47:01.799461\n"
     ]
    },
    {
     "name": "stderr",
     "output_type": "stream",
     "text": [
      "pyswarms.single.global_best:  60%|██████    |90/150, best_cost=0.161"
     ]
    },
    {
     "name": "stdout",
     "output_type": "stream",
     "text": [
      "10:47:10.783891\n"
     ]
    },
    {
     "name": "stderr",
     "output_type": "stream",
     "text": [
      "pyswarms.single.global_best:  61%|██████    |91/150, best_cost=0.161"
     ]
    },
    {
     "name": "stdout",
     "output_type": "stream",
     "text": [
      "10:47:20.002338\n"
     ]
    },
    {
     "name": "stderr",
     "output_type": "stream",
     "text": [
      "pyswarms.single.global_best:  61%|██████▏   |92/150, best_cost=0.161"
     ]
    },
    {
     "name": "stdout",
     "output_type": "stream",
     "text": [
      "10:47:29.067916\n"
     ]
    },
    {
     "name": "stderr",
     "output_type": "stream",
     "text": [
      "pyswarms.single.global_best:  62%|██████▏   |93/150, best_cost=0.161"
     ]
    },
    {
     "name": "stdout",
     "output_type": "stream",
     "text": [
      "10:47:38.168598\n"
     ]
    },
    {
     "name": "stderr",
     "output_type": "stream",
     "text": [
      "pyswarms.single.global_best:  63%|██████▎   |94/150, best_cost=0.16 "
     ]
    },
    {
     "name": "stdout",
     "output_type": "stream",
     "text": [
      "10:47:47.251039\n"
     ]
    },
    {
     "name": "stderr",
     "output_type": "stream",
     "text": [
      "pyswarms.single.global_best:  63%|██████▎   |95/150, best_cost=0.16"
     ]
    },
    {
     "name": "stdout",
     "output_type": "stream",
     "text": [
      "10:47:56.335289\n"
     ]
    },
    {
     "name": "stderr",
     "output_type": "stream",
     "text": [
      "pyswarms.single.global_best:  64%|██████▍   |96/150, best_cost=0.16"
     ]
    },
    {
     "name": "stdout",
     "output_type": "stream",
     "text": [
      "10:48:05.291491\n"
     ]
    },
    {
     "name": "stderr",
     "output_type": "stream",
     "text": [
      "pyswarms.single.global_best:  65%|██████▍   |97/150, best_cost=0.16"
     ]
    },
    {
     "name": "stdout",
     "output_type": "stream",
     "text": [
      "10:48:14.332102\n"
     ]
    },
    {
     "name": "stderr",
     "output_type": "stream",
     "text": [
      "pyswarms.single.global_best:  65%|██████▌   |98/150, best_cost=0.159"
     ]
    },
    {
     "name": "stdout",
     "output_type": "stream",
     "text": [
      "10:48:26.313887\n"
     ]
    },
    {
     "name": "stderr",
     "output_type": "stream",
     "text": [
      "pyswarms.single.global_best:  66%|██████▌   |99/150, best_cost=0.159"
     ]
    },
    {
     "name": "stdout",
     "output_type": "stream",
     "text": [
      "10:48:35.775223\n"
     ]
    },
    {
     "name": "stderr",
     "output_type": "stream",
     "text": [
      "pyswarms.single.global_best:  67%|██████▋   |100/150, best_cost=0.159"
     ]
    },
    {
     "name": "stdout",
     "output_type": "stream",
     "text": [
      "10:48:44.898179\n"
     ]
    },
    {
     "name": "stderr",
     "output_type": "stream",
     "text": [
      "pyswarms.single.global_best:  67%|██████▋   |101/150, best_cost=0.159"
     ]
    },
    {
     "name": "stdout",
     "output_type": "stream",
     "text": [
      "10:48:53.922882\n"
     ]
    },
    {
     "name": "stderr",
     "output_type": "stream",
     "text": [
      "pyswarms.single.global_best:  68%|██████▊   |102/150, best_cost=0.159"
     ]
    },
    {
     "name": "stdout",
     "output_type": "stream",
     "text": [
      "10:49:03.270304\n"
     ]
    },
    {
     "name": "stderr",
     "output_type": "stream",
     "text": [
      "pyswarms.single.global_best:  69%|██████▊   |103/150, best_cost=0.159"
     ]
    },
    {
     "name": "stdout",
     "output_type": "stream",
     "text": [
      "10:49:12.934520\n"
     ]
    },
    {
     "name": "stderr",
     "output_type": "stream",
     "text": [
      "pyswarms.single.global_best:  69%|██████▉   |104/150, best_cost=0.159"
     ]
    },
    {
     "name": "stdout",
     "output_type": "stream",
     "text": [
      "10:49:21.916130\n"
     ]
    },
    {
     "name": "stderr",
     "output_type": "stream",
     "text": [
      "pyswarms.single.global_best:  70%|███████   |105/150, best_cost=0.158"
     ]
    },
    {
     "name": "stdout",
     "output_type": "stream",
     "text": [
      "10:49:30.885651\n"
     ]
    },
    {
     "name": "stderr",
     "output_type": "stream",
     "text": [
      "pyswarms.single.global_best:  71%|███████   |106/150, best_cost=0.158"
     ]
    },
    {
     "name": "stdout",
     "output_type": "stream",
     "text": [
      "10:49:40.450290\n"
     ]
    },
    {
     "name": "stderr",
     "output_type": "stream",
     "text": [
      "pyswarms.single.global_best:  71%|███████▏  |107/150, best_cost=0.158"
     ]
    },
    {
     "name": "stdout",
     "output_type": "stream",
     "text": [
      "10:49:50.406035\n"
     ]
    },
    {
     "name": "stderr",
     "output_type": "stream",
     "text": [
      "pyswarms.single.global_best:  72%|███████▏  |108/150, best_cost=0.158"
     ]
    },
    {
     "name": "stdout",
     "output_type": "stream",
     "text": [
      "10:50:00.552522\n"
     ]
    },
    {
     "name": "stderr",
     "output_type": "stream",
     "text": [
      "pyswarms.single.global_best:  73%|███████▎  |109/150, best_cost=0.157"
     ]
    },
    {
     "name": "stdout",
     "output_type": "stream",
     "text": [
      "10:50:10.962965\n"
     ]
    },
    {
     "name": "stderr",
     "output_type": "stream",
     "text": [
      "pyswarms.single.global_best:  73%|███████▎  |110/150, best_cost=0.157"
     ]
    },
    {
     "name": "stdout",
     "output_type": "stream",
     "text": [
      "10:50:20.581584\n"
     ]
    },
    {
     "name": "stderr",
     "output_type": "stream",
     "text": [
      "pyswarms.single.global_best:  74%|███████▍  |111/150, best_cost=0.157"
     ]
    },
    {
     "name": "stdout",
     "output_type": "stream",
     "text": [
      "10:50:31.653518\n"
     ]
    },
    {
     "name": "stderr",
     "output_type": "stream",
     "text": [
      "pyswarms.single.global_best:  75%|███████▍  |112/150, best_cost=0.157"
     ]
    },
    {
     "name": "stdout",
     "output_type": "stream",
     "text": [
      "10:50:41.244480\n"
     ]
    },
    {
     "name": "stderr",
     "output_type": "stream",
     "text": [
      "pyswarms.single.global_best:  75%|███████▌  |113/150, best_cost=0.156"
     ]
    },
    {
     "name": "stdout",
     "output_type": "stream",
     "text": [
      "10:50:50.314632\n"
     ]
    },
    {
     "name": "stderr",
     "output_type": "stream",
     "text": [
      "pyswarms.single.global_best:  76%|███████▌  |114/150, best_cost=0.156"
     ]
    },
    {
     "name": "stdout",
     "output_type": "stream",
     "text": [
      "10:50:59.482942\n"
     ]
    },
    {
     "name": "stderr",
     "output_type": "stream",
     "text": [
      "pyswarms.single.global_best:  77%|███████▋  |115/150, best_cost=0.156"
     ]
    },
    {
     "name": "stdout",
     "output_type": "stream",
     "text": [
      "10:51:08.736034\n"
     ]
    },
    {
     "name": "stderr",
     "output_type": "stream",
     "text": [
      "pyswarms.single.global_best:  77%|███████▋  |116/150, best_cost=0.156"
     ]
    },
    {
     "name": "stdout",
     "output_type": "stream",
     "text": [
      "10:51:17.860756\n"
     ]
    },
    {
     "name": "stderr",
     "output_type": "stream",
     "text": [
      "pyswarms.single.global_best:  78%|███████▊  |117/150, best_cost=0.155"
     ]
    },
    {
     "name": "stdout",
     "output_type": "stream",
     "text": [
      "10:51:27.234817\n"
     ]
    },
    {
     "name": "stderr",
     "output_type": "stream",
     "text": [
      "pyswarms.single.global_best:  79%|███████▊  |118/150, best_cost=0.155"
     ]
    },
    {
     "name": "stdout",
     "output_type": "stream",
     "text": [
      "10:51:36.548133\n"
     ]
    },
    {
     "name": "stderr",
     "output_type": "stream",
     "text": [
      "pyswarms.single.global_best:  79%|███████▉  |119/150, best_cost=0.155"
     ]
    },
    {
     "name": "stdout",
     "output_type": "stream",
     "text": [
      "10:51:45.793537\n"
     ]
    },
    {
     "name": "stderr",
     "output_type": "stream",
     "text": [
      "pyswarms.single.global_best:  80%|████████  |120/150, best_cost=0.155"
     ]
    },
    {
     "name": "stdout",
     "output_type": "stream",
     "text": [
      "10:51:55.150550\n"
     ]
    },
    {
     "name": "stderr",
     "output_type": "stream",
     "text": [
      "pyswarms.single.global_best:  81%|████████  |121/150, best_cost=0.155"
     ]
    },
    {
     "name": "stdout",
     "output_type": "stream",
     "text": [
      "10:52:04.415521\n"
     ]
    },
    {
     "name": "stderr",
     "output_type": "stream",
     "text": [
      "pyswarms.single.global_best:  81%|████████▏ |122/150, best_cost=0.154"
     ]
    },
    {
     "name": "stdout",
     "output_type": "stream",
     "text": [
      "10:52:13.830413\n"
     ]
    },
    {
     "name": "stderr",
     "output_type": "stream",
     "text": [
      "pyswarms.single.global_best:  82%|████████▏ |123/150, best_cost=0.154"
     ]
    },
    {
     "name": "stdout",
     "output_type": "stream",
     "text": [
      "10:52:23.186303\n"
     ]
    },
    {
     "name": "stderr",
     "output_type": "stream",
     "text": [
      "pyswarms.single.global_best:  83%|████████▎ |124/150, best_cost=0.154"
     ]
    },
    {
     "name": "stdout",
     "output_type": "stream",
     "text": [
      "10:52:32.394321\n"
     ]
    },
    {
     "name": "stderr",
     "output_type": "stream",
     "text": [
      "pyswarms.single.global_best:  83%|████████▎ |125/150, best_cost=0.154"
     ]
    },
    {
     "name": "stdout",
     "output_type": "stream",
     "text": [
      "10:52:41.910050\n"
     ]
    },
    {
     "name": "stderr",
     "output_type": "stream",
     "text": [
      "pyswarms.single.global_best:  84%|████████▍ |126/150, best_cost=0.153"
     ]
    },
    {
     "name": "stdout",
     "output_type": "stream",
     "text": [
      "10:52:51.100581\n"
     ]
    },
    {
     "name": "stderr",
     "output_type": "stream",
     "text": [
      "pyswarms.single.global_best:  85%|████████▍ |127/150, best_cost=0.153"
     ]
    },
    {
     "name": "stdout",
     "output_type": "stream",
     "text": [
      "10:53:00.176791\n"
     ]
    },
    {
     "name": "stderr",
     "output_type": "stream",
     "text": [
      "pyswarms.single.global_best:  85%|████████▌ |128/150, best_cost=0.153"
     ]
    },
    {
     "name": "stdout",
     "output_type": "stream",
     "text": [
      "10:53:09.167984\n"
     ]
    },
    {
     "name": "stderr",
     "output_type": "stream",
     "text": [
      "pyswarms.single.global_best:  86%|████████▌ |129/150, best_cost=0.153"
     ]
    },
    {
     "name": "stdout",
     "output_type": "stream",
     "text": [
      "10:53:18.192372\n"
     ]
    },
    {
     "name": "stderr",
     "output_type": "stream",
     "text": [
      "pyswarms.single.global_best:  87%|████████▋ |130/150, best_cost=0.152"
     ]
    },
    {
     "name": "stdout",
     "output_type": "stream",
     "text": [
      "10:53:27.248891\n"
     ]
    },
    {
     "name": "stderr",
     "output_type": "stream",
     "text": [
      "pyswarms.single.global_best:  87%|████████▋ |131/150, best_cost=0.152"
     ]
    },
    {
     "name": "stdout",
     "output_type": "stream",
     "text": [
      "10:53:36.417091\n"
     ]
    },
    {
     "name": "stderr",
     "output_type": "stream",
     "text": [
      "pyswarms.single.global_best:  88%|████████▊ |132/150, best_cost=0.152"
     ]
    },
    {
     "name": "stdout",
     "output_type": "stream",
     "text": [
      "10:53:45.687802\n"
     ]
    },
    {
     "name": "stderr",
     "output_type": "stream",
     "text": [
      "pyswarms.single.global_best:  89%|████████▊ |133/150, best_cost=0.152"
     ]
    },
    {
     "name": "stdout",
     "output_type": "stream",
     "text": [
      "10:53:54.587502\n"
     ]
    },
    {
     "name": "stderr",
     "output_type": "stream",
     "text": [
      "pyswarms.single.global_best:  89%|████████▉ |134/150, best_cost=0.152"
     ]
    },
    {
     "name": "stdout",
     "output_type": "stream",
     "text": [
      "10:54:02.667908\n"
     ]
    },
    {
     "name": "stderr",
     "output_type": "stream",
     "text": [
      "pyswarms.single.global_best:  90%|█████████ |135/150, best_cost=0.151"
     ]
    },
    {
     "name": "stdout",
     "output_type": "stream",
     "text": [
      "10:54:10.561732\n"
     ]
    },
    {
     "name": "stderr",
     "output_type": "stream",
     "text": [
      "pyswarms.single.global_best:  91%|█████████ |136/150, best_cost=0.151"
     ]
    },
    {
     "name": "stdout",
     "output_type": "stream",
     "text": [
      "10:54:18.712483\n"
     ]
    },
    {
     "name": "stderr",
     "output_type": "stream",
     "text": [
      "pyswarms.single.global_best:  91%|█████████▏|137/150, best_cost=0.151"
     ]
    },
    {
     "name": "stdout",
     "output_type": "stream",
     "text": [
      "10:54:26.607522\n"
     ]
    },
    {
     "name": "stderr",
     "output_type": "stream",
     "text": [
      "pyswarms.single.global_best:  92%|█████████▏|138/150, best_cost=0.151"
     ]
    },
    {
     "name": "stdout",
     "output_type": "stream",
     "text": [
      "10:54:34.774130\n"
     ]
    },
    {
     "name": "stderr",
     "output_type": "stream",
     "text": [
      "pyswarms.single.global_best:  93%|█████████▎|139/150, best_cost=0.151"
     ]
    },
    {
     "name": "stdout",
     "output_type": "stream",
     "text": [
      "10:54:42.945384\n"
     ]
    },
    {
     "name": "stderr",
     "output_type": "stream",
     "text": [
      "pyswarms.single.global_best:  93%|█████████▎|140/150, best_cost=0.15 "
     ]
    },
    {
     "name": "stdout",
     "output_type": "stream",
     "text": [
      "10:54:51.084600\n"
     ]
    },
    {
     "name": "stderr",
     "output_type": "stream",
     "text": [
      "pyswarms.single.global_best:  94%|█████████▍|141/150, best_cost=0.15"
     ]
    },
    {
     "name": "stdout",
     "output_type": "stream",
     "text": [
      "10:54:59.351300\n"
     ]
    },
    {
     "name": "stderr",
     "output_type": "stream",
     "text": [
      "pyswarms.single.global_best:  95%|█████████▍|142/150, best_cost=0.15"
     ]
    },
    {
     "name": "stdout",
     "output_type": "stream",
     "text": [
      "10:55:07.352196\n"
     ]
    },
    {
     "name": "stderr",
     "output_type": "stream",
     "text": [
      "pyswarms.single.global_best:  95%|█████████▌|143/150, best_cost=0.15"
     ]
    },
    {
     "name": "stdout",
     "output_type": "stream",
     "text": [
      "10:55:15.545792\n"
     ]
    },
    {
     "name": "stderr",
     "output_type": "stream",
     "text": [
      "pyswarms.single.global_best:  96%|█████████▌|144/150, best_cost=0.15"
     ]
    },
    {
     "name": "stdout",
     "output_type": "stream",
     "text": [
      "10:55:23.681834\n"
     ]
    },
    {
     "name": "stderr",
     "output_type": "stream",
     "text": [
      "pyswarms.single.global_best:  97%|█████████▋|145/150, best_cost=0.15"
     ]
    },
    {
     "name": "stdout",
     "output_type": "stream",
     "text": [
      "10:55:31.694333\n"
     ]
    },
    {
     "name": "stderr",
     "output_type": "stream",
     "text": [
      "pyswarms.single.global_best:  97%|█████████▋|146/150, best_cost=0.15"
     ]
    },
    {
     "name": "stdout",
     "output_type": "stream",
     "text": [
      "10:55:39.874470\n"
     ]
    },
    {
     "name": "stderr",
     "output_type": "stream",
     "text": [
      "pyswarms.single.global_best:  98%|█████████▊|147/150, best_cost=0.15"
     ]
    },
    {
     "name": "stdout",
     "output_type": "stream",
     "text": [
      "10:55:47.833917\n"
     ]
    },
    {
     "name": "stderr",
     "output_type": "stream",
     "text": [
      "pyswarms.single.global_best:  99%|█████████▊|148/150, best_cost=0.149"
     ]
    },
    {
     "name": "stdout",
     "output_type": "stream",
     "text": [
      "10:55:57.320973\n"
     ]
    },
    {
     "name": "stderr",
     "output_type": "stream",
     "text": [
      "pyswarms.single.global_best:  99%|█████████▉|149/150, best_cost=0.149"
     ]
    },
    {
     "name": "stdout",
     "output_type": "stream",
     "text": [
      "10:56:10.555163\n"
     ]
    },
    {
     "name": "stderr",
     "output_type": "stream",
     "text": [
      "pyswarms.single.global_best: 100%|██████████|150/150, best_cost=0.149\n",
      "2021-06-03 10:56:19,970 - pyswarms.single.global_best - INFO - Optimization finished | best cost: 0.1491380008046132, best pos: [ 0.7728372   0.6668175   1.42195686 -0.17950388  0.96004353  0.04427273\n",
      " -0.98658678  0.0569024   0.61692163  0.70618485  1.05894514  1.13934156\n",
      "  0.38011545 -0.27422758 -0.27561171  0.96773316  0.70393285 -1.09932006\n",
      "  0.01175288  0.31470899  0.00551762  0.45799578  0.59222261 -0.72806176\n",
      "  1.25986842  0.44982341  1.15484734  0.50243328  0.33336085  1.22492459\n",
      "  0.70229788  0.18211561 -0.69023281  0.92209305 -0.65597546  0.64368085\n",
      "  0.59987489  0.52816614  0.94229512  0.06615761  1.18288676  0.81597236\n",
      "  0.70493371  1.39753707  1.44625366  0.39405672  0.661914   -1.13790301\n",
      "  0.91332064  0.58955749 -1.58519107 -0.16324987  0.98988615  0.93148286\n",
      " -0.38027219 -0.22078816  1.51023421  0.38501598  0.49599435  0.57636257\n",
      " -0.50278107  0.30653975 -0.12740538 -0.19136702  0.38580568  0.65868119\n",
      "  0.40391409  1.14317745  1.14694547  0.58581634  0.77349378 -0.26955988\n",
      "  1.48486073  0.45348861  0.14945166 -0.01464198  1.27807833  0.77301066\n",
      "  0.01960114 -0.54855752  1.81510781  1.18132355  0.13705208 -0.10870046\n",
      "  1.55325194  0.1736341  -0.64529218 -0.1180352  -0.49304316  0.86093565\n",
      "  0.33600934  1.33123468  0.70763714 -0.31815875  1.67169553  0.85620093\n",
      "  0.3042832   0.57936958  0.39358868  0.6155592   0.72647578 -0.20736105\n",
      "  0.6236566   1.2847366   0.81811905  0.89020605  0.65794302  0.38180252\n",
      "  0.11086969 -0.10363196  1.06986637  0.96232712 -0.66796952  0.97445157\n",
      "  0.4399188   0.39356734  1.2510539  -0.54363632 -0.29644687  0.02188716\n",
      " -0.03705852 -0.99701764 -1.78324917 -0.32501321  0.45242027 -0.38801521\n",
      "  0.26371826  0.22239781  1.15345914 -0.07941578 -0.213427    0.06643391\n",
      " -0.2415311   0.4312177  -0.26138616 -0.37386026  0.66199919 -0.39367011\n",
      "  0.23468204  0.1001307  -0.17770265 -0.16564874  1.14415394 -0.21806176\n",
      "  0.20683896  1.19631669  0.27727333  1.67700038  0.92821552  1.8965484\n",
      " -0.15238065  0.52921594  0.58185076 -0.15786677  0.2789952   0.49269551\n",
      " -1.31196043 -0.27014399 -0.07482475  0.61203094 -0.2631041  -0.53058191\n",
      "  1.46496221 -0.33498601 -0.11492998 -0.34540917  0.09349949 -0.10443156\n",
      "  0.14457637  0.36387105  0.56133411  0.01139256 -0.63478995  0.59609801\n",
      "  0.16459352 -0.08438869 -0.67247467  1.31929952  0.7418843   0.29786024\n",
      "  0.21650309  1.87941098 -0.01042704  1.15051848  0.58361436  0.38892859\n",
      " -0.26867602  0.09304623  0.35217802 -0.20853395 -0.20580766  0.73818169\n",
      "  0.79733862  0.41035165  0.1892366   0.17990254  0.55942979  0.88793717\n",
      "  0.18183013  1.02282162 -0.02715169 -0.56812384  0.98501609  0.20417168\n",
      "  0.85005311 -0.14581813 -0.69551195 -0.32698244  0.6144202  -0.70495052\n",
      "  0.80042813  0.14256195 -5.2024222  -1.76008997  0.63637306  0.82511065\n",
      " -0.30357811  0.2356766  -0.71637664  0.20435561  0.73678579  0.76635625\n",
      "  0.46401422  1.57425838  0.37304782 -0.96821378  0.76205517  0.81837983\n",
      " -0.01165136 -0.04235391  0.85536889  0.64953521  1.16215732  0.18919893\n",
      " -0.25056157  0.41141779  0.37530327 -0.28193628 -0.29109681  0.62133469\n",
      "  0.63300606 -0.03004755  0.28822415  0.39826442  0.67231121  1.35312149\n",
      " -0.13959211  0.66065056  0.87463076 -0.13006669  0.72073977  0.41748734\n",
      " -0.34199511  0.52591822  0.35053155  0.45932519 -0.00705043  0.65589721\n",
      " -0.51476851  0.32723     0.96654989 -0.06098448]\n"
     ]
    },
    {
     "name": "stdout",
     "output_type": "stream",
     "text": [
      "10:56:19.961330\n"
     ]
    }
   ],
   "source": [
    "def f(x):\n",
    "    n_particles = x.shape[0]\n",
    "    j = [forward_prop(x[i]) for i in range(n_particles)]\n",
    "    print(datetime.datetime.now().time())\n",
    "    return np.array(j)\n",
    "\n",
    "options = {'c1': 0.5, 'c2': 0.3, 'w':0.9}\n",
    "\n",
    "dimensions = 262\n",
    "optimizer = ps.single.GlobalBestPSO(n_particles=50, dimensions=dimensions, options=options)\n",
    "\n",
    "cost, pos = optimizer.optimize(f, iters=150, verbose=3)"
   ]
  },
  {
   "cell_type": "code",
   "execution_count": 14,
   "metadata": {},
   "outputs": [
    {
     "data": {
      "text/plain": [
       "array([ 0.7728372 ,  0.6668175 ,  1.42195686, -0.17950388,  0.96004353,\n",
       "        0.04427273, -0.98658678,  0.0569024 ,  0.61692163,  0.70618485,\n",
       "        1.05894514,  1.13934156,  0.38011545, -0.27422758, -0.27561171,\n",
       "        0.96773316,  0.70393285, -1.09932006,  0.01175288,  0.31470899,\n",
       "        0.00551762,  0.45799578,  0.59222261, -0.72806176,  1.25986842,\n",
       "        0.44982341,  1.15484734,  0.50243328,  0.33336085,  1.22492459,\n",
       "        0.70229788,  0.18211561, -0.69023281,  0.92209305, -0.65597546,\n",
       "        0.64368085,  0.59987489,  0.52816614,  0.94229512,  0.06615761,\n",
       "        1.18288676,  0.81597236,  0.70493371,  1.39753707,  1.44625366,\n",
       "        0.39405672,  0.661914  , -1.13790301,  0.91332064,  0.58955749,\n",
       "       -1.58519107, -0.16324987,  0.98988615,  0.93148286, -0.38027219,\n",
       "       -0.22078816,  1.51023421,  0.38501598,  0.49599435,  0.57636257,\n",
       "       -0.50278107,  0.30653975, -0.12740538, -0.19136702,  0.38580568,\n",
       "        0.65868119,  0.40391409,  1.14317745,  1.14694547,  0.58581634,\n",
       "        0.77349378, -0.26955988,  1.48486073,  0.45348861,  0.14945166,\n",
       "       -0.01464198,  1.27807833,  0.77301066,  0.01960114, -0.54855752,\n",
       "        1.81510781,  1.18132355,  0.13705208, -0.10870046,  1.55325194,\n",
       "        0.1736341 , -0.64529218, -0.1180352 , -0.49304316,  0.86093565,\n",
       "        0.33600934,  1.33123468,  0.70763714, -0.31815875,  1.67169553,\n",
       "        0.85620093,  0.3042832 ,  0.57936958,  0.39358868,  0.6155592 ,\n",
       "        0.72647578, -0.20736105,  0.6236566 ,  1.2847366 ,  0.81811905,\n",
       "        0.89020605,  0.65794302,  0.38180252,  0.11086969, -0.10363196,\n",
       "        1.06986637,  0.96232712, -0.66796952,  0.97445157,  0.4399188 ,\n",
       "        0.39356734,  1.2510539 , -0.54363632, -0.29644687,  0.02188716,\n",
       "       -0.03705852, -0.99701764, -1.78324917, -0.32501321,  0.45242027,\n",
       "       -0.38801521,  0.26371826,  0.22239781,  1.15345914, -0.07941578,\n",
       "       -0.213427  ,  0.06643391, -0.2415311 ,  0.4312177 , -0.26138616,\n",
       "       -0.37386026,  0.66199919, -0.39367011,  0.23468204,  0.1001307 ,\n",
       "       -0.17770265, -0.16564874,  1.14415394, -0.21806176,  0.20683896,\n",
       "        1.19631669,  0.27727333,  1.67700038,  0.92821552,  1.8965484 ,\n",
       "       -0.15238065,  0.52921594,  0.58185076, -0.15786677,  0.2789952 ,\n",
       "        0.49269551, -1.31196043, -0.27014399, -0.07482475,  0.61203094,\n",
       "       -0.2631041 , -0.53058191,  1.46496221, -0.33498601, -0.11492998,\n",
       "       -0.34540917,  0.09349949, -0.10443156,  0.14457637,  0.36387105,\n",
       "        0.56133411,  0.01139256, -0.63478995,  0.59609801,  0.16459352,\n",
       "       -0.08438869, -0.67247467,  1.31929952,  0.7418843 ,  0.29786024,\n",
       "        0.21650309,  1.87941098, -0.01042704,  1.15051848,  0.58361436,\n",
       "        0.38892859, -0.26867602,  0.09304623,  0.35217802, -0.20853395,\n",
       "       -0.20580766,  0.73818169,  0.79733862,  0.41035165,  0.1892366 ,\n",
       "        0.17990254,  0.55942979,  0.88793717,  0.18183013,  1.02282162,\n",
       "       -0.02715169, -0.56812384,  0.98501609,  0.20417168,  0.85005311,\n",
       "       -0.14581813, -0.69551195, -0.32698244,  0.6144202 , -0.70495052,\n",
       "        0.80042813,  0.14256195, -5.2024222 , -1.76008997,  0.63637306,\n",
       "        0.82511065, -0.30357811,  0.2356766 , -0.71637664,  0.20435561,\n",
       "        0.73678579,  0.76635625,  0.46401422,  1.57425838,  0.37304782,\n",
       "       -0.96821378,  0.76205517,  0.81837983, -0.01165136, -0.04235391,\n",
       "        0.85536889,  0.64953521,  1.16215732,  0.18919893, -0.25056157,\n",
       "        0.41141779,  0.37530327, -0.28193628, -0.29109681,  0.62133469,\n",
       "        0.63300606, -0.03004755,  0.28822415,  0.39826442,  0.67231121,\n",
       "        1.35312149, -0.13959211,  0.66065056,  0.87463076, -0.13006669,\n",
       "        0.72073977,  0.41748734, -0.34199511,  0.52591822,  0.35053155,\n",
       "        0.45932519, -0.00705043,  0.65589721, -0.51476851,  0.32723   ,\n",
       "        0.96654989, -0.06098448])"
      ]
     },
     "execution_count": 14,
     "metadata": {},
     "output_type": "execute_result"
    }
   ],
   "source": [
    "pos"
   ]
  },
  {
   "cell_type": "code",
   "execution_count": 15,
   "metadata": {},
   "outputs": [],
   "source": [
    "from pyswarms.utils.functions import single_obj as fx\n",
    "from pyswarms.utils.plotters import (plot_cost_history, plot_contour, plot_surface)"
   ]
  },
  {
   "cell_type": "code",
   "execution_count": 16,
   "metadata": {},
   "outputs": [
    {
     "data": {
      "image/png": "[encoded data removed]",
      "text/plain": [
       "<Figure size 720x576 with 1 Axes>"
      ]
     },
     "metadata": {
      "needs_background": "light"
     },
     "output_type": "display_data"
    }
   ],
   "source": [
    "plot_cost_history(cost_history=optimizer.cost_history)\n",
    "plt.show()"
   ]
  },
  {
   "cell_type": "code",
   "execution_count": 17,
   "metadata": {},
   "outputs": [],
   "source": [
    "def predict(X, pos):\n",
    "    \"\"\"\n",
    "    Use the trained weights to perform class predictions.\n",
    "\n",
    "    Inputs\n",
    "    ------\n",
    "    X: numpy.ndarray\n",
    "        Input Iris dataset\n",
    "    pos: numpy.ndarray\n",
    "        Position matrix found by the swarm. Will be rolled\n",
    "        into weights and biases.\n",
    "    \"\"\"\n",
    "    # Neural network architecture\n",
    "    n_inputs = 10\n",
    "    n_hidden = 20\n",
    "    n_classes = 2\n",
    "\n",
    "    # Roll-back the weights and biases\n",
    "    W1 = pos[0:200].reshape((n_inputs,n_hidden))\n",
    "    b1 = pos[200:220].reshape((n_hidden,))\n",
    "    W2 = pos[220:260].reshape((n_hidden,n_classes))\n",
    "    b2 = pos[260:262].reshape((n_classes,))\n",
    "\n",
    "    # Perform forward propagation\n",
    "    z1 = X.dot(W1) + b1  # Pre-activation in Layer 1\n",
    "    a1 = np.tanh(z1)     # Activation in Layer 1\n",
    "    z2 = a1.dot(W2) + b2 # Pre-activation in Layer 2\n",
    "    logits = z2          # Logits for Layer 2\n",
    "\n",
    "    y_pred = np.argmax(logits, axis=1)\n",
    "    return y_pred"
   ]
  },
  {
   "cell_type": "code",
   "execution_count": 18,
   "metadata": {},
   "outputs": [
    {
     "data": {
      "text/plain": [
       "0.9455985342447055"
      ]
     },
     "execution_count": 18,
     "metadata": {},
     "output_type": "execute_result"
    }
   ],
   "source": [
    "(predict(X,pos) == y).mean()\n"
   ]
  },
  {
   "cell_type": "code",
   "execution_count": null,
   "metadata": {},
   "outputs": [],
   "source": []
  }
 ],
 "metadata": {
  "kernelspec": {
   "display_name": "Python 3",
   "language": "python",
   "name": "python3"
  },
  "language_info": {
   "codemirror_mode": {
    "name": "ipython",
    "version": 3
   },
   "file_extension": ".py",
   "mimetype": "text/x-python",
   "name": "python",
   "nbconvert_exporter": "python",
   "pygments_lexer": "ipython3",
   "version": "3.7.3"
  }
 },
 "nbformat": 4,
 "nbformat_minor": 2
}
